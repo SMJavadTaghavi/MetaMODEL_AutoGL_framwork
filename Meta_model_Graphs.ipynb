{
  "cells": [
    {
      "cell_type": "markdown",
      "metadata": {
        "id": "BdQYVKP8fVwR"
      },
      "source": [
        "# **Install Required Packages**"
      ]
    },
    {
      "cell_type": "code",
      "execution_count": 1,
      "metadata": {
        "colab": {
          "base_uri": "https://localhost:8080/"
        },
        "collapsed": true,
        "id": "EfB4oLqQYEXS",
        "outputId": "0948f2b2-0453-41d7-df6b-c6c531430aec"
      },
      "outputs": [
        {
          "output_type": "stream",
          "name": "stdout",
          "text": [
            "Collecting torch_geometric\n",
            "  Downloading torch_geometric-2.6.1-py3-none-any.whl.metadata (63 kB)\n",
            "\u001b[?25l     \u001b[90m━━━━━━━━━━━━━━━━━━━━━━━━━━━━━━━━━━━━━━━━\u001b[0m \u001b[32m0.0/63.1 kB\u001b[0m \u001b[31m?\u001b[0m eta \u001b[36m-:--:--\u001b[0m\r\u001b[2K     \u001b[90m━━━━━━━━━━━━━━━━━━━━━━━━━━━━━━━━━━━━━━━━\u001b[0m \u001b[32m63.1/63.1 kB\u001b[0m \u001b[31m2.5 MB/s\u001b[0m eta \u001b[36m0:00:00\u001b[0m\n",
            "\u001b[?25hRequirement already satisfied: aiohttp in /usr/local/lib/python3.10/dist-packages (from torch_geometric) (3.10.10)\n",
            "Requirement already satisfied: fsspec in /usr/local/lib/python3.10/dist-packages (from torch_geometric) (2024.6.1)\n",
            "Requirement already satisfied: jinja2 in /usr/local/lib/python3.10/dist-packages (from torch_geometric) (3.1.4)\n",
            "Requirement already satisfied: numpy in /usr/local/lib/python3.10/dist-packages (from torch_geometric) (1.26.4)\n",
            "Requirement already satisfied: psutil>=5.8.0 in /usr/local/lib/python3.10/dist-packages (from torch_geometric) (5.9.5)\n",
            "Requirement already satisfied: pyparsing in /usr/local/lib/python3.10/dist-packages (from torch_geometric) (3.2.0)\n",
            "Requirement already satisfied: requests in /usr/local/lib/python3.10/dist-packages (from torch_geometric) (2.32.3)\n",
            "Requirement already satisfied: tqdm in /usr/local/lib/python3.10/dist-packages (from torch_geometric) (4.66.5)\n",
            "Requirement already satisfied: aiohappyeyeballs>=2.3.0 in /usr/local/lib/python3.10/dist-packages (from aiohttp->torch_geometric) (2.4.3)\n",
            "Requirement already satisfied: aiosignal>=1.1.2 in /usr/local/lib/python3.10/dist-packages (from aiohttp->torch_geometric) (1.3.1)\n",
            "Requirement already satisfied: attrs>=17.3.0 in /usr/local/lib/python3.10/dist-packages (from aiohttp->torch_geometric) (24.2.0)\n",
            "Requirement already satisfied: frozenlist>=1.1.1 in /usr/local/lib/python3.10/dist-packages (from aiohttp->torch_geometric) (1.4.1)\n",
            "Requirement already satisfied: multidict<7.0,>=4.5 in /usr/local/lib/python3.10/dist-packages (from aiohttp->torch_geometric) (6.1.0)\n",
            "Requirement already satisfied: yarl<2.0,>=1.12.0 in /usr/local/lib/python3.10/dist-packages (from aiohttp->torch_geometric) (1.16.0)\n",
            "Requirement already satisfied: async-timeout<5.0,>=4.0 in /usr/local/lib/python3.10/dist-packages (from aiohttp->torch_geometric) (4.0.3)\n",
            "Requirement already satisfied: MarkupSafe>=2.0 in /usr/local/lib/python3.10/dist-packages (from jinja2->torch_geometric) (3.0.2)\n",
            "Requirement already satisfied: charset-normalizer<4,>=2 in /usr/local/lib/python3.10/dist-packages (from requests->torch_geometric) (3.4.0)\n",
            "Requirement already satisfied: idna<4,>=2.5 in /usr/local/lib/python3.10/dist-packages (from requests->torch_geometric) (3.10)\n",
            "Requirement already satisfied: urllib3<3,>=1.21.1 in /usr/local/lib/python3.10/dist-packages (from requests->torch_geometric) (2.2.3)\n",
            "Requirement already satisfied: certifi>=2017.4.17 in /usr/local/lib/python3.10/dist-packages (from requests->torch_geometric) (2024.8.30)\n",
            "Requirement already satisfied: typing-extensions>=4.1.0 in /usr/local/lib/python3.10/dist-packages (from multidict<7.0,>=4.5->aiohttp->torch_geometric) (4.12.2)\n",
            "Requirement already satisfied: propcache>=0.2.0 in /usr/local/lib/python3.10/dist-packages (from yarl<2.0,>=1.12.0->aiohttp->torch_geometric) (0.2.0)\n",
            "Downloading torch_geometric-2.6.1-py3-none-any.whl (1.1 MB)\n",
            "\u001b[2K   \u001b[90m━━━━━━━━━━━━━━━━━━━━━━━━━━━━━━━━━━━━━━━━\u001b[0m \u001b[32m1.1/1.1 MB\u001b[0m \u001b[31m28.2 MB/s\u001b[0m eta \u001b[36m0:00:00\u001b[0m\n",
            "\u001b[?25hInstalling collected packages: torch_geometric\n",
            "Successfully installed torch_geometric-2.6.1\n"
          ]
        }
      ],
      "source": [
        "!pip install torch_geometric"
      ]
    },
    {
      "cell_type": "code",
      "execution_count": 2,
      "metadata": {
        "colab": {
          "base_uri": "https://localhost:8080/",
          "height": 1000
        },
        "collapsed": true,
        "id": "sAuS1gHpWNjd",
        "outputId": "3a72b146-507d-4a3b-da79-c181e5c02568"
      },
      "outputs": [
        {
          "output_type": "stream",
          "name": "stdout",
          "text": [
            "Collecting gensim==4.1.2\n",
            "  Downloading gensim-4.1.2.tar.gz (23.2 MB)\n",
            "\u001b[2K     \u001b[90m━━━━━━━━━━━━━━━━━━━━━━━━━━━━━━━━━━━━━━━━\u001b[0m \u001b[32m23.2/23.2 MB\u001b[0m \u001b[31m14.9 MB/s\u001b[0m eta \u001b[36m0:00:00\u001b[0m\n",
            "\u001b[?25h  Preparing metadata (setup.py) ... \u001b[?25l\u001b[?25hdone\n",
            "Collecting scipy==1.7.3\n",
            "  Downloading scipy-1.7.3-cp310-cp310-manylinux_2_17_x86_64.manylinux2014_x86_64.whl.metadata (2.2 kB)\n",
            "Requirement already satisfied: torch_geometric in /usr/local/lib/python3.10/dist-packages (2.6.1)\n",
            "Requirement already satisfied: numpy>=1.17.0 in /usr/local/lib/python3.10/dist-packages (from gensim==4.1.2) (1.26.4)\n",
            "Requirement already satisfied: smart_open>=1.8.1 in /usr/local/lib/python3.10/dist-packages (from gensim==4.1.2) (7.0.5)\n",
            "Collecting numpy>=1.17.0 (from gensim==4.1.2)\n",
            "  Downloading numpy-1.22.4-cp310-cp310-manylinux_2_17_x86_64.manylinux2014_x86_64.whl.metadata (2.0 kB)\n",
            "Requirement already satisfied: aiohttp in /usr/local/lib/python3.10/dist-packages (from torch_geometric) (3.10.10)\n",
            "Requirement already satisfied: fsspec in /usr/local/lib/python3.10/dist-packages (from torch_geometric) (2024.6.1)\n",
            "Requirement already satisfied: jinja2 in /usr/local/lib/python3.10/dist-packages (from torch_geometric) (3.1.4)\n",
            "Requirement already satisfied: psutil>=5.8.0 in /usr/local/lib/python3.10/dist-packages (from torch_geometric) (5.9.5)\n",
            "Requirement already satisfied: pyparsing in /usr/local/lib/python3.10/dist-packages (from torch_geometric) (3.2.0)\n",
            "Requirement already satisfied: requests in /usr/local/lib/python3.10/dist-packages (from torch_geometric) (2.32.3)\n",
            "Requirement already satisfied: tqdm in /usr/local/lib/python3.10/dist-packages (from torch_geometric) (4.66.5)\n",
            "Requirement already satisfied: wrapt in /usr/local/lib/python3.10/dist-packages (from smart_open>=1.8.1->gensim==4.1.2) (1.16.0)\n",
            "Requirement already satisfied: aiohappyeyeballs>=2.3.0 in /usr/local/lib/python3.10/dist-packages (from aiohttp->torch_geometric) (2.4.3)\n",
            "Requirement already satisfied: aiosignal>=1.1.2 in /usr/local/lib/python3.10/dist-packages (from aiohttp->torch_geometric) (1.3.1)\n",
            "Requirement already satisfied: attrs>=17.3.0 in /usr/local/lib/python3.10/dist-packages (from aiohttp->torch_geometric) (24.2.0)\n",
            "Requirement already satisfied: frozenlist>=1.1.1 in /usr/local/lib/python3.10/dist-packages (from aiohttp->torch_geometric) (1.4.1)\n",
            "Requirement already satisfied: multidict<7.0,>=4.5 in /usr/local/lib/python3.10/dist-packages (from aiohttp->torch_geometric) (6.1.0)\n",
            "Requirement already satisfied: yarl<2.0,>=1.12.0 in /usr/local/lib/python3.10/dist-packages (from aiohttp->torch_geometric) (1.16.0)\n",
            "Requirement already satisfied: async-timeout<5.0,>=4.0 in /usr/local/lib/python3.10/dist-packages (from aiohttp->torch_geometric) (4.0.3)\n",
            "Requirement already satisfied: MarkupSafe>=2.0 in /usr/local/lib/python3.10/dist-packages (from jinja2->torch_geometric) (3.0.2)\n",
            "Requirement already satisfied: charset-normalizer<4,>=2 in /usr/local/lib/python3.10/dist-packages (from requests->torch_geometric) (3.4.0)\n",
            "Requirement already satisfied: idna<4,>=2.5 in /usr/local/lib/python3.10/dist-packages (from requests->torch_geometric) (3.10)\n",
            "Requirement already satisfied: urllib3<3,>=1.21.1 in /usr/local/lib/python3.10/dist-packages (from requests->torch_geometric) (2.2.3)\n",
            "Requirement already satisfied: certifi>=2017.4.17 in /usr/local/lib/python3.10/dist-packages (from requests->torch_geometric) (2024.8.30)\n",
            "Requirement already satisfied: typing-extensions>=4.1.0 in /usr/local/lib/python3.10/dist-packages (from multidict<7.0,>=4.5->aiohttp->torch_geometric) (4.12.2)\n",
            "Requirement already satisfied: propcache>=0.2.0 in /usr/local/lib/python3.10/dist-packages (from yarl<2.0,>=1.12.0->aiohttp->torch_geometric) (0.2.0)\n",
            "Downloading scipy-1.7.3-cp310-cp310-manylinux_2_17_x86_64.manylinux2014_x86_64.whl (39.9 MB)\n",
            "\u001b[2K   \u001b[90m━━━━━━━━━━━━━━━━━━━━━━━━━━━━━━━━━━━━━━━━\u001b[0m \u001b[32m39.9/39.9 MB\u001b[0m \u001b[31m14.4 MB/s\u001b[0m eta \u001b[36m0:00:00\u001b[0m\n",
            "\u001b[?25hDownloading numpy-1.22.4-cp310-cp310-manylinux_2_17_x86_64.manylinux2014_x86_64.whl (16.8 MB)\n",
            "\u001b[2K   \u001b[90m━━━━━━━━━━━━━━━━━━━━━━━━━━━━━━━━━━━━━━━━\u001b[0m \u001b[32m16.8/16.8 MB\u001b[0m \u001b[31m50.9 MB/s\u001b[0m eta \u001b[36m0:00:00\u001b[0m\n",
            "\u001b[?25hBuilding wheels for collected packages: gensim\n",
            "  Building wheel for gensim (setup.py) ... \u001b[?25l\u001b[?25hdone\n",
            "  Created wheel for gensim: filename=gensim-4.1.2-cp310-cp310-linux_x86_64.whl size=25996679 sha256=2fc9f5dd068b1def5930f3285bce97dd045d8e9f356020a243596c4d1ff459b2\n",
            "  Stored in directory: /root/.cache/pip/wheels/13/35/4e/dca2954de21981d0a137ff930239f0767403a617e32f19f04f\n",
            "Successfully built gensim\n",
            "Installing collected packages: numpy, scipy, gensim\n",
            "  Attempting uninstall: numpy\n",
            "    Found existing installation: numpy 1.26.4\n",
            "    Uninstalling numpy-1.26.4:\n",
            "      Successfully uninstalled numpy-1.26.4\n",
            "  Attempting uninstall: scipy\n",
            "    Found existing installation: scipy 1.13.1\n",
            "    Uninstalling scipy-1.13.1:\n",
            "      Successfully uninstalled scipy-1.13.1\n",
            "  Attempting uninstall: gensim\n",
            "    Found existing installation: gensim 4.3.3\n",
            "    Uninstalling gensim-4.3.3:\n",
            "      Successfully uninstalled gensim-4.3.3\n",
            "\u001b[31mERROR: pip's dependency resolver does not currently take into account all the packages that are installed. This behaviour is the source of the following dependency conflicts.\n",
            "albucore 0.0.16 requires numpy>=1.24, but you have numpy 1.22.4 which is incompatible.\n",
            "albumentations 1.4.15 requires numpy>=1.24.4, but you have numpy 1.22.4 which is incompatible.\n",
            "albumentations 1.4.15 requires scipy>=1.10.0, but you have scipy 1.7.3 which is incompatible.\n",
            "arviz 0.19.0 requires numpy>=1.23.0, but you have numpy 1.22.4 which is incompatible.\n",
            "arviz 0.19.0 requires scipy>=1.9.0, but you have scipy 1.7.3 which is incompatible.\n",
            "astropy 6.1.4 requires numpy>=1.23, but you have numpy 1.22.4 which is incompatible.\n",
            "bigframes 1.22.0 requires numpy>=1.24.0, but you have numpy 1.22.4 which is incompatible.\n",
            "chex 0.1.87 requires numpy>=1.24.1, but you have numpy 1.22.4 which is incompatible.\n",
            "contourpy 1.3.0 requires numpy>=1.23, but you have numpy 1.22.4 which is incompatible.\n",
            "cudf-cu12 24.10.1 requires numpy<3.0a0,>=1.23, but you have numpy 1.22.4 which is incompatible.\n",
            "ibis-framework 9.2.0 requires numpy<3,>=1.23.2, but you have numpy 1.22.4 which is incompatible.\n",
            "jax 0.4.33 requires numpy>=1.24, but you have numpy 1.22.4 which is incompatible.\n",
            "jax 0.4.33 requires scipy>=1.10, but you have scipy 1.7.3 which is incompatible.\n",
            "jaxlib 0.4.33 requires numpy>=1.24, but you have numpy 1.22.4 which is incompatible.\n",
            "jaxlib 0.4.33 requires scipy>=1.10, but you have scipy 1.7.3 which is incompatible.\n",
            "mizani 0.11.4 requires numpy>=1.23.0, but you have numpy 1.22.4 which is incompatible.\n",
            "numexpr 2.10.1 requires numpy>=1.23.0, but you have numpy 1.22.4 which is incompatible.\n",
            "nx-cugraph-cu12 24.10.0 requires numpy<3.0a0,>=1.23, but you have numpy 1.22.4 which is incompatible.\n",
            "pandas-stubs 2.2.2.240909 requires numpy>=1.23.5, but you have numpy 1.22.4 which is incompatible.\n",
            "plotnine 0.13.6 requires numpy>=1.23.0, but you have numpy 1.22.4 which is incompatible.\n",
            "pylibraft-cu12 24.10.0 requires numpy<3.0a0,>=1.23, but you have numpy 1.22.4 which is incompatible.\n",
            "rmm-cu12 24.10.0 requires numpy<3.0a0,>=1.23, but you have numpy 1.22.4 which is incompatible.\n",
            "scikit-image 0.24.0 requires numpy>=1.23, but you have numpy 1.22.4 which is incompatible.\n",
            "scikit-image 0.24.0 requires scipy>=1.9, but you have scipy 1.7.3 which is incompatible.\n",
            "statsmodels 0.14.4 requires scipy!=1.9.2,>=1.8, but you have scipy 1.7.3 which is incompatible.\n",
            "tensorflow 2.17.0 requires numpy<2.0.0,>=1.23.5; python_version <= \"3.11\", but you have numpy 1.22.4 which is incompatible.\n",
            "xarray 2024.9.0 requires numpy>=1.24, but you have numpy 1.22.4 which is incompatible.\n",
            "xarray-einstats 0.8.0 requires numpy>=1.23, but you have numpy 1.22.4 which is incompatible.\n",
            "xarray-einstats 0.8.0 requires scipy>=1.9, but you have scipy 1.7.3 which is incompatible.\u001b[0m\u001b[31m\n",
            "\u001b[0mSuccessfully installed gensim-4.1.2 numpy-1.22.4 scipy-1.7.3\n"
          ]
        },
        {
          "output_type": "display_data",
          "data": {
            "application/vnd.colab-display-data+json": {
              "pip_warning": {
                "packages": [
                  "numpy"
                ]
              },
              "id": "0b068a5df8814d21806ce826a059cc2b"
            }
          },
          "metadata": {}
        }
      ],
      "source": [
        "!pip install gensim==4.1.2 scipy==1.7.3 torch_geometric"
      ]
    },
    {
      "cell_type": "code",
      "execution_count": 3,
      "metadata": {
        "collapsed": true,
        "id": "O0L_udB3f0ZK",
        "colab": {
          "base_uri": "https://localhost:8080/"
        },
        "outputId": "77e1d36c-9206-4fcb-a653-e60dd99f8bef"
      },
      "outputs": [
        {
          "output_type": "stream",
          "name": "stderr",
          "text": [
            "/usr/local/lib/python3.10/dist-packages/scipy/__init__.py:146: UserWarning: A NumPy version >=1.16.5 and <1.23.0 is required for this version of SciPy (detected version 1.26.4\n",
            "  warnings.warn(f\"A NumPy version >={np_minversion} and <{np_maxversion}\"\n"
          ]
        }
      ],
      "source": [
        "# Step 1: Import libraries\n",
        "import os\n",
        "import glob\n",
        "import yaml\n",
        "import csv\n",
        "import numpy as np\n",
        "import pandas as pd\n",
        "import torch\n",
        "import networkx as nx\n",
        "from pathlib import Path\n",
        "from sklearn.preprocessing import OneHotEncoder\n",
        "from torch_geometric.data import Data, HeteroData\n",
        "from networkx.readwrite import json_graph\n",
        "# Uncomment the following lines if these modules are part of your project\n",
        "# from extractElements import extractElements\n",
        "# from create_graph import CreateGraph\n",
        "# from load_yml import ModelConfigLoader\n",
        "# from GCN_GAT import GCN, GAT\n",
        "# from gensim.models import Word2Vec\n"
      ]
    },
    {
      "cell_type": "markdown",
      "metadata": {
        "id": "eXLXPTf8lqJz"
      },
      "source": [
        "# **Check if GPU is available**"
      ]
    },
    {
      "cell_type": "code",
      "execution_count": 4,
      "metadata": {
        "colab": {
          "base_uri": "https://localhost:8080/"
        },
        "id": "HVXFAFi5ltxv",
        "outputId": "e43a10ad-8f38-4018-a033-87b43b7a6482"
      },
      "outputs": [
        {
          "output_type": "stream",
          "name": "stdout",
          "text": [
            "Using device: cuda\n"
          ]
        }
      ],
      "source": [
        "# Check if GPU is available\n",
        "device = torch.device('cuda' if torch.cuda.is_available() else 'cpu')\n",
        "print(f\"Using device: {device}\")"
      ]
    },
    {
      "cell_type": "markdown",
      "source": [
        "graph to data & data to graph"
      ],
      "metadata": {
        "id": "ngFKtINNX8Qg"
      }
    },
    {
      "cell_type": "code",
      "execution_count": 5,
      "metadata": {
        "id": "OVJGqCIdPVuK"
      },
      "outputs": [],
      "source": [
        "edge_types = []\n",
        "\n",
        "\n",
        "\n",
        "class Node:\n",
        "  def __init__(self, filename):\n",
        "    self.data, self.attributes = self.load_data(filename)\n",
        "\n",
        "  def load_data(self, filename):\n",
        "    df = pd.read_csv(filename)\n",
        "    filename = Path(filename).name\n",
        "    node_type = filename.rsplit(\"_\", 1)[0]\n",
        "    src = node_type.split(\"_\")[0]\n",
        "    id_col = f\"{src}Id\"\n",
        "    attributes = df[list(df.columns)[1:]]\n",
        "    data = df[[id_col, 'graphNumber']]\n",
        "    return data, attributes\n",
        "\n",
        "class Edge:\n",
        "  def __init__(self, filename):\n",
        "    self.data, self.attributes = self.load_data(filename)\n",
        "\n",
        "  def load_data(self, filename):\n",
        "      df = pd.read_csv(filename)\n",
        "      filename = Path(filename).name\n",
        "      edge_type = filename.rsplit(\"_\", 1)[0]\n",
        "\n",
        "      # edge_type = Path(filename).rsplit(\"_\", 1)[0]\n",
        "\n",
        "      m = re.match(r\"^(.*)_(.*)$\", edge_type)\n",
        "      if m:\n",
        "          parts = m.groups()\n",
        "      else:\n",
        "          raise ValueError(...)\n",
        "\n",
        "      src = parts[0]\n",
        "      dst = parts[1]\n",
        "\n",
        "      src_col = f\"sr{src}Id\"\n",
        "      dst_col = f\"ds{dst}Id\"\n",
        "      attributes = list(df.columns)[2:]\n",
        "      data = df[[src_col, dst_col]]\n",
        "      return data, attributes\n",
        "class CreateGraph:\n",
        "    def __init__(self, data_path, filters):\n",
        "        self.nodes = {}\n",
        "        self.edges = {}\n",
        "        self.filters = filters\n",
        "        self.metamodel_config = []\n",
        "\n",
        "\n",
        "        node_files = self.get_node_files(data_path)\n",
        "        for file in node_files:\n",
        "            filename = Path(file).name\n",
        "            node_type = filename.rsplit(\"_\", 1)[0]\n",
        "\n",
        "            # edge_type = file?name.rsplit(\"_\", 1)[0]\n",
        "            self.nodes[node_type] = Node(file)\n",
        "\n",
        "        edge_files = self.get_edge_files(data_path)\n",
        "        for file in edge_files:\n",
        "            filename = Path(file).name\n",
        "            edge_type = filename.rsplit(\"_\", 1)[0]\n",
        "            self.edges[edge_type] = Edge(file)\n",
        "        self.edit_data()\n",
        "\n",
        "\n",
        "    #edit nodes and edges data according ti Yaml file\n",
        "    def edit_data(self):\n",
        "        nodes_copy = self.nodes.copy()\n",
        "        edges_copy = self.edges.copy()\n",
        "\n",
        "\n",
        "        for node_type, node in nodes_copy.items():\n",
        "            include = self.filters.get(\"classes\").get(\"include\")\n",
        "\n",
        "            exclude = self.filters.get(\"classes\").get(\"exclude\")\n",
        "            if (include is not None and node_type not in include) or (exclude is not None and node in exclude):\n",
        "                del self.nodes[node_type]\n",
        "\n",
        "            # include or exclude the attributes of classes\n",
        "            # By Default, the attributes of nodes are not considered\n",
        "            # But they are considered if includeAllAttributes = true\n",
        "\n",
        "            if self.filters.get(\"classes\").get(\"includeAllAttributes\") == False or self.filters.get(\"classes\").get(\"excludeAllAttributes\") == True:\n",
        "                if self.nodes.get(node_type) is not None:\n",
        "                    self.nodes[node_type].attributes = []\n",
        "\n",
        "        for edge in edges_copy:\n",
        "            # print(\"edges\", edge)\n",
        "            edge_type_parts = edge.split(\"_\")\n",
        "            source_node=edge_type_parts[0]\n",
        "            destination_node = edge_type_parts[1]\n",
        "            if include is not None and (source_node and destination_node) not in include:\n",
        "                del self.edges[edge]\n",
        "            if exclude is not None and (source_node or destination_node) in exclude:\n",
        "                del self.edges[edge]\n",
        "\n",
        "\n",
        "    def get_node_files(self, data_path):\n",
        "        return glob.glob(f\"{data_path}/nodes/*.csv\")\n",
        "\n",
        "    def get_edge_files(self, data_path):\n",
        "        return glob.glob(f\"{data_path}/edges/*.csv\")\n",
        "\n",
        "    def get_edge_type(self, filename):\n",
        "        return Path(filename).stem\n",
        "\n",
        "    def onehot_encode(self, encoding, col, value):\n",
        "        unique = list(encoding[col][\"unique_values\"])\n",
        "        num_rows = len(unique)\n",
        "\n",
        "        # Reshape based on number of rows\n",
        "        unique = np.reshape(unique, (num_rows, 1))\n",
        "\n",
        "        encoder = OneHotEncoder()\n",
        "        encoder.fit(unique)\n",
        "        val = np.array(value)\n",
        "\n",
        "        val = val.reshape(1, -1)\n",
        "        new_val = encoder.transform(val).toarray()\n",
        "        return new_val\n",
        "\n",
        "    def word2vec_encode(self, encoding, col, value):\n",
        "        unique_names = encoding[col][\"unique_values\"]\n",
        "        names = [[word] for word in unique_names]\n",
        "        modelnamestates = Word2Vec(names, min_count=1)\n",
        "        modelnamestates.save('word2vec.modelnamestate')\n",
        "        import gensim\n",
        "        modelnamestates = gensim.models.Word2Vec.load('word2vec.modelnamestate')\n",
        "        all_embeddings_namestates = {}\n",
        "        for word in unique_names:\n",
        "            if word in modelnamestates.wv:\n",
        "                embedding = modelnamestates.wv[word]\n",
        "                all_embeddings_namestates[word] = embedding\n",
        "\n",
        "        new_val = all_embeddings_namestates[value]\n",
        "        return new_val\n",
        "\n",
        "    def worde4mde (self, value):\n",
        "        sgram_mde = load_embeddings('sgram-mde')\n",
        "        new_val = sgram_mde[value]\n",
        "        return new_val\n",
        "\n",
        "    def model2heterograph(self) -> HeteroData:\n",
        "        graphs = {}\n",
        "        # data = HeteroData()\n",
        "\n",
        "        for node_type, node in self.nodes.items():\n",
        "            encoding = {}\n",
        "            # unique_values = set()\n",
        "            columns = list(node.attributes)\n",
        "            for column in columns:\n",
        "                if self.filters.get('classes', {}).get(node_type, {}).get('features', {}).get(column, {}).get(\n",
        "                        'encoding') is not None:\n",
        "                    encoding[column] = {}\n",
        "                    encoding[column][\"enc_type\"] = self.filters.get('classes', {}).get(node_type, {}).get('features',\n",
        "                                                                                                          {}).get(\n",
        "                        column, {}).get(\n",
        "                        'encoding')\n",
        "                    unique_values = set(node.attributes[column])\n",
        "                    encoding[column][\"unique_values\"] = unique_values\n",
        "            for _, row in node.data.iterrows():\n",
        "                graphNum = row[\"graphNumber\"]\n",
        "                if graphs.get(graphNum) is None:\n",
        "                    G = HeteroData()\n",
        "                    graphs[graphNum] = G\n",
        "                else:\n",
        "                    G = graphs[graphNum]\n",
        "\n",
        "                id = node_type.split(\"_\")[0]\n",
        "                attr_dict = {}\n",
        "\n",
        "                for col in node.attributes.columns:\n",
        "                    for val in node.attributes[col]:\n",
        "                        if encoding.get(col) is not None:\n",
        "                            if encoding[col][\"enc_type\"] == \"one-hot\":\n",
        "                                new_val = self.onehot_encode(encoding,col, val)\n",
        "                            if encoding[col][\"enc_type\"] == \"word2vec\":\n",
        "                                new_val= self.word2vec_encode(encoding, col, val)\n",
        "                            if encoding[col][\"enc_type\"] == \"worde4mde\":\n",
        "                                new_val = self.worde4mde(val)\n",
        "                            val = new_val\n",
        "                        attr_dict[col] = val\n",
        "                G[node_type].x = attr_dict\n",
        "\n",
        "        for edge_type, edge in self.edges.items():\n",
        "            for _, row in edge.data.iterrows():\n",
        "                src = edge_type.split(\"_\")[0]\n",
        "                dst = edge_type.split(\"_\")[1]\n",
        "                G[edge_type].edge_index = self.get_edge_index(edge.data, src, dst)\n",
        "                G[edge_type].attrs = edge.attributes\n",
        "\n",
        "        for edge_type, edge in self.edges.items():\n",
        "            src = edge_type.split(\"_\")[0]\n",
        "            dst = edge_type.split(\"_\")[1]\n",
        "\n",
        "            G[edge_type].edge_index = self.get_edge_index(edge.data, src, dst)\n",
        "            # data[edge_type].edge_index = self.get_edge_index(edge.data)\n",
        "            G[edge_type].attrs = edge.attributes\n",
        "\n",
        "\n",
        "        return graphs\n",
        "\n",
        "    def get_edge_index(self, edge_data, src, dst):\n",
        "        src_col = f\"sr{src}Id\"\n",
        "        dst_col = f\"ds{dst}Id\"\n",
        "        return edge_data[[src_col, dst_col]].values\n",
        "\n",
        "    def model2HomoGraph(self) -> nx.Graph:\n",
        "        graphs = {}\n",
        "        ids = {}\n",
        "\n",
        "\n",
        "        # Add nodes\n",
        "        for node_type, node in self.nodes.items():\n",
        "            encoding = {}\n",
        "            columns = list(node.attributes)\n",
        "            for column in columns:\n",
        "                if self.filters.get('classes', {}).get(node_type, {}).get('features', {}).get(column, {}).get(\n",
        "                    'encoding') is not None:\n",
        "                    encoding[column] = {}\n",
        "                    encoding[column][\"enc_type\"] = self.filters.get('classes', {}).get(node_type, {}).get('features', {}).get(column, {}).get(\n",
        "                    'encoding')\n",
        "                    unique_values = set(node.attributes[column])\n",
        "                    encoding[column][\"unique_values\"] = unique_values\n",
        "\n",
        "            index = 0\n",
        "            for _, row in node.data.iterrows():\n",
        "                graphNum = row[\"graphNumber\"]\n",
        "                # Create graph if not exists\n",
        "                if graphs.get(graphNum) is None:\n",
        "                    G = nx.MultiDiGraph()\n",
        "                    graphs[graphNum] = G\n",
        "                    ids[graphNum] =0\n",
        "\n",
        "                    # Create new graph\n",
        "                    # Add to graphs list\n",
        "                else:\n",
        "                    # Get existing graph\n",
        "\n",
        "                    G = graphs[graphNum]\n",
        "                id = node_type.split(\"_\")[0]\n",
        "                nid = row[f\"{id}Id\"]\n",
        "                node.data.loc[index, 'newId'] = ids[graphNum]\n",
        "                index += 1\n",
        "                newId = ids[graphNum]\n",
        "                ids[graphNum] += 1\n",
        "\n",
        "                G.add_node(newId)\n",
        "                G.nodes[newId]['type'] = node_type\n",
        "                for col in node.attributes.columns:\n",
        "                    for val in node.attributes[col]:\n",
        "                        if encoding.get(col) is not None:\n",
        "                            if encoding[col][\"enc_type\"] == \"one-hot\":\n",
        "                                new_val = self.onehot_encode(encoding,col, val)\n",
        "                            if encoding[col][\"enc_type\"] == \"word2vec\":\n",
        "                                new_val= self.word2vec_encode(encoding, col, val)\n",
        "                            if encoding[col][\"enc_type\"] == \"worde4mde\":\n",
        "                                new_val = self.worde4mde(val)\n",
        "\n",
        "                                # new_val = new_val.reshape(1, -1)\n",
        "                            val = new_val\n",
        "\n",
        "                        G.nodes[newId][col] = val\n",
        "\n",
        "\n",
        "        # Add edges\n",
        "        for edge_type, edge in self.edges.items():\n",
        "\n",
        "            for _, row in edge.data.iterrows():\n",
        "                part1 = edge_type.split(\"_\")[0]\n",
        "                part2 = edge_type.split(\"_\")[1]\n",
        "                src = row[f\"sr{part1}Id\"]\n",
        "                dst = row[f\"ds{part2}Id\"]\n",
        "\n",
        "                newsrc = int(self.nodes[part1].data.loc[self.nodes[part1].data[f\"{part1}Id\"] == src, 'newId'].iloc[0])\n",
        "                newdst = int(self.nodes[part2].data.loc[self.nodes[part2].data[f\"{part2}Id\"] == dst, 'newId'].iloc[0])\n",
        "\n",
        "                graph_number =  self.nodes[part1].data.loc[self.nodes[part1].data[f\"{part1}Id\"] == src, 'graphNumber'].iloc[0]\n",
        "                print(\"before:\")\n",
        "                print(\"g nodes:\", G.nodes)\n",
        "                graphs[graph_number].add_edge(newsrc, newdst)\n",
        "\n",
        "\n",
        "        return graphs"
      ]
    },
    {
      "cell_type": "markdown",
      "metadata": {
        "id": "QvQYr9LEhRTa"
      },
      "source": [
        "# **Extract elements**"
      ]
    },
    {
      "cell_type": "code",
      "execution_count": 6,
      "metadata": {
        "id": "thyj6N2-f0Ue"
      },
      "outputs": [],
      "source": [
        "import csv\n",
        "import glob\n",
        "import os\n",
        "from collections.abc import Iterable\n",
        "# from org.eclipse.emf import ecore\n",
        "# from pyecore.ecore import EAttribute\n",
        "# from pyecore.ecore import EStructuralFeature\n",
        "# from pyecore.ecore import EOrderedSet\n",
        "# from pyecore.ecore import EClass"
      ]
    },
    {
      "cell_type": "code",
      "execution_count": 7,
      "metadata": {
        "id": "w3_tfwIni_rb"
      },
      "outputs": [],
      "source": [
        "# from ecore import EAttribute"
      ]
    },
    {
      "cell_type": "code",
      "execution_count": 8,
      "metadata": {
        "id": "Qk-gtMQai_6c"
      },
      "outputs": [],
      "source": [
        "# import networkx as nx\n",
        "import yaml\n",
        "# from pyecore.ecore import EEnum\n",
        "# from pyecore.resources import ResourceSet, URI\n"
      ]
    },
    {
      "cell_type": "code",
      "execution_count": 9,
      "metadata": {
        "id": "BEslyPO2jAD_"
      },
      "outputs": [],
      "source": [
        "import csv\n",
        "import os\n",
        "class extractElements:\n",
        "    case = \"xmi\"\n",
        "    ecoreNumber = 0\n",
        "    featureTypes = []\n",
        "    graphNo = 0\n",
        "    nodeLabel = 1\n",
        "    Graphs = []\n",
        "    attributeNames = {}\n",
        "    classes = dict()\n",
        "    directories = 1\n",
        "    filenumber = 0\n",
        "    yamlexistance = 0\n",
        "    mapvalue = {}\n",
        "    yamlcontents = {}\n",
        "    referenceNames = {}\n",
        "    IDs = {}\n",
        "    graphAttributes = {}\n",
        "    visitednodes = []\n",
        "    jsondata = {}\n",
        "    visited = []\n",
        "    queue = []\n",
        "    pathfile = None\n",
        "    yamlFeatures = {}\n",
        "    yamlclasses = {'include': [], 'exclude': []}\n",
        "    modelData = {}\n",
        "    csvData = {}\n",
        "    refFeatures = []\n",
        "    csvEdgesData = {}\n",
        "    folder = \"\"\n",
        "    ids = {}\n",
        "\n",
        "    graphNumber = 0\n",
        "\n",
        "    def __init__(self, models_path: str, metamodel_path:str):\n",
        "        self.models_path = models_path\n",
        "        self.metamodel_path = metamodel_path\n",
        "\n",
        "        self.load_config()\n",
        "        self.load_metamodel(metamodel_path)\n",
        "        self.process_models(models_path)\n",
        "\n",
        "        #check the format of input models in Yaml\n",
        "    def load_config(self) -> None:\n",
        "\n",
        "        self.current_dir = os.path.dirname(__file__)\n",
        "        config_file = os.path.join(self.current_dir, 'config.yaml')\n",
        "        with open(config_file) as f:\n",
        "            self.yamlcontents = yaml.load(f, Loader=yaml.FullLoader)\n",
        "        self.case = self.yamlcontents['inputmodels']['format']\n",
        "\n",
        "    def load_metamodel(self, metamodel_path) -> None:\n",
        "        rset = ResourceSet()\n",
        "        resource = rset.get_resource(URI(metamodel_path))\n",
        "        self.meta_root = resource.contents[0]\n",
        "\n",
        "    def process_models(self, models_path) -> None:\n",
        "        if self.case == \"ecore\":\n",
        "            self.load_ecore_models(models_path)\n",
        "        elif self.case == \"xmi\":\n",
        "            self.load_xmi_models(models_path)\n",
        "        self.create_edges()\n",
        "        self.create_csv()\n",
        "\n",
        "    def load_ecore_models(self, models_path):\n",
        "\n",
        "        os.chdir(models_path)\n",
        "\n",
        "        for file in glob.glob(\"*.ecore\"):\n",
        "            print(\"file is\", file)\n",
        "            ecore_file = os.path.join(models_path, file)\n",
        "\n",
        "            self.rset = ResourceSet()\n",
        "            resource = self.rset.get_resource(URI(ecore_file))\n",
        "            model_root = resource.contents[0]\n",
        "\n",
        "            self.ecoreNumber += 1\n",
        "            self.create_nodes(model_root, self.meta_root)\n",
        "\n",
        "    def load_xmi_models(self, models_path):\n",
        "\n",
        "        os.chdir(models_path)\n",
        "\n",
        "        self.rset.metamodel_registry[self.meta_root.nsURI] = self.meta_root\n",
        "\n",
        "        for file in glob.glob(\"*.xmi\"):\n",
        "            xmi_file = os.path.join(models_path, file)\n",
        "\n",
        "            resource = self.rset.get_resource(URI(xmi_file))\n",
        "            model_root = resource.contents[0]\n",
        "\n",
        "            self.filenumber += 1\n",
        "            self.create_nodes(model_root, self.meta_root)\n",
        "\n",
        "\n",
        "\n",
        "    def checkYaml(self, mmroot, model, elementType, case, element=None, ):\n",
        "        print(\"checkyaml is\", \"mmroot=\", mmroot, \"model is=\", model, \"elementType=\", elementType, \"case=\", case,\n",
        "              \"element=\", element)\n",
        "        metamodel_name = mmroot.name\n",
        "        metamodel_nsURI = mmroot.nsURI\n",
        "        modelName = model.eClass.name\n",
        "        print(\"element is=\", element)\n",
        "        if element != None:\n",
        "            elementName = element.name\n",
        "        # print(\"model in checkyaml:\", modelName)\n",
        "        if self.yamlexistance == 0:\n",
        "            print(\"yaml 0\")\n",
        "            return True\n",
        "        elif case == \"include\" and elementType == \"class\":\n",
        "            print(\"checking existance\")\n",
        "\n",
        "            print(\"meta name=\", metamodel_name)\n",
        "            print(\"ns is\", metamodel_nsURI)\n",
        "            print(\"modelName=\", modelName)\n",
        "            if ((self.deep_get(self.yamlcontents,\n",
        "                               ['adaptations', 'metamodels', 'packages', metamodel_name,\n",
        "                                'uri', mmroot.nsURI, 'classes',\n",
        "                                'exclude']) != None and modelName in self.deep_get(\n",
        "                self.yamlcontents,\n",
        "                ['adaptations', 'metamodels', 'packages', metamodel_name, 'uri', mmroot.nsURI, 'classes',\n",
        "                 'exclude'])) or (self.deep_get(self.yamlcontents,\n",
        "                                                ['adaptations', 'metamodels', 'packages', metamodel_name, 'uri',\n",
        "                                                 mmroot.nsURI, 'classes',\n",
        "                                                 'include']) != None and modelName not in self.deep_get(\n",
        "                self.yamlcontents,\n",
        "                ['adaptations', 'metamodels', 'packages', metamodel_name, 'uri', mmroot.nsURI, 'classes',\n",
        "                 'include']))):\n",
        "                print(\"model True\")\n",
        "                return False\n",
        "            else:\n",
        "                return True\n",
        "        elif elementType == \"feature\" and case == \"existance\":\n",
        "            print(\"here feature existance\")\n",
        "            if self.deep_get(self.yamlcontents,\n",
        "                             ['adaptations', 'metamodels', 'packages', metamodel_name, 'uri', mmroot.nsURI,\n",
        "                              'classes', modelName, 'features', elementName, 'isIncluded']) != None:\n",
        "                if self.deep_get(self.yamlcontents,\n",
        "                                 ['adaptations', 'metamodels', 'packages', metamodel_name, 'uri', mmroot.nsURI,\n",
        "                                  'classes', modelName, 'features', elementName, 'isIncluded']) == \"False\":\n",
        "                    print(\"return False1\")\n",
        "                    return False\n",
        "\n",
        "\n",
        "\n",
        "\n",
        "\n",
        "            elif (self.deep_get(self.yamlcontents,\n",
        "                                ['adaptations', 'metamodels', 'packages', metamodel_name, 'uri', mmroot.nsURI,\n",
        "                                 'classes', modelName, \"include\"]) != None and elementName not in self.deep_get(\n",
        "                self.yamlcontents, ['adaptations', 'metamodels', 'packages', metamodel_name, 'uri', mmroot.nsURI,\n",
        "                                    'classes', modelName, \"include\"])):\n",
        "                print(\"return False2\")\n",
        "                return False\n",
        "            elif self.deep_get(self.yamlcontents,\n",
        "                               ['adaptations', 'metamodels', 'packages', metamodel_name, 'uri', mmroot.nsURI,\n",
        "                                'classes', \"excludeAllAttributes\"]) == \"True\":\n",
        "                print(\"return False3\")\n",
        "                return False\n",
        "            else:\n",
        "                print(\"return True\")\n",
        "                return True\n",
        "        elif case == \"renaming\":\n",
        "            print(\"yamlcontent::\", self.yamlcontents)\n",
        "            print(\"renaming\")\n",
        "            print(\"metaname:\", metamodel_name)\n",
        "            print(\"model\", modelName)\n",
        "            print(\"element:\", elementName)\n",
        "            print(\"rename value==\", self.deep_get(self.yamlcontents,\n",
        "                                                  ['adaptations', 'metamodels', 'packages', metamodel_name, 'uri',\n",
        "                                                   mmroot.nsURI,\n",
        "                                                   'classes', modelName, 'features', elementName, 'renaming']))\n",
        "            if self.deep_get(self.yamlcontents,\n",
        "                             ['adaptations', 'metamodels', 'packages', metamodel_name, 'uri', mmroot.nsURI,\n",
        "                              'classes', modelName, 'features', elementName, 'renaming']) != None:\n",
        "                print(\"rename exists\")\n",
        "                return self.yamlcontents['adaptations']['metamodels']['packages'][metamodel_name]['uri'][mmroot.nsURI][\n",
        "                    'classes'][modelName]['features'][elementName]['renaming']\n",
        "            else:\n",
        "\n",
        "                return True\n",
        "\n",
        "    def deep_get(self, d, keys):\n",
        "        if not keys or d is None:\n",
        "            return d\n",
        "        return self.deep_get(d.get(keys[0]), keys[1:])\n",
        "\n",
        "    model_data = {}\n",
        "    attribute_types = []\n",
        "\n",
        "    def create_nodes(self, model, mmroot):\n",
        "        print(\"creating nodes\")\n",
        "        self.graphNumber = self.graphNumber + 1\n",
        "        print(\"graphNumber issss:\", self.graphNumber)\n",
        "        # Data structures\n",
        "        self.model_data = {}\n",
        "        self.attribute_types = []\n",
        "\n",
        "        # Create node data for root model\n",
        "\n",
        "        node_data = self.create_node_data(model, mmroot, self.graphNumber)\n",
        "\n",
        "\n",
        "        # Add root node data to model data\n",
        "        self.add_to_model_data(model, node_data)\n",
        "\n",
        "        # Process child elements\n",
        "        for element in self.get_child_elements(model):\n",
        "            print(\"child element\")\n",
        "            # Create node data for child\n",
        "\n",
        "            child_node_data = self.create_node_data(element, mmroot, self.graphNumber)\n",
        "\n",
        "            # Add child node data to model data\n",
        "            self.add_to_model_data(element, child_node_data)\n",
        "\n",
        "        # Return data structures\n",
        "        return self.model_data, self.attribute_types\n",
        "\n",
        "    def create_node_data(self, element, mmroot, graphNo):\n",
        "        print(\"creating node data\")\n",
        "\n",
        "        graphdata = {}\n",
        "        graphcsvdata = {}\n",
        "\n",
        "        # metamodel_name = mmroot.name\n",
        "        # modelName = element.eClass.name\n",
        "\n",
        "        node_number = 0\n",
        "        if element.eClass.name in self.ids:\n",
        "            node_number = self.ids[element.eClass.name] + 1\n",
        "\n",
        "        self.ids[element.eClass.name] = node_number\n",
        "\n",
        "        for feature in element._isset:\n",
        "\n",
        "\n",
        "            feature_name = feature.name\n",
        "            feature_value = element.eGet(feature)\n",
        "\n",
        "            graphdata[feature_name] = feature_value\n",
        "            # print(\"graphNo is now:\", graphNo)\n",
        "            graphdata[\"graphNumber\"] = graphNo\n",
        "            graphcsvdata[\"graphNumber\"] = graphNo\n",
        "\n",
        "            if not feature.is_reference:\n",
        "                graphcsvdata[feature_name] = feature_value\n",
        "\n",
        "            if feature.is_attribute:\n",
        "\n",
        "                types = {}\n",
        "                types[\"node\"] = element.eClass.name\n",
        "                types[\"name\"] = feature.name\n",
        "                print(\"ids is:\", self.ids)\n",
        "                print(\"element is\", element)\n",
        "                types[\"nodeNumber\"] = self.ids[element.eClass.name]\n",
        "                # node_number = self.ids.get(class_name, 0) + 1\n",
        "\n",
        "                if isinstance(feature.eType, EEnum):\n",
        "                    types[\"type\"] = \"EString\"\n",
        "                else:\n",
        "                    types[\"type\"] = feature.eType.name\n",
        "\n",
        "                self.featureTypes.append(types)\n",
        "                types = {}\n",
        "\n",
        "        self.modelData.setdefault(element.eClass.name, []).append(graphdata)\n",
        "        self.modelData[element.eClass.name][-1][\"element\"] = element\n",
        "\n",
        "        self.csvData.setdefault(element.eClass.name, []).append(graphcsvdata)\n",
        "\n",
        "\n",
        "        return graphdata\n",
        "\n",
        "\n",
        "\n",
        "    def get_node_number(self, element):\n",
        "        print(\"csvdata\", self.csvData)\n",
        "        print(\" modeldata\", self.modelData)\n",
        "        class_name = element.eClass.name\n",
        "\n",
        "        node_number = self.ids.get(class_name, 0) + 1\n",
        "\n",
        "        self.ids[class_name] = node_number\n",
        "\n",
        "        return node_number\n",
        "\n",
        "    def add_to_model_data(self, element, data):\n",
        "        print(\"add to model data\")\n",
        "\n",
        "\n",
        "        self.model_data.setdefault(element.eClass.name, []).append(data)\n",
        "        data[\"element\"] = element\n",
        "\n",
        "    def get_child_elements(self, element):\n",
        "\n",
        "        return element.eAllContents()\n",
        "\n",
        "    def get_eclass(self, element, mmroot):\n",
        "\n",
        "        return mmroot.getEClassifier(element.eClass.name)\n",
        "\n",
        "    def get_features(self, eclass):\n",
        "\n",
        "        return list(eclass.eStructuralFeatures)\n",
        "\n",
        "\n",
        "\n",
        "    def create_edges(self):\n",
        "        print(\"Creating edges...\")\n",
        "        for keys in self.csvData:\n",
        "            for i in range(0, len(self.csvData[keys])):\n",
        "                        id = str(keys) + \"Id\"\n",
        "                        self.csvData[keys][i][id] = i\n",
        "                        self.modelData[keys][i][id] = i\n",
        "\n",
        "        reference_properties = {\"eClassifiers\", \"ePackage\", \"eStructuralFeatures\", \"eType\",\n",
        "                        \"eContainingClass\", \"eOpposite\", \"eSuperTypes\", \"eModelElement\"}\n",
        "\n",
        "        for node_type, nodes in self.modelData.items():\n",
        "            # print(\"nodes is\", nodes)\n",
        "            for node in nodes:\n",
        "\n",
        "                for property, references in node.items():\n",
        "                    if property in reference_properties:\n",
        "\n",
        "                        # print(\"references\", references)\n",
        "                        if isinstance(references, Iterable):\n",
        "                            # print(\"yes iterable\")\n",
        "                            refs = list(references)\n",
        "                        else:\n",
        "                            refs = [references]\n",
        "\n",
        "                        source_id = node[f\"{node_type}Id\"]\n",
        "                        graph_number = node[\"graphNumber\"]\n",
        "                        # print(\"references\", refs)\n",
        "                        for reference in refs:\n",
        "\n",
        "                            edge_type = reference.eClass.name\n",
        "\n",
        "                            if self.csvEdgesData.get(f\"{node_type}_{edge_type}\") is None:\n",
        "                                self.csvEdgesData[f\"{node_type}_{edge_type}\"] = []\n",
        "                            # print(\"edge type\", edge_type)\n",
        "                            # print(\"model data:\", self.modelData)\n",
        "                            if edge_type in self.modelData:\n",
        "\n",
        "                                for dest_node in self.modelData[edge_type]:\n",
        "\n",
        "                                    if (\"element\", reference) in dest_node.items() and (\n",
        "                                    dest_node[\"graphNumber\"], graph_number):\n",
        "                                        dest_id = dest_node[f\"{edge_type}Id\"]\n",
        "\n",
        "                                        edge_data = {}\n",
        "                                        edge_data[f\"sr{node_type}Id\"] = source_id\n",
        "                                        edge_data[f\"ds{edge_type}Id\"] = dest_id\n",
        "                                        edge_data[\"name\"] = property\n",
        "\n",
        "                                        self.csvEdgesData[f\"{node_type}_{edge_type}\"].append(edge_data)\n",
        "\n",
        "\n",
        "\n",
        "    def create_csv(self):\n",
        "\n",
        "\n",
        "\n",
        "        print(\"Creating CSV files...\")\n",
        "\n",
        "        # Encapsulate node logic\n",
        "        self._write_nodes_csv()\n",
        "\n",
        "        # Encapsulate edges logic\n",
        "        self._write_edges_csv()\n",
        "\n",
        "        # Encapsulate types logic\n",
        "        self._write_types_csv()\n",
        "\n",
        "        print(\"CSV files created!\")\n",
        "\n",
        "\n",
        "\n",
        "    def _write_nodes_csv(self):\n",
        "        for types, records in self.csvData.items():\n",
        "            self._write_to_csv(records, types, \"nodes\")\n",
        "\n",
        "    def _write_edges_csv(self):\n",
        "        for types, records in self.csvEdgesData.items():\n",
        "            if records:\n",
        "                self._write_to_csv(records, types, \"edges\")\n",
        "\n",
        "    def _write_types_csv(self):\n",
        "        print(\"feature types:\", self.featureTypes)\n",
        "        self._write_to_csv(self.featureTypes, \"types\", folder=\"types\")\n",
        "\n",
        "    def _write_to_csv(self, records, types, folder):\n",
        "        if types == \"types\":\n",
        "            filename = f\"{types}\"\n",
        "        else:\n",
        "            filename = f\"{types}_{folder}\"\n",
        "        dir_path = f\"..\\\\csvfiles\\\\{folder}\"\n",
        "\n",
        "        if not os.path.isdir(dir_path):\n",
        "            os.makedirs(dir_path)\n",
        "\n",
        "        fields = records[0].keys()\n",
        "\n",
        "        with open(os.path.join(dir_path, f'{filename}.csv'), 'w', newline='') as file:\n",
        "            writer = csv.DictWriter(file, fieldnames=fields, extrasaction='ignore')\n",
        "            writer.writeheader()\n",
        "\n",
        "            writer.writerows(records)"
      ]
    },
    {
      "cell_type": "markdown",
      "source": [
        "# visualize graph"
      ],
      "metadata": {
        "id": "Bf-xnZEeZScr"
      }
    },
    {
      "cell_type": "code",
      "source": [
        "import matplotlib.pyplot as plt\n",
        "import matplotlib as mpl\n",
        "import networkx as nx\n",
        "import graphviz\n",
        "\n",
        "class GraphVisualizer:\n",
        "    def __init__(self, G):\n",
        "        self.G = G\n",
        "\n",
        "    def get_map_attention(self, atts):\n",
        "        return {n: atts[i].detach().cpu().numpy() for i, n in enumerate(self.G.nodes())}\n",
        "\n",
        "    def get_colors(self, map_colors):\n",
        "        low, *_, high = sorted(map_colors.values())\n",
        "        norm = mpl.colors.Normalize(vmin=low, vmax=high, clip=True)\n",
        "        mapper = mpl.cm.ScalarMappable(norm=norm, cmap=mpl.cm.coolwarm)\n",
        "        return {n: '#%02x%02x%02x' % tuple(mapper.to_rgba(c, bytes=True)[:3]) for n, c in map_colors.items()}\n",
        "\n",
        "    def heat_map(self, atts, filename, directory, ignore=[]):\n",
        "        g = graphviz.Digraph(filename)\n",
        "        colors = self.get_colors(self.get_map_attention(atts))\n",
        "        for e in self.G.edges(data=True):\n",
        "            if any(kw in e[2]['type'] for kw in ignore):\n",
        "                continue\n",
        "            for node in e[:2]:\n",
        "                g.node(str(node), label=self.G.nodes[node]['type'],\n",
        "                       color=colors[node], style='filled', fillcolor=colors[node])\n",
        "            g.edge(str(e[0]), str(e[1]), label=e[2]['type'])\n",
        "        g.format, g.directory = 'pdf', directory\n",
        "        g.view()"
      ],
      "metadata": {
        "id": "39JjCy6IZB8T"
      },
      "execution_count": 58,
      "outputs": []
    },
    {
      "cell_type": "code",
      "source": [
        "# Create a sample graph\n",
        "G = nx.Graph()\n",
        "G.add_nodes_from('/content/MetaModel_EXTRA/csvfiles/nodes') # change location\n",
        "G.add_edges_from([(0, 1, {'type': 'edge_type_1'}), (1, 2, {'type': 'edge_type_2'})])#change location\n",
        "\n",
        "# Create an instance of GraphVisualizer\n",
        "visualizer = GraphVisualizer(G)\n",
        "\n",
        "# # Example usage of methods"
      ],
      "metadata": {
        "id": "kQT0-jWD6bDC"
      },
      "execution_count": 59,
      "outputs": []
    },
    {
      "cell_type": "markdown",
      "source": [
        "# early stopping"
      ],
      "metadata": {
        "id": "jbFH4dlCaHdI"
      }
    },
    {
      "cell_type": "code",
      "source": [
        "import torch\n",
        "\n",
        "class EarlyStopping:\n",
        "    def __init__(self, patience=5, min_delta=0, mode='min', path='checkpoint.pth'):\n",
        "        self.patience, self.min_delta, self.mode = patience, min_delta, mode\n",
        "        self.best, self.num_bad_epochs = None, 0\n",
        "        self.is_better = (lambda a, b: a < b - min_delta) if mode == 'min' else (lambda a, b: a > b + min_delta)\n",
        "        self.path = path\n",
        "\n",
        "    def step(self, metrics, model, epoch):\n",
        "        if self.best is None or self.is_better(metrics, self.best):\n",
        "            self.best, self.num_bad_epochs = metrics, 0\n",
        "            torch.save({'epoch': epoch, 'model_state_dict': model.state_dict(), 'metrics': metrics}, self.path)\n",
        "        else:\n",
        "            self.num_bad_epochs += 1\n",
        "        return self.num_bad_epochs >= self.patience"
      ],
      "metadata": {
        "id": "uXrha-t8aGB5"
      },
      "execution_count": 60,
      "outputs": []
    },
    {
      "cell_type": "code",
      "source": [
        "import torch.optim as optim\n",
        "import torch.nn as nn\n",
        "\n",
        "# Example model and optimizer\n",
        "model = nn.Linear(10, 2)  # Replace with your model\n",
        "optimizer = optim.Adam(model.parameters())\n",
        "\n",
        "# Initialize EarlyStopping with the corrected parameters\n",
        "early_stopping = EarlyStopping(patience=5, min_delta=0.01, mode='min', path='checkpoint.pth')\n",
        "\n",
        "# Simulated training loop\n",
        "for epoch in range(100):\n",
        "    # Assume you have some validation metric to monitor, such as validation loss\n",
        "    val_loss = 0.1  # Replace with actual validation loss value\n",
        "\n",
        "    # Check for early stopping\n",
        "    if early_stopping.step(val_loss, model, epoch):  # Pass model and epoch within the loop\n",
        "        print(\"Early stopping triggered\")\n",
        "        break"
      ],
      "metadata": {
        "colab": {
          "base_uri": "https://localhost:8080/"
        },
        "id": "LISoV_rIaQSX",
        "outputId": "70e34316-7e2b-4d8a-cc99-224afdea08d6"
      },
      "execution_count": 62,
      "outputs": [
        {
          "output_type": "stream",
          "name": "stdout",
          "text": [
            "Early stopping triggered\n"
          ]
        }
      ]
    },
    {
      "cell_type": "markdown",
      "metadata": {
        "id": "UyCxSKEMCPtX"
      },
      "source": [
        "# **Enhancements and Next Steps**"
      ]
    },
    {
      "cell_type": "code",
      "execution_count": 63,
      "metadata": {
        "colab": {
          "base_uri": "https://localhost:8080/"
        },
        "collapsed": true,
        "id": "xnh-3tpwgwE9",
        "outputId": "9821145f-4b42-4b5f-8180-abd619861004"
      },
      "outputs": [
        {
          "output_type": "stream",
          "name": "stdout",
          "text": [
            "Drive already mounted at /content/drive; to attempt to forcibly remount, call drive.mount(\"/content/drive\", force_remount=True).\n"
          ]
        }
      ],
      "source": [
        "from google.colab import drive\n",
        "drive.mount('/content/drive')"
      ]
    },
    {
      "cell_type": "markdown",
      "metadata": {
        "id": "1lRb2gksk7Rb"
      },
      "source": [
        "# **Extract the ZIP File**"
      ]
    },
    {
      "cell_type": "code",
      "execution_count": 64,
      "metadata": {
        "colab": {
          "base_uri": "https://localhost:8080/"
        },
        "id": "VwyoT6Xmk4N2",
        "outputId": "0f7999b9-2f5d-4209-acfe-bcfa5bea7f88"
      },
      "outputs": [
        {
          "output_type": "stream",
          "name": "stdout",
          "text": [
            "File extracted successfully!\n"
          ]
        }
      ],
      "source": [
        "import os\n",
        "import zipfile\n",
        "\n",
        "# Path to your zip file on Google Drive\n",
        "zip_file_path = '/content/drive/MyDrive/gnnmodel/metamodel.zip'\n",
        "extract_to = '/content/MetaModel_EXTRA'\n",
        "\n",
        "# Ensure the extraction directory exists\n",
        "os.makedirs(extract_to, exist_ok=True)\n",
        "\n",
        "# Extract the zip file\n",
        "with zipfile.ZipFile(zip_file_path, 'r') as zip_ref:\n",
        "    zip_ref.extractall(extract_to)\n",
        "\n",
        "print(\"File extracted successfully!\")\n"
      ]
    },
    {
      "cell_type": "markdown",
      "metadata": {
        "id": "bBMzfnDJlAAr"
      },
      "source": [
        "# **Load and Parse the YAML Configuration**"
      ]
    },
    {
      "cell_type": "code",
      "execution_count": 65,
      "metadata": {
        "id": "I89U5tJEk4_m"
      },
      "outputs": [],
      "source": [
        "# load yml\n",
        "\n",
        "import yaml\n",
        "\n",
        "class ModelConfigLoader:\n",
        "    def __init__(self, config_path: str):\n",
        "        self.config_path = config_path\n",
        "        self.config = None\n",
        "        self.model_type = None\n",
        "        self.hidden_layers = None\n",
        "        self.layer_dims = None\n",
        "        self.activation_function = None\n",
        "        self.learning_rate = None\n",
        "        self.optimizer_type = None\n",
        "        self.epochs = None\n",
        "        self.batch_size = None\n",
        "        self.use_node_features = None\n",
        "        self.use_edge_features = None\n",
        "        self.dropout = None\n",
        "        self.train_test_split = None\n",
        "        self.output_model_path = None\n",
        "\n",
        "    def load_config(self):\n",
        "        # Load the YAML configuration file\n",
        "        with open(self.config_path, 'r') as file:\n",
        "            self.config = yaml.safe_load(file)\n",
        "\n",
        "        # Extract parameters from the loaded configuration\n",
        "        self.model_type = self.config['model_type']\n",
        "        self.hidden_layers = self.config['hidden_layers']\n",
        "        self.layer_dims = self.config['layer_dimensions']\n",
        "        self.activation_function = self.config['activation_function']\n",
        "\n",
        "        self.learning_rate = self.config['learning_rate']\n",
        "        self.optimizer_type = self.config['optimizer']\n",
        "        self.epochs = self.config['epochs']\n",
        "        self.batch_size = self.config['batch_size']\n",
        "        self.use_node_features = self.config['use_node_features']\n",
        "        self.use_edge_features = self.config['use_edge_features']\n",
        "        self.dropout = self.config['dropout']\n",
        "        self.train_test_split = self.config['train_test_split']\n",
        "        self.output_model_path = self.config.get('output_model_path', './saved_model.pth')  # Default path\n",
        "\n",
        "    def get_config(self):\n",
        "        if self.config is None:\n",
        "            raise ValueError(\"Configuration has not been loaded. Call 'load_config()' first.\")\n",
        "        return {\n",
        "            'model_type': self.model_type,\n",
        "            'hidden_layers': self.hidden_layers,\n",
        "            'layer_dims': self.layer_dims,\n",
        "            'activation_function': self.activation_function,\n",
        "            'learning_rate': self.learning_rate,\n",
        "            'optimizer_type': self.optimizer_type,\n",
        "            'epochs': self.epochs,\n",
        "            'batch_size': self.batch_size,\n",
        "            'use_node_features': self.use_node_features,\n",
        "            'use_edge_features': self.use_edge_features,\n",
        "            'dropout': self.dropout,\n",
        "            'train_test_split': self.train_test_split,\n",
        "            'output_model_path': self.output_model_path\n",
        "        }\n"
      ]
    },
    {
      "cell_type": "markdown",
      "metadata": {
        "id": "1foB4BNclSyF"
      },
      "source": [
        "# **Define the GCN and GAT Models**"
      ]
    },
    {
      "cell_type": "code",
      "execution_count": 18,
      "metadata": {
        "id": "71sj9FZQBbLt",
        "colab": {
          "base_uri": "https://localhost:8080/"
        },
        "collapsed": true,
        "outputId": "bc9a06dd-93f4-4cbd-aa03-7bda6721a4b0"
      },
      "outputs": [
        {
          "output_type": "stream",
          "name": "stdout",
          "text": [
            "Requirement already satisfied: torch_geometric in /usr/local/lib/python3.10/dist-packages (2.6.1)\n",
            "Requirement already satisfied: aiohttp in /usr/local/lib/python3.10/dist-packages (from torch_geometric) (3.10.10)\n",
            "Requirement already satisfied: fsspec in /usr/local/lib/python3.10/dist-packages (from torch_geometric) (2024.6.1)\n",
            "Requirement already satisfied: jinja2 in /usr/local/lib/python3.10/dist-packages (from torch_geometric) (3.1.4)\n",
            "Requirement already satisfied: numpy in /usr/local/lib/python3.10/dist-packages (from torch_geometric) (1.22.4)\n",
            "Requirement already satisfied: psutil>=5.8.0 in /usr/local/lib/python3.10/dist-packages (from torch_geometric) (5.9.5)\n",
            "Requirement already satisfied: pyparsing in /usr/local/lib/python3.10/dist-packages (from torch_geometric) (3.2.0)\n",
            "Requirement already satisfied: requests in /usr/local/lib/python3.10/dist-packages (from torch_geometric) (2.32.3)\n",
            "Requirement already satisfied: tqdm in /usr/local/lib/python3.10/dist-packages (from torch_geometric) (4.66.5)\n",
            "Requirement already satisfied: aiohappyeyeballs>=2.3.0 in /usr/local/lib/python3.10/dist-packages (from aiohttp->torch_geometric) (2.4.3)\n",
            "Requirement already satisfied: aiosignal>=1.1.2 in /usr/local/lib/python3.10/dist-packages (from aiohttp->torch_geometric) (1.3.1)\n",
            "Requirement already satisfied: attrs>=17.3.0 in /usr/local/lib/python3.10/dist-packages (from aiohttp->torch_geometric) (24.2.0)\n",
            "Requirement already satisfied: frozenlist>=1.1.1 in /usr/local/lib/python3.10/dist-packages (from aiohttp->torch_geometric) (1.4.1)\n",
            "Requirement already satisfied: multidict<7.0,>=4.5 in /usr/local/lib/python3.10/dist-packages (from aiohttp->torch_geometric) (6.1.0)\n",
            "Requirement already satisfied: yarl<2.0,>=1.12.0 in /usr/local/lib/python3.10/dist-packages (from aiohttp->torch_geometric) (1.16.0)\n",
            "Requirement already satisfied: async-timeout<5.0,>=4.0 in /usr/local/lib/python3.10/dist-packages (from aiohttp->torch_geometric) (4.0.3)\n",
            "Requirement already satisfied: MarkupSafe>=2.0 in /usr/local/lib/python3.10/dist-packages (from jinja2->torch_geometric) (3.0.2)\n",
            "Requirement already satisfied: charset-normalizer<4,>=2 in /usr/local/lib/python3.10/dist-packages (from requests->torch_geometric) (3.4.0)\n",
            "Requirement already satisfied: idna<4,>=2.5 in /usr/local/lib/python3.10/dist-packages (from requests->torch_geometric) (3.10)\n",
            "Requirement already satisfied: urllib3<3,>=1.21.1 in /usr/local/lib/python3.10/dist-packages (from requests->torch_geometric) (2.2.3)\n",
            "Requirement already satisfied: certifi>=2017.4.17 in /usr/local/lib/python3.10/dist-packages (from requests->torch_geometric) (2024.8.30)\n",
            "Requirement already satisfied: typing-extensions>=4.1.0 in /usr/local/lib/python3.10/dist-packages (from multidict<7.0,>=4.5->aiohttp->torch_geometric) (4.12.2)\n",
            "Requirement already satisfied: propcache>=0.2.0 in /usr/local/lib/python3.10/dist-packages (from yarl<2.0,>=1.12.0->aiohttp->torch_geometric) (0.2.0)\n"
          ]
        }
      ],
      "source": [
        "!pip install torch_geometric"
      ]
    },
    {
      "cell_type": "code",
      "execution_count": 66,
      "metadata": {
        "id": "pXdKPi3Hm2Fl"
      },
      "outputs": [],
      "source": [
        "import torch\n",
        "import torch.nn.functional as F\n",
        "from torch_geometric.nn import GATConv, global_mean_pool\n",
        "\n",
        "class GNNWithAttention(torch.nn.Module):\n",
        "    def __init__(self, in_channels, hidden_channels, out_channels):\n",
        "        super(GNNWithAttention, self).__init__()\n",
        "        self.conv1 = GATConv(in_channels, hidden_channels, heads=4)\n",
        "        self.conv2 = GATConv(hidden_channels * 4, hidden_channels, heads=4)\n",
        "        self.pool = global_mean_pool\n",
        "        self.fc = torch.nn.Linear(hidden_channels * 4, out_channels)\n",
        "\n",
        "    def forward(self, data):\n",
        "        x, edge_index = data.x, data.edge_index\n",
        "        x = F.relu(self.conv1(x, edge_index))\n",
        "        x = F.relu(self.conv2(x, edge_index))\n",
        "        x = self.pool(x, data.batch)\n",
        "        return F.log_softmax(self.fc(x), dim=1)\n"
      ]
    },
    {
      "cell_type": "code",
      "execution_count": 67,
      "metadata": {
        "id": "z6y0oG10fDW0"
      },
      "outputs": [],
      "source": [
        "from torch_geometric.nn import GATConv\n",
        "# Define the GAT model\n",
        "class GAT(nn.Module):\n",
        "    def __init__(self, num_layers, layer_dims, activation_func):\n",
        "        super(GAT, self).__init__()\n",
        "        self.layers = nn.ModuleList()\n",
        "        self.activation = getattr(nn, activation_func)()\n",
        "\n",
        "        for i in range(num_layers):\n",
        "            in_dim = layer_dims[i] if i == 0 else layer_dims[i - 1]\n",
        "            out_dim = layer_dims[i]\n",
        "            self.layers.append(GATConv(in_dim, out_dim))\n",
        "\n",
        "    def forward(self, x, edge_index):\n",
        "        for layer in self.layers:\n",
        "\n",
        "            x = layer(x, edge_index)\n",
        "            x = self.activation(x)\n",
        "        return x"
      ]
    },
    {
      "cell_type": "markdown",
      "metadata": {
        "id": "2QlFcPv8yI8C"
      },
      "source": [
        "# **Graph Generation (New Component)**"
      ]
    },
    {
      "cell_type": "code",
      "execution_count": 68,
      "metadata": {
        "id": "grICiSkMyB_h"
      },
      "outputs": [],
      "source": [
        "# Graph Decoder to generate new graphs from latent embeddings\n",
        "class GraphDecoder(torch.nn.Module):\n",
        "    def __init__(self, latent_dim, num_node_features, num_nodes):\n",
        "        super(GraphDecoder, self).__init__()\n",
        "        self.latent_dim = latent_dim\n",
        "        self.num_node_features = num_node_features\n",
        "        self.num_nodes = num_nodes\n",
        "\n",
        "        # A decoder that maps the latent embedding back to node features\n",
        "        self.fc = nn.Linear(latent_dim, num_nodes * num_node_features)  # Create node features from latent embedding\n",
        "\n",
        "    def forward(self, latent_embedding):\n",
        "        # Decode latent embedding into node features\n",
        "        decoded_node_features = self.fc(latent_embedding)\n",
        "        decoded_node_features = decoded_node_features.view(self.num_nodes, self.num_node_features)\n",
        "\n",
        "        # Generate a random edge index (this part can be modified for specific use-cases)\n",
        "        edge_index = torch.randint(0, self.num_nodes, (2, self.num_nodes * 2))  # Example edge generation\n",
        "\n",
        "        return decoded_node_features, edge_index\n"
      ]
    },
    {
      "cell_type": "markdown",
      "metadata": {
        "id": "d-7GeYD-yU-k"
      },
      "source": [
        "# **Training the Model with Graph Generation**"
      ]
    },
    {
      "cell_type": "code",
      "execution_count": 69,
      "metadata": {
        "id": "Z6YTEIRryW9f"
      },
      "outputs": [],
      "source": [
        "# Define the complete GNN Autoencoder model\n",
        "class GNN_Autoencoder(torch.nn.Module):\n",
        "    def __init__(self, gcn_encoder, graph_decoder):\n",
        "        super(GNN_Autoencoder, self).__init__()\n",
        "        self.encoder = gcn_encoder\n",
        "        self.decoder = graph_decoder\n",
        "\n",
        "    def forward(self, x, edge_index):\n",
        "        # Encode the graph into a latent representation\n",
        "        node_embeddings, latent_embedding = self.encoder(x, edge_index)\n",
        "\n",
        "        # Decode the latent representation to generate a new graph\n",
        "        decoded_node_features, decoded_edge_index = self.decoder(latent_embedding)\n",
        "\n",
        "        return decoded_node_features, decoded_edge_index\n"
      ]
    },
    {
      "cell_type": "markdown",
      "metadata": {
        "id": "LV4lSUklymQo"
      },
      "source": [
        "# **Graph-to-Model Conversion (Reverse Process)**"
      ]
    },
    {
      "cell_type": "code",
      "execution_count": 70,
      "metadata": {
        "id": "VyuihBM_yofQ"
      },
      "outputs": [],
      "source": [
        "class CreateGraph:\n",
        "    # Add a reverse function that maps generated graphs back into model format\n",
        "    def graph_to_model(self, graphs):\n",
        "        models = []\n",
        "        for graph_num, G in graphs.items():\n",
        "            model = {}  # Dictionary to hold the model structure\n",
        "\n",
        "            for node in G.nodes(data=True):\n",
        "                node_id, node_attrs = node\n",
        "                node_type = node_attrs['type']\n",
        "\n",
        "                # Map graph nodes to model classes\n",
        "                if model.get(node_type) is None:\n",
        "                    model[node_type] = []\n",
        "                model[node_type].append(node_attrs)\n",
        "\n",
        "            for edge in G.edges(data=True):\n",
        "                src, dst, edge_attrs = edge\n",
        "                src_type = G.nodes[src]['type']\n",
        "                dst_type = G.nodes[dst]['type']\n",
        "\n",
        "                # Map graph edges to model relationships\n",
        "                relationship = {'src': src, 'dst': dst, 'type': edge_attrs['type']}\n",
        "                model[f'{src_type}_{dst_type}'].append(relationship)\n",
        "\n",
        "            models.append(model)\n",
        "\n",
        "        return models  # Return a list of models created from the graphs\n"
      ]
    },
    {
      "cell_type": "markdown",
      "metadata": {
        "id": "4jEkeqp_yzZu"
      },
      "source": [
        "# **Optimization and Loss Function**"
      ]
    },
    {
      "cell_type": "code",
      "execution_count": 71,
      "metadata": {
        "id": "L_mtSlKwy1YT"
      },
      "outputs": [],
      "source": [
        "# Loss function for reconstruction\n",
        "def reconstruction_loss(original_node_features, generated_node_features, original_edge_index, generated_edge_index):\n",
        "    # Loss for node feature reconstruction (MSE Loss)\n",
        "    node_loss = torch.nn.functional.mse_loss(original_node_features, generated_node_features)\n",
        "\n",
        "    # Loss for edge reconstruction (Cross Entropy or Binary Cross Entropy for edge prediction)\n",
        "    edge_loss = torch.nn.functional.binary_cross_entropy_with_logits(\n",
        "        torch.flatten(generated_edge_index.float()), torch.flatten(original_edge_index.float())\n",
        "    )\n",
        "\n",
        "    return node_loss + edge_loss  # Combine both losses\n"
      ]
    },
    {
      "cell_type": "markdown",
      "metadata": {
        "id": "smt3j2d1y7mj"
      },
      "source": [
        "# **Training Pipeline**"
      ]
    },
    {
      "cell_type": "code",
      "execution_count": 72,
      "metadata": {
        "id": "kKF_9_dSy9bR"
      },
      "outputs": [],
      "source": [
        "def train_c2st(model, train_loader, val_loader, optimizer, epochs, patience=5):\n",
        "    early_stopping = EarlyStopping(patience=patience, mode='max')\n",
        "    for epoch in range(epochs):\n",
        "        model.train()\n",
        "        for data in train_loader:\n",
        "            optimizer.zero_grad()\n",
        "            output = model(data)\n",
        "            loss = F.nll_loss(output, data.y)\n",
        "            loss.backward()\n",
        "            optimizer.step()\n",
        "\n",
        "        # Validation step for early stopping\n",
        "        val_acc = calculate_accuracy(model, val_loader)\n",
        "        if early_stopping.step(val_acc, model, epoch):\n",
        "            print(f\"Early stopping at epoch {epoch}\")\n",
        "            break\n",
        "    return model\n",
        "\n",
        "def calculate_accuracy(model, loader):\n",
        "    model.eval()\n",
        "    correct = sum((model(data).argmax(dim=1) == data.y).sum().item() for data in loader)\n",
        "    total = sum(len(data.y) for data in loader)\n",
        "    return 100 * correct / total"
      ]
    },
    {
      "cell_type": "markdown",
      "metadata": {
        "id": "L4Fo2-Bl1QJ2"
      },
      "source": [
        "# **Graph data loader**"
      ]
    },
    {
      "cell_type": "code",
      "execution_count": 73,
      "metadata": {
        "id": "WQ-6pr-T1OnS",
        "colab": {
          "base_uri": "https://localhost:8080/"
        },
        "outputId": "af4dbb8c-011a-4a23-9d51-3647c9b9dde1"
      },
      "outputs": [
        {
          "output_type": "stream",
          "name": "stdout",
          "text": [
            "Data(x=[44, 12], edge_index=[14, 89])\n"
          ]
        }
      ],
      "source": [
        "import os\n",
        "import pandas as pd\n",
        "import torch\n",
        "from torch_geometric.data import Data\n",
        "\n",
        "class GraphDataLoader:\n",
        "    def __init__(self, nodes_folder_path: str, edges_folder_path: str):\n",
        "        self.nodes_folder_path = nodes_folder_path\n",
        "        self.edges_folder_path = edges_folder_path\n",
        "        self.node_data = None\n",
        "        self.edge_data = None\n",
        "        self.graph_data = None\n",
        "\n",
        "    def load_data(self):\n",
        "        # Load all node CSVs and concatenate\n",
        "        node_files = [os.path.join(self.nodes_folder_path, f) for f in os.listdir(self.nodes_folder_path) if f.endswith('.csv')]\n",
        "        node_dfs = [pd.read_csv(f) for f in node_files]\n",
        "        self.node_data = pd.concat(node_dfs, ignore_index=True)\n",
        "\n",
        "        # Load all edge CSVs and concatenate\n",
        "        edge_files = [os.path.join(self.edges_folder_path, f) for f in os.listdir(self.edges_folder_path) if f.endswith('.csv')]\n",
        "        edge_dfs = [pd.read_csv(f) for f in edge_files]\n",
        "        self.edge_data = pd.concat(edge_dfs, ignore_index=True)\n",
        "\n",
        "        # Keep only numeric columns in node and edge data\n",
        "        self.node_data = self.node_data.select_dtypes(include=[int, float])\n",
        "        self.edge_data = self.edge_data.select_dtypes(include=[int, float])\n",
        "\n",
        "    def create_graph(self):\n",
        "        # Convert node and edge data to torch tensors\n",
        "        node_features = torch.tensor(self.node_data.values, dtype=torch.float)\n",
        "        edge_indices = torch.tensor(self.edge_data.values.T, dtype=torch.long)\n",
        "\n",
        "        # Create the graph data object\n",
        "        self.graph_data = Data(x=node_features, edge_index=edge_indices)\n",
        "\n",
        "    def get_graph_data(self):\n",
        "        if self.graph_data is None:\n",
        "            raise ValueError(\"Graph data has not been created. Call 'load_data()' and 'create_graph()' first.\")\n",
        "        return self.graph_data\n",
        "\n",
        "# Example usage\n",
        "nodes_path = '/content/MetaModel_EXTRA/csvfiles/nodes' # Adjust this path based on your directory structure\n",
        "edges_path = '/content/MetaModel_EXTRA/csvfiles/edges'\n",
        "\n",
        "graph_loader = GraphDataLoader(nodes_path, edges_path)\n",
        "graph_loader.load_data()\n",
        "graph_loader.create_graph()\n",
        "\n",
        "graph_data = graph_loader.get_graph_data()\n",
        "\n",
        "# You can now use this graph_data for further processing\n",
        "print(graph_data)\n"
      ]
    },
    {
      "cell_type": "code",
      "execution_count": 74,
      "metadata": {
        "id": "hfutc8mO5W1Q",
        "colab": {
          "base_uri": "https://localhost:8080/"
        },
        "collapsed": true,
        "outputId": "f11e13db-e5ac-4dec-e980-230e94178a01"
      },
      "outputs": [
        {
          "output_type": "stream",
          "name": "stdout",
          "text": [
            "Edge indices (edge_index) before fixing: torch.Size([14, 89])\n",
            "Edge indices content:\n",
            "tensor([[                   4, -9223372036854775808, -9223372036854775808,\n",
            "          ..., -9223372036854775808, -9223372036854775808,\n",
            "         -9223372036854775808],\n",
            "        [                   0, -9223372036854775808, -9223372036854775808,\n",
            "          ..., -9223372036854775808,                    0,\n",
            "                            0],\n",
            "        [-9223372036854775808,                    0,                    1,\n",
            "          ...,                   16, -9223372036854775808,\n",
            "         -9223372036854775808],\n",
            "        ...,\n",
            "        [-9223372036854775808, -9223372036854775808, -9223372036854775808,\n",
            "          ..., -9223372036854775808, -9223372036854775808,\n",
            "         -9223372036854775808],\n",
            "        [-9223372036854775808, -9223372036854775808, -9223372036854775808,\n",
            "          ..., -9223372036854775808, -9223372036854775808,\n",
            "         -9223372036854775808],\n",
            "        [-9223372036854775808, -9223372036854775808, -9223372036854775808,\n",
            "          ..., -9223372036854775808,                    0,\n",
            "                            1]])\n",
            "torch.Size([2, 623])\n"
          ]
        }
      ],
      "source": [
        "# Now print the edge indices before and after fixing\n",
        "print(f\"Edge indices (edge_index) before fixing: {graph_data.edge_index.size()}\")\n",
        "print(f\"Edge indices content:\\n{graph_data.edge_index}\")\n",
        "\n",
        "\n",
        "\n",
        "# Reshape to (2, -1)\n",
        "edge_index = graph_data.edge_index.reshape(2, -1)\n",
        "print(edge_index.shape)"
      ]
    },
    {
      "cell_type": "code",
      "execution_count": 75,
      "metadata": {
        "id": "L7WP1ySi57L7",
        "colab": {
          "base_uri": "https://localhost:8080/"
        },
        "collapsed": true,
        "outputId": "ff16d5e2-42f9-4d3b-c035-ac41ceefae64"
      },
      "outputs": [
        {
          "output_type": "stream",
          "name": "stdout",
          "text": [
            "Node feature matrix size (num_nodes): torch.Size([44, 12])\n",
            "Edge index size: torch.Size([14, 89])\n",
            "Edge index content:\n",
            "tensor([[                   4, -9223372036854775808, -9223372036854775808,\n",
            "          ..., -9223372036854775808, -9223372036854775808,\n",
            "         -9223372036854775808],\n",
            "        [                   0, -9223372036854775808, -9223372036854775808,\n",
            "          ..., -9223372036854775808,                    0,\n",
            "                            0],\n",
            "        [-9223372036854775808,                    0,                    1,\n",
            "          ...,                   16, -9223372036854775808,\n",
            "         -9223372036854775808],\n",
            "        ...,\n",
            "        [-9223372036854775808, -9223372036854775808, -9223372036854775808,\n",
            "          ..., -9223372036854775808, -9223372036854775808,\n",
            "         -9223372036854775808],\n",
            "        [-9223372036854775808, -9223372036854775808, -9223372036854775808,\n",
            "          ..., -9223372036854775808, -9223372036854775808,\n",
            "         -9223372036854775808],\n",
            "        [-9223372036854775808, -9223372036854775808, -9223372036854775808,\n",
            "          ..., -9223372036854775808,                    0,\n",
            "                            1]])\n"
          ]
        }
      ],
      "source": [
        "# Check node feature matrix size and edge index size\n",
        "print(f\"Node feature matrix size (num_nodes): {graph_data.x.size()}\")\n",
        "print(f\"Edge index size: {graph_data.edge_index.size()}\")\n",
        "print(f\"Edge index content:\\n{graph_data.edge_index}\")"
      ]
    },
    {
      "cell_type": "code",
      "execution_count": 76,
      "metadata": {
        "id": "QUmKxxeW2oeK",
        "colab": {
          "base_uri": "https://localhost:8080/"
        },
        "collapsed": true,
        "outputId": "df83b818-29c7-4384-846a-d4e2af348cd8"
      },
      "outputs": [
        {
          "output_type": "stream",
          "name": "stdout",
          "text": [
            "Reshaping edge_index from torch.Size([14, 89]) to (2, -1)\n",
            "Edge index size after fixing: torch.Size([2, 89])\n",
            "Edge index content after fixing:\n",
            "tensor([[                   4, -9223372036854775808, -9223372036854775808,\n",
            "         -9223372036854775808, -9223372036854775808, -9223372036854775808,\n",
            "         -9223372036854775808, -9223372036854775808, -9223372036854775808,\n",
            "         -9223372036854775808, -9223372036854775808, -9223372036854775808,\n",
            "         -9223372036854775808, -9223372036854775808, -9223372036854775808,\n",
            "         -9223372036854775808, -9223372036854775808, -9223372036854775808,\n",
            "         -9223372036854775808, -9223372036854775808,                    0,\n",
            "                            1,                    1,                    2,\n",
            "                            2,                    2,                    3,\n",
            "                            3,                    3,                    3,\n",
            "                            3,                    3,                    4,\n",
            "                            4,                    4,                    5,\n",
            "                            5,                    5, -9223372036854775808,\n",
            "         -9223372036854775808, -9223372036854775808, -9223372036854775808,\n",
            "         -9223372036854775808, -9223372036854775808, -9223372036854775808,\n",
            "         -9223372036854775808, -9223372036854775808,                    0,\n",
            "                            6,                    6,                    6,\n",
            "                            6,                    6, -9223372036854775808,\n",
            "         -9223372036854775808, -9223372036854775808, -9223372036854775808,\n",
            "         -9223372036854775808, -9223372036854775808, -9223372036854775808,\n",
            "         -9223372036854775808, -9223372036854775808, -9223372036854775808,\n",
            "         -9223372036854775808, -9223372036854775808, -9223372036854775808,\n",
            "         -9223372036854775808, -9223372036854775808, -9223372036854775808,\n",
            "         -9223372036854775808, -9223372036854775808, -9223372036854775808,\n",
            "         -9223372036854775808, -9223372036854775808, -9223372036854775808,\n",
            "         -9223372036854775808, -9223372036854775808, -9223372036854775808,\n",
            "         -9223372036854775808, -9223372036854775808, -9223372036854775808,\n",
            "         -9223372036854775808, -9223372036854775808, -9223372036854775808,\n",
            "         -9223372036854775808, -9223372036854775808, -9223372036854775808,\n",
            "         -9223372036854775808, -9223372036854775808],\n",
            "        [                   0, -9223372036854775808, -9223372036854775808,\n",
            "         -9223372036854775808, -9223372036854775808, -9223372036854775808,\n",
            "         -9223372036854775808, -9223372036854775808, -9223372036854775808,\n",
            "         -9223372036854775808, -9223372036854775808, -9223372036854775808,\n",
            "         -9223372036854775808, -9223372036854775808, -9223372036854775808,\n",
            "         -9223372036854775808, -9223372036854775808, -9223372036854775808,\n",
            "         -9223372036854775808, -9223372036854775808, -9223372036854775808,\n",
            "         -9223372036854775808, -9223372036854775808, -9223372036854775808,\n",
            "         -9223372036854775808, -9223372036854775808, -9223372036854775808,\n",
            "         -9223372036854775808, -9223372036854775808, -9223372036854775808,\n",
            "         -9223372036854775808, -9223372036854775808, -9223372036854775808,\n",
            "         -9223372036854775808, -9223372036854775808, -9223372036854775808,\n",
            "         -9223372036854775808, -9223372036854775808, -9223372036854775808,\n",
            "         -9223372036854775808, -9223372036854775808, -9223372036854775808,\n",
            "         -9223372036854775808, -9223372036854775808, -9223372036854775808,\n",
            "         -9223372036854775808, -9223372036854775808, -9223372036854775808,\n",
            "         -9223372036854775808, -9223372036854775808, -9223372036854775808,\n",
            "         -9223372036854775808, -9223372036854775808, -9223372036854775808,\n",
            "         -9223372036854775808, -9223372036854775808, -9223372036854775808,\n",
            "         -9223372036854775808, -9223372036854775808, -9223372036854775808,\n",
            "         -9223372036854775808, -9223372036854775808, -9223372036854775808,\n",
            "         -9223372036854775808, -9223372036854775808, -9223372036854775808,\n",
            "         -9223372036854775808, -9223372036854775808, -9223372036854775808,\n",
            "         -9223372036854775808, -9223372036854775808, -9223372036854775808,\n",
            "         -9223372036854775808, -9223372036854775808, -9223372036854775808,\n",
            "         -9223372036854775808, -9223372036854775808, -9223372036854775808,\n",
            "         -9223372036854775808, -9223372036854775808, -9223372036854775808,\n",
            "         -9223372036854775808, -9223372036854775808, -9223372036854775808,\n",
            "         -9223372036854775808, -9223372036854775808, -9223372036854775808,\n",
            "                            0,                    0]])\n"
          ]
        }
      ],
      "source": [
        "# Check the number of nodes and reshape the edge_index if needed\n",
        "if graph_data.edge_index.size(0) != 2:\n",
        "    print(f\"Reshaping edge_index from {graph_data.edge_index.size()} to (2, -1)\")\n",
        "    graph_data.edge_index = graph_data.edge_index[:2, :]  # Ensure edge_index has two rows (source, destination)\n",
        "# Recheck after reshaping (if applied)\n",
        "print(f\"Edge index size after fixing: {graph_data.edge_index.size()}\")\n",
        "print(f\"Edge index content after fixing:\\n{graph_data.edge_index}\")"
      ]
    },
    {
      "cell_type": "code",
      "execution_count": 77,
      "metadata": {
        "id": "FGrBiPhZ6sb6",
        "colab": {
          "base_uri": "https://localhost:8080/"
        },
        "outputId": "73eb5865-75df-4538-9af0-05d50bacd717"
      },
      "outputs": [
        {
          "output_type": "stream",
          "name": "stdout",
          "text": [
            "Updated Edge indices (with self-loops): torch.Size([2, 71])\n",
            "Updated Edge indices content:\n",
            "tensor([[                   4,                    0,                    1,\n",
            "                            1,                    2,                    2,\n",
            "                            2,                    3,                    3,\n",
            "                            3,                    3,                    3,\n",
            "                            3,                    4,                    4,\n",
            "                            4,                    5,                    5,\n",
            "                            5,                    0,                    6,\n",
            "                            6,                    6,                    6,\n",
            "                            6, -9223372036854775808, -9223372036854775808,\n",
            "                            0,                    1,                    2,\n",
            "                            3,                    4,                    5,\n",
            "                            6,                    7,                    8,\n",
            "                            9,                   10,                   11,\n",
            "                           12,                   13,                   14,\n",
            "                           15,                   16,                   17,\n",
            "                           18,                   19,                   20,\n",
            "                           21,                   22,                   23,\n",
            "                           24,                   25,                   26,\n",
            "                           27,                   28,                   29,\n",
            "                           30,                   31,                   32,\n",
            "                           33,                   34,                   35,\n",
            "                           36,                   37,                   38,\n",
            "                           39,                   40,                   41,\n",
            "                           42,                   43],\n",
            "        [                   0, -9223372036854775808, -9223372036854775808,\n",
            "         -9223372036854775808, -9223372036854775808, -9223372036854775808,\n",
            "         -9223372036854775808, -9223372036854775808, -9223372036854775808,\n",
            "         -9223372036854775808, -9223372036854775808, -9223372036854775808,\n",
            "         -9223372036854775808, -9223372036854775808, -9223372036854775808,\n",
            "         -9223372036854775808, -9223372036854775808, -9223372036854775808,\n",
            "         -9223372036854775808, -9223372036854775808, -9223372036854775808,\n",
            "         -9223372036854775808, -9223372036854775808, -9223372036854775808,\n",
            "         -9223372036854775808,                    0,                    0,\n",
            "                            0,                    1,                    2,\n",
            "                            3,                    4,                    5,\n",
            "                            6,                    7,                    8,\n",
            "                            9,                   10,                   11,\n",
            "                           12,                   13,                   14,\n",
            "                           15,                   16,                   17,\n",
            "                           18,                   19,                   20,\n",
            "                           21,                   22,                   23,\n",
            "                           24,                   25,                   26,\n",
            "                           27,                   28,                   29,\n",
            "                           30,                   31,                   32,\n",
            "                           33,                   34,                   35,\n",
            "                           36,                   37,                   38,\n",
            "                           39,                   40,                   41,\n",
            "                           42,                   43]])\n"
          ]
        }
      ],
      "source": [
        "from torch_geometric.utils import add_remaining_self_loops\n",
        "\n",
        "# Add self-loops after fixing the edge_index\n",
        "num_nodes = graph_data.x.size(0)\n",
        "edge_index, _ = add_remaining_self_loops(graph_data.edge_index, num_nodes=num_nodes)\n",
        "\n",
        "# Update the edge_index in the data object and print again\n",
        "graph_data.edge_index = edge_index\n",
        "print(f\"Updated Edge indices (with self-loops): {graph_data.edge_index.size()}\")\n",
        "print(f\"Updated Edge indices content:\\n{graph_data.edge_index}\")"
      ]
    },
    {
      "cell_type": "markdown",
      "source": [
        "# Metric"
      ],
      "metadata": {
        "id": "MmWCIikly8yh"
      }
    },
    {
      "cell_type": "code",
      "source": [
        "from scipy import stats\n",
        "from sklearn.metrics import accuracy_score\n",
        "\n",
        "def run_c2st_test(model, test_loader):\n",
        "    model.eval()\n",
        "    preds, labels = [], []\n",
        "    for data in test_loader:\n",
        "        output = model(data)\n",
        "        preds.extend(output.argmax(dim=1).cpu().numpy())\n",
        "        labels.extend(data.y.cpu().numpy())\n",
        "\n",
        "    test_accuracy = accuracy_score(labels, preds)\n",
        "    p_value = calculate_p_value(test_accuracy, len(labels))\n",
        "    print(f\"Test Accuracy: {test_accuracy:.2f}, p-Value: {p_value:.4f}\")\n",
        "    return test_accuracy, p_value\n",
        "\n",
        "def calculate_p_value(accuracy, sample_size):\n",
        "    return 1 - stats.norm.cdf((accuracy - 0.5) / np.sqrt(1 / (4 * sample_size)))"
      ],
      "metadata": {
        "id": "5wFPGrGazBaj"
      },
      "execution_count": 78,
      "outputs": []
    },
    {
      "cell_type": "code",
      "source": [
        "# Define model parameters based on your dataset\n",
        "in_channels = 10  # Set this to the number of features in your node data\n",
        "hidden_channels = 32  # Set this as a hyperparameter\n",
        "out_channels = 2  # Set this to the number of classes (e.g., 2 for binary classification)\n",
        "\n",
        "# Initialize and train the model\n",
        "model = GNNWithAttention(in_channels, hidden_channels, out_channels)\n",
        "optimizer = torch.optim.Adam(model.parameters(), lr=0.001)\n",
        "\n",
        "import torch\n",
        "from torch_geometric.data import Data, DataLoader\n",
        "\n",
        "# Example function to prepare your dataset (assuming you have node_data, edge_data, and labels)\n",
        "def create_graph_data(node_data, edge_data, labels):\n",
        "    node_features = torch.tensor(node_data.values, dtype=torch.float)\n",
        "    edge_indices = torch.tensor(edge_data.values.T, dtype=torch.long)\n",
        "    y_labels = torch.tensor(labels.values, dtype=torch.long)\n",
        "\n",
        "    return Data(x=node_features, edge_index=edge_indices, y=y_labels)\n",
        "\n",
        "# Assuming node_data, edge_data, labels for each set\n",
        "train_data = create_graph_data(train_node_data, train_edge_data, train_labels)\n",
        "val_data = create_graph_data(val_node_data, val_edge_data, val_labels)\n",
        "test_data = create_graph_data(test_node_data, test_edge_data, test_labels)\n",
        "\n",
        "# Create DataLoader objects for each set\n",
        "train_loader = DataLoader([train_data], batch_size=32, shuffle=True)\n",
        "val_loader = DataLoader([val_data], batch_size=32)\n",
        "test_loader = DataLoader([test_data], batch_size=32)\n",
        "\n",
        "# Assuming train_loader and val_loader are defined\n",
        "trained_model = train_c2st(model, train_loader, val_loader, optimizer, epochs=50)\n"
      ],
      "metadata": {
        "colab": {
          "base_uri": "https://localhost:8080/",
          "height": 211
        },
        "id": "PDAXu3sCzGzD",
        "outputId": "2fa7e674-6df7-4479-f780-d7067b4b6e86"
      },
      "execution_count": 81,
      "outputs": [
        {
          "output_type": "error",
          "ename": "NameError",
          "evalue": "name 'train_node_data' is not defined",
          "traceback": [
            "\u001b[0;31m---------------------------------------------------------------------------\u001b[0m",
            "\u001b[0;31mNameError\u001b[0m                                 Traceback (most recent call last)",
            "\u001b[0;32m<ipython-input-81-b69cbc6cf902>\u001b[0m in \u001b[0;36m<cell line: 22>\u001b[0;34m()\u001b[0m\n\u001b[1;32m     20\u001b[0m \u001b[0;34m\u001b[0m\u001b[0m\n\u001b[1;32m     21\u001b[0m \u001b[0;31m# Assuming node_data, edge_data, labels for each set\u001b[0m\u001b[0;34m\u001b[0m\u001b[0;34m\u001b[0m\u001b[0m\n\u001b[0;32m---> 22\u001b[0;31m \u001b[0mtrain_data\u001b[0m \u001b[0;34m=\u001b[0m \u001b[0mcreate_graph_data\u001b[0m\u001b[0;34m(\u001b[0m\u001b[0mtrain_node_data\u001b[0m\u001b[0;34m,\u001b[0m \u001b[0mtrain_edge_data\u001b[0m\u001b[0;34m,\u001b[0m \u001b[0mtrain_labels\u001b[0m\u001b[0;34m)\u001b[0m\u001b[0;34m\u001b[0m\u001b[0;34m\u001b[0m\u001b[0m\n\u001b[0m\u001b[1;32m     23\u001b[0m \u001b[0mval_data\u001b[0m \u001b[0;34m=\u001b[0m \u001b[0mcreate_graph_data\u001b[0m\u001b[0;34m(\u001b[0m\u001b[0mval_node_data\u001b[0m\u001b[0;34m,\u001b[0m \u001b[0mval_edge_data\u001b[0m\u001b[0;34m,\u001b[0m \u001b[0mval_labels\u001b[0m\u001b[0;34m)\u001b[0m\u001b[0;34m\u001b[0m\u001b[0;34m\u001b[0m\u001b[0m\n\u001b[1;32m     24\u001b[0m \u001b[0mtest_data\u001b[0m \u001b[0;34m=\u001b[0m \u001b[0mcreate_graph_data\u001b[0m\u001b[0;34m(\u001b[0m\u001b[0mtest_node_data\u001b[0m\u001b[0;34m,\u001b[0m \u001b[0mtest_edge_data\u001b[0m\u001b[0;34m,\u001b[0m \u001b[0mtest_labels\u001b[0m\u001b[0;34m)\u001b[0m\u001b[0;34m\u001b[0m\u001b[0;34m\u001b[0m\u001b[0m\n",
            "\u001b[0;31mNameError\u001b[0m: name 'train_node_data' is not defined"
          ]
        }
      ]
    },
    {
      "cell_type": "code",
      "execution_count": 39,
      "metadata": {
        "id": "V8MFlOSz683Y"
      },
      "outputs": [],
      "source": [
        "import os\n",
        "import yaml\n",
        "import torch\n",
        "import pandas as pd\n",
        "from torch_geometric.data import Data, DataLoader\n",
        "import torch.optim as optim\n",
        "import torch.nn.functional as F\n",
        "import matplotlib.pyplot as plt\n",
        "from tqdm import tqdm\n",
        "from torch_geometric.utils import add_remaining_self_loops\n",
        "\n",
        "# Function to load model configuration from YAML\n",
        "def load_model_config(yaml_file_path):\n",
        "    \"\"\"Loads model configuration from a YAML file.\"\"\"\n",
        "    with open(yaml_file_path, 'r') as file:\n",
        "        config = yaml.safe_load(file)\n",
        "    return config\n",
        "\n",
        "# Function to preprocess the data (handle NaN and non-numeric columns)\n",
        "def preprocess_data(df):\n",
        "    \"\"\"Preprocesses data by filling NaN values and selecting numeric columns only.\"\"\"\n",
        "    df = df.fillna(0)  # Fill missing values with 0\n",
        "    df = df.select_dtypes(include=[int, float])  # Keep only numeric columns\n",
        "    df = df.astype(float)  # Ensure all values are floats\n",
        "    return df\n",
        "\n",
        "# Function to load node and edge data from CSV files in a specified folder\n",
        "def load_graph_data(csv_folder_path):\n",
        "    \"\"\"Loads node and edge data from CSV files in a specified folder.\"\"\"\n",
        "    node_data, edge_data = None, None\n",
        "    folders = os.listdir(csv_folder_path)\n",
        "\n",
        "    for folder in folders:\n",
        "        files = os.listdir(os.path.join(csv_folder_path, folder))\n",
        "        for csv_file in files:\n",
        "            file_path = os.path.join(csv_folder_path, folder, csv_file)\n",
        "            if folder == 'nodes':\n",
        "                node_data = pd.read_csv(file_path) if node_data is None else pd.concat([node_data, pd.read_csv(file_path)], ignore_index=True)\n",
        "            elif folder == 'edges':\n",
        "                edge_data = pd.read_csv(file_path) if edge_data is None else pd.concat([edge_data, pd.read_csv(file_path)], ignore_index=True)\n",
        "\n",
        "    node_data = preprocess_data(node_data)\n",
        "    edge_data = preprocess_data(edge_data)\n",
        "\n",
        "    return node_data, edge_data\n",
        "\n",
        "# Function to create a PyTorch Geometric Data object with node features and edge indices\n",
        "def create_graph_data(node_data, edge_data, labels):\n",
        "    \"\"\"Creates a PyTorch Geometric Data object with node features, edge indices, and labels.\"\"\"\n",
        "    if node_data is not None and edge_data is not None and labels is not None:\n",
        "        # Ensure edge index is properly shaped (source, destination) format\n",
        "        edge_index = torch.tensor(edge_data.values.T, dtype=torch.long)\n",
        "        if edge_index.size(0) != 2:\n",
        "            print(f\"Reshaping edge_index from {edge_index.size()} to (2, -1)\")\n",
        "            edge_index = edge_index[:2, :]  # Ensure edge index has two rows (source, target)\n",
        "            # edge_index = edge_index.reshape(2, -1)\n",
        "        graph_data = Data(\n",
        "            x=torch.tensor(node_data.values, dtype=torch.float32),\n",
        "            edge_index=edge_index,\n",
        "            y=torch.tensor(labels.values, dtype=torch.long)\n",
        "        )\n",
        "        return graph_data\n",
        "    else:\n",
        "        raise ValueError(\"Node data, Edge data, or Labels are missing.\")\n",
        "\n",
        "# Function to calculate accuracy based on predictions and targets\n",
        "def calculate_accuracy(predictions, targets):\n",
        "    \"\"\"Calculates accuracy of the model.\"\"\"\n",
        "    _, predicted_labels = torch.max(predictions, 1)\n",
        "    correct = (predicted_labels == targets).sum().item()\n",
        "    accuracy = correct / targets.size(0) * 100\n",
        "    return accuracy\n",
        "\n",
        "# Training function with tabular results\n",
        "def train_model_with_accuracy(model, train_data, learning_rate, epochs, batch_size):\n",
        "    \"\"\"Trains the model and tracks accuracy and loss over epochs.\"\"\"\n",
        "    optimizer = torch.optim.Adam(model.parameters(), lr=learning_rate)\n",
        "    train_loader = DataLoader(train_data, batch_size=batch_size, shuffle=True)\n",
        "\n",
        "    epoch_losses = []\n",
        "    epoch_accuracies = []\n",
        "    epoch_errors = []\n",
        "    best_accuracy = 0.0\n",
        "    best_epoch = 0\n",
        "\n",
        "    model.train()\n",
        "\n",
        "    for epoch in range(epochs):\n",
        "        epoch_loss = 0\n",
        "        total_batches = len(train_loader)\n",
        "        total_accuracy = 0\n",
        "\n",
        "        with tqdm(total=total_batches, desc=f'Training Epoch {epoch + 1}/{epochs}', unit='batch') as pbar:\n",
        "            for batch_idx, data in enumerate(train_loader):\n",
        "                optimizer.zero_grad()\n",
        "\n",
        "                # Forward pass: get predictions\n",
        "                predictions, _ = model(data.x, data.edge_index)\n",
        "\n",
        "                # Ensure `data.y` contains valid labels\n",
        "                if data.y is None:\n",
        "                    raise ValueError(\"Missing target labels (data.y) for loss and accuracy calculation.\")\n",
        "\n",
        "                # Compute loss\n",
        "                loss = F.cross_entropy(predictions, data.y)\n",
        "                loss.backward()\n",
        "                optimizer.step()\n",
        "\n",
        "                # Update loss\n",
        "                epoch_loss += loss.item()\n",
        "\n",
        "                # Calculate batch accuracy and error\n",
        "                accuracy = calculate_accuracy(predictions, data.y)\n",
        "                total_accuracy += accuracy\n",
        "\n",
        "                pbar.update(1)\n",
        "                pbar.set_postfix(loss=loss.item(), accuracy=f'{accuracy:.2f}%')\n",
        "\n",
        "        avg_loss = epoch_loss / total_batches\n",
        "        avg_accuracy = total_accuracy / total_batches\n",
        "        avg_error = 100 - avg_accuracy\n",
        "\n",
        "        epoch_losses.append(avg_loss)\n",
        "        epoch_accuracies.append(avg_accuracy)\n",
        "        epoch_errors.append(avg_error)\n",
        "\n",
        "        # Track best accuracy\n",
        "        if avg_accuracy > best_accuracy:\n",
        "            best_accuracy = avg_accuracy\n",
        "            best_epoch = epoch + 1\n",
        "\n",
        "        print(f'Epoch [{epoch + 1}/{epochs}], Loss: {avg_loss:.4f}, Accuracy: {avg_accuracy:.2f}%, Error: {avg_error:.2f}%')\n",
        "\n",
        "    print(f'\\nBest Accuracy: {best_accuracy:.2f}% achieved at Epoch {best_epoch}')\n",
        "\n",
        "    # Create a DataFrame to display in tabular form\n",
        "    results_df = pd.DataFrame({\n",
        "        'Epoch': range(1, epochs + 1),\n",
        "        'Loss': epoch_losses,\n",
        "        'Accuracy (%)': epoch_accuracies,\n",
        "        'Error (%)': epoch_errors\n",
        "    })\n",
        "\n",
        "    print(\"\\nTraining Summary:\")\n",
        "    print(results_df.to_string(index=False))\n",
        "\n",
        "    return epoch_losses, epoch_accuracies, best_accuracy, best_epoch\n"
      ]
    },
    {
      "cell_type": "markdown",
      "metadata": {
        "id": "mBnfrLrnDgCd"
      },
      "source": [
        "# **check if CUDA is available in your environment (whether you're using a GPU)** **and** **check the version of PyTorch installed in your environment**\n"
      ]
    },
    {
      "cell_type": "code",
      "execution_count": 40,
      "metadata": {
        "id": "b4HDjX07DRC3",
        "colab": {
          "base_uri": "https://localhost:8080/"
        },
        "outputId": "5140c0d6-1ba6-4e44-8bbe-bee6715c3d2c"
      },
      "outputs": [
        {
          "output_type": "stream",
          "name": "stdout",
          "text": [
            "CUDA is available. You're using a GPU!\n",
            "Device name: Tesla T4\n",
            "2.5.0+cu121\n"
          ]
        }
      ],
      "source": [
        "import torch\n",
        "\n",
        "if torch.cuda.is_available():\n",
        "    print(\"CUDA is available. You're using a GPU!\")\n",
        "    print(f\"Device name: {torch.cuda.get_device_name(0)}\")\n",
        "else:\n",
        "    print(\"CUDA is not available. You're using a CPU.\")\n",
        "\n",
        "print(torch.__version__)"
      ]
    },
    {
      "cell_type": "markdown",
      "metadata": {
        "id": "UbUme2QAA44k"
      },
      "source": [
        "# **Start Training Model Graphs**\n",
        "**best accuracy and epoch**"
      ]
    },
    {
      "cell_type": "code",
      "source": [
        "if __name__ == \"__main__\":\n",
        "    try:\n",
        "        # Load the model configuration from the YAML file\n",
        "        yaml_file_path = '/content/drive/MyDrive/gnnmodel/model (2).yaml'\n",
        "        model_config = load_model_config(yaml_file_path)\n",
        "\n",
        "        # Load and preprocess data from the specified CSV folder\n",
        "        node_data, edge_data = load_graph_data('/content/MetaModel_EXTRA/csvfiles')\n",
        "\n",
        "        # Use the 'graphNumber' column from the node data as labels\n",
        "        labels = node_data['graphNumber']\n",
        "\n",
        "        # Create the graph data object (PyTorch Geometric Data object)\n",
        "        graph_data = create_graph_data(node_data, edge_data, labels)\n",
        "\n",
        "        # Ensure edge index is in correct format and add self-loops\n",
        "        num_nodes = graph_data.x.size(0)\n",
        "        graph_data.edge_index, _ = add_remaining_self_loops(graph_data.edge_index, num_nodes=num_nodes)\n",
        "\n",
        "        # Initialize the GCN model based on YAML configuration\n",
        "        model = GCN(\n",
        "            num_layers=model_config['hidden_layers'],\n",
        "            layer_dims=model_config['layer_dimensions'],\n",
        "            activation_func=model_config['activation_function'],\n",
        "            dropout_rate=model_config['dropout']  # Ensure dropout rate is passed from the YAML config\n",
        "        )\n",
        "\n",
        "        # Train the model using the provided configuration and graph data\n",
        "        epoch_losses, epoch_accuracies, best_accuracy, best_epoch = train_model_with_accuracy(\n",
        "            model, [graph_data],  # Wrap the graph_data in a list for the DataLoader\n",
        "            learning_rate=model_config['learning_rate'],\n",
        "            epochs=model_config['epochs'],\n",
        "            batch_size=model_config['batch_size']\n",
        "        )\n",
        "\n",
        "        # Output the best accuracy and corresponding epoch\n",
        "        print(f\"Best Accuracy: {best_accuracy:.2f}% at epoch {best_epoch}\")\n",
        "\n",
        "    except Exception as e:\n",
        "        print(f\"An error occurred during execution: {e}\")\n"
      ],
      "metadata": {
        "colab": {
          "base_uri": "https://localhost:8080/"
        },
        "id": "uLzgB2pAsdh6",
        "outputId": "e3b07511-2f52-44b2-ae50-e6f6a99cedd3"
      },
      "execution_count": 42,
      "outputs": [
        {
          "output_type": "stream",
          "name": "stderr",
          "text": [
            "/usr/local/lib/python3.10/dist-packages/torch_geometric/deprecation.py:26: UserWarning: 'data.DataLoader' is deprecated, use 'loader.DataLoader' instead\n",
            "  warnings.warn(out)\n"
          ]
        },
        {
          "output_type": "stream",
          "name": "stdout",
          "text": [
            "Reshaping edge_index from torch.Size([14, 89]) to (2, -1)\n"
          ]
        },
        {
          "output_type": "stream",
          "name": "stderr",
          "text": [
            "Training Epoch 1/200: 100%|██████████| 1/1 [00:00<00:00,  5.63batch/s, accuracy=0.00%, loss=4.64]\n"
          ]
        },
        {
          "output_type": "stream",
          "name": "stdout",
          "text": [
            "Epoch [1/200], Loss: 4.6406, Accuracy: 0.00%, Error: 100.00%\n"
          ]
        },
        {
          "output_type": "stream",
          "name": "stderr",
          "text": [
            "Training Epoch 2/200: 100%|██████████| 1/1 [00:00<00:00, 63.74batch/s, accuracy=2.27%, loss=4.25]\n"
          ]
        },
        {
          "output_type": "stream",
          "name": "stdout",
          "text": [
            "Epoch [2/200], Loss: 4.2498, Accuracy: 2.27%, Error: 97.73%\n"
          ]
        },
        {
          "output_type": "stream",
          "name": "stderr",
          "text": [
            "Training Epoch 3/200: 100%|██████████| 1/1 [00:00<00:00, 65.64batch/s, accuracy=4.55%, loss=3.81]\n"
          ]
        },
        {
          "output_type": "stream",
          "name": "stdout",
          "text": [
            "Epoch [3/200], Loss: 3.8133, Accuracy: 4.55%, Error: 95.45%\n"
          ]
        },
        {
          "output_type": "stream",
          "name": "stderr",
          "text": [
            "Training Epoch 4/200: 100%|██████████| 1/1 [00:00<00:00, 33.25batch/s, accuracy=4.55%, loss=4.32]\n"
          ]
        },
        {
          "output_type": "stream",
          "name": "stdout",
          "text": [
            "Epoch [4/200], Loss: 4.3246, Accuracy: 4.55%, Error: 95.45%\n"
          ]
        },
        {
          "output_type": "stream",
          "name": "stderr",
          "text": [
            "Training Epoch 5/200: 100%|██████████| 1/1 [00:00<00:00, 28.15batch/s, accuracy=11.36%, loss=3.95]\n"
          ]
        },
        {
          "output_type": "stream",
          "name": "stdout",
          "text": [
            "Epoch [5/200], Loss: 3.9486, Accuracy: 11.36%, Error: 88.64%\n"
          ]
        },
        {
          "output_type": "stream",
          "name": "stderr",
          "text": [
            "Training Epoch 6/200: 100%|██████████| 1/1 [00:00<00:00, 62.43batch/s, accuracy=13.64%, loss=3.92]\n"
          ]
        },
        {
          "output_type": "stream",
          "name": "stdout",
          "text": [
            "Epoch [6/200], Loss: 3.9244, Accuracy: 13.64%, Error: 86.36%\n"
          ]
        },
        {
          "output_type": "stream",
          "name": "stderr",
          "text": [
            "Training Epoch 7/200: 100%|██████████| 1/1 [00:00<00:00, 59.65batch/s, accuracy=9.09%, loss=3.75] \n"
          ]
        },
        {
          "output_type": "stream",
          "name": "stdout",
          "text": [
            "Epoch [7/200], Loss: 3.7479, Accuracy: 9.09%, Error: 90.91%\n"
          ]
        },
        {
          "output_type": "stream",
          "name": "stderr",
          "text": [
            "Training Epoch 8/200: 100%|██████████| 1/1 [00:00<00:00, 51.93batch/s, accuracy=9.09%, loss=4.07]\n"
          ]
        },
        {
          "output_type": "stream",
          "name": "stdout",
          "text": [
            "Epoch [8/200], Loss: 4.0651, Accuracy: 9.09%, Error: 90.91%\n"
          ]
        },
        {
          "output_type": "stream",
          "name": "stderr",
          "text": [
            "Training Epoch 9/200: 100%|██████████| 1/1 [00:00<00:00, 69.37batch/s, accuracy=27.27%, loss=3.27]\n"
          ]
        },
        {
          "output_type": "stream",
          "name": "stdout",
          "text": [
            "Epoch [9/200], Loss: 3.2713, Accuracy: 27.27%, Error: 72.73%\n"
          ]
        },
        {
          "output_type": "stream",
          "name": "stderr",
          "text": [
            "Training Epoch 10/200: 100%|██████████| 1/1 [00:00<00:00, 44.31batch/s, accuracy=13.64%, loss=3.84]\n"
          ]
        },
        {
          "output_type": "stream",
          "name": "stdout",
          "text": [
            "Epoch [10/200], Loss: 3.8385, Accuracy: 13.64%, Error: 86.36%\n"
          ]
        },
        {
          "output_type": "stream",
          "name": "stderr",
          "text": [
            "Training Epoch 11/200: 100%|██████████| 1/1 [00:00<00:00, 52.83batch/s, accuracy=15.91%, loss=3.44]\n"
          ]
        },
        {
          "output_type": "stream",
          "name": "stdout",
          "text": [
            "Epoch [11/200], Loss: 3.4411, Accuracy: 15.91%, Error: 84.09%\n"
          ]
        },
        {
          "output_type": "stream",
          "name": "stderr",
          "text": [
            "Training Epoch 12/200: 100%|██████████| 1/1 [00:00<00:00, 72.20batch/s, accuracy=13.64%, loss=3.88]\n"
          ]
        },
        {
          "output_type": "stream",
          "name": "stdout",
          "text": [
            "Epoch [12/200], Loss: 3.8774, Accuracy: 13.64%, Error: 86.36%\n"
          ]
        },
        {
          "output_type": "stream",
          "name": "stderr",
          "text": [
            "Training Epoch 13/200: 100%|██████████| 1/1 [00:00<00:00, 76.22batch/s, accuracy=13.64%, loss=3.42] \n"
          ]
        },
        {
          "output_type": "stream",
          "name": "stdout",
          "text": [
            "Epoch [13/200], Loss: 3.4199, Accuracy: 13.64%, Error: 86.36%\n"
          ]
        },
        {
          "output_type": "stream",
          "name": "stderr",
          "text": [
            "Training Epoch 14/200: 100%|██████████| 1/1 [00:00<00:00, 42.55batch/s, accuracy=18.18%, loss=3.44]\n"
          ]
        },
        {
          "output_type": "stream",
          "name": "stdout",
          "text": [
            "Epoch [14/200], Loss: 3.4389, Accuracy: 18.18%, Error: 81.82%\n"
          ]
        },
        {
          "output_type": "stream",
          "name": "stderr",
          "text": [
            "Training Epoch 15/200: 100%|██████████| 1/1 [00:00<00:00, 59.96batch/s, accuracy=27.27%, loss=3.21]\n"
          ]
        },
        {
          "output_type": "stream",
          "name": "stdout",
          "text": [
            "Epoch [15/200], Loss: 3.2127, Accuracy: 27.27%, Error: 72.73%\n"
          ]
        },
        {
          "output_type": "stream",
          "name": "stderr",
          "text": [
            "Training Epoch 16/200: 100%|██████████| 1/1 [00:00<00:00, 65.02batch/s, accuracy=22.73%, loss=3.4]\n"
          ]
        },
        {
          "output_type": "stream",
          "name": "stdout",
          "text": [
            "Epoch [16/200], Loss: 3.3958, Accuracy: 22.73%, Error: 77.27%\n"
          ]
        },
        {
          "output_type": "stream",
          "name": "stderr",
          "text": [
            "Training Epoch 17/200: 100%|██████████| 1/1 [00:00<00:00, 77.93batch/s, accuracy=20.45%, loss=3.43] \n"
          ]
        },
        {
          "output_type": "stream",
          "name": "stdout",
          "text": [
            "Epoch [17/200], Loss: 3.4299, Accuracy: 20.45%, Error: 79.55%\n"
          ]
        },
        {
          "output_type": "stream",
          "name": "stderr",
          "text": [
            "Training Epoch 18/200: 100%|██████████| 1/1 [00:00<00:00, 81.42batch/s, accuracy=18.18%, loss=3.19] \n"
          ]
        },
        {
          "output_type": "stream",
          "name": "stdout",
          "text": [
            "Epoch [18/200], Loss: 3.1937, Accuracy: 18.18%, Error: 81.82%\n"
          ]
        },
        {
          "output_type": "stream",
          "name": "stderr",
          "text": [
            "Training Epoch 19/200: 100%|██████████| 1/1 [00:00<00:00, 26.76batch/s, accuracy=25.00%, loss=3.22]\n"
          ]
        },
        {
          "output_type": "stream",
          "name": "stdout",
          "text": [
            "Epoch [19/200], Loss: 3.2226, Accuracy: 25.00%, Error: 75.00%\n"
          ]
        },
        {
          "output_type": "stream",
          "name": "stderr",
          "text": [
            "Training Epoch 20/200: 100%|██████████| 1/1 [00:00<00:00, 60.62batch/s, accuracy=20.45%, loss=3.4]\n"
          ]
        },
        {
          "output_type": "stream",
          "name": "stdout",
          "text": [
            "Epoch [20/200], Loss: 3.3991, Accuracy: 20.45%, Error: 79.55%\n"
          ]
        },
        {
          "output_type": "stream",
          "name": "stderr",
          "text": [
            "Training Epoch 21/200: 100%|██████████| 1/1 [00:00<00:00, 73.79batch/s, accuracy=22.73%, loss=3.26]\n"
          ]
        },
        {
          "output_type": "stream",
          "name": "stdout",
          "text": [
            "Epoch [21/200], Loss: 3.2580, Accuracy: 22.73%, Error: 77.27%\n"
          ]
        },
        {
          "output_type": "stream",
          "name": "stderr",
          "text": [
            "Training Epoch 22/200: 100%|██████████| 1/1 [00:00<00:00, 101.28batch/s, accuracy=11.36%, loss=3.31]\n"
          ]
        },
        {
          "output_type": "stream",
          "name": "stdout",
          "text": [
            "Epoch [22/200], Loss: 3.3073, Accuracy: 11.36%, Error: 88.64%\n"
          ]
        },
        {
          "output_type": "stream",
          "name": "stderr",
          "text": [
            "Training Epoch 23/200: 100%|██████████| 1/1 [00:00<00:00, 67.56batch/s, accuracy=25.00%, loss=2.74]\n"
          ]
        },
        {
          "output_type": "stream",
          "name": "stdout",
          "text": [
            "Epoch [23/200], Loss: 2.7383, Accuracy: 25.00%, Error: 75.00%\n"
          ]
        },
        {
          "output_type": "stream",
          "name": "stderr",
          "text": [
            "Training Epoch 24/200: 100%|██████████| 1/1 [00:00<00:00, 67.12batch/s, accuracy=22.73%, loss=3.14]\n"
          ]
        },
        {
          "output_type": "stream",
          "name": "stdout",
          "text": [
            "Epoch [24/200], Loss: 3.1409, Accuracy: 22.73%, Error: 77.27%\n"
          ]
        },
        {
          "output_type": "stream",
          "name": "stderr",
          "text": [
            "Training Epoch 25/200: 100%|██████████| 1/1 [00:00<00:00, 109.24batch/s, accuracy=25.00%, loss=3.04]\n"
          ]
        },
        {
          "output_type": "stream",
          "name": "stdout",
          "text": [
            "Epoch [25/200], Loss: 3.0375, Accuracy: 25.00%, Error: 75.00%\n"
          ]
        },
        {
          "output_type": "stream",
          "name": "stderr",
          "text": [
            "Training Epoch 26/200: 100%|██████████| 1/1 [00:00<00:00, 112.11batch/s, accuracy=13.64%, loss=3.81]\n"
          ]
        },
        {
          "output_type": "stream",
          "name": "stdout",
          "text": [
            "Epoch [26/200], Loss: 3.8060, Accuracy: 13.64%, Error: 86.36%\n"
          ]
        },
        {
          "output_type": "stream",
          "name": "stderr",
          "text": [
            "Training Epoch 27/200: 100%|██████████| 1/1 [00:00<00:00, 78.00batch/s, accuracy=25.00%, loss=2.89]\n"
          ]
        },
        {
          "output_type": "stream",
          "name": "stdout",
          "text": [
            "Epoch [27/200], Loss: 2.8934, Accuracy: 25.00%, Error: 75.00%\n"
          ]
        },
        {
          "output_type": "stream",
          "name": "stderr",
          "text": [
            "Training Epoch 28/200: 100%|██████████| 1/1 [00:00<00:00, 94.90batch/s, accuracy=22.73%, loss=3.14] \n"
          ]
        },
        {
          "output_type": "stream",
          "name": "stdout",
          "text": [
            "Epoch [28/200], Loss: 3.1438, Accuracy: 22.73%, Error: 77.27%\n"
          ]
        },
        {
          "output_type": "stream",
          "name": "stderr",
          "text": [
            "Training Epoch 29/200: 100%|██████████| 1/1 [00:00<00:00, 104.18batch/s, accuracy=18.18%, loss=3.28]\n"
          ]
        },
        {
          "output_type": "stream",
          "name": "stdout",
          "text": [
            "Epoch [29/200], Loss: 3.2752, Accuracy: 18.18%, Error: 81.82%\n"
          ]
        },
        {
          "output_type": "stream",
          "name": "stderr",
          "text": [
            "Training Epoch 30/200: 100%|██████████| 1/1 [00:00<00:00, 78.49batch/s, accuracy=25.00%, loss=3.16]\n"
          ]
        },
        {
          "output_type": "stream",
          "name": "stdout",
          "text": [
            "Epoch [30/200], Loss: 3.1574, Accuracy: 25.00%, Error: 75.00%\n"
          ]
        },
        {
          "output_type": "stream",
          "name": "stderr",
          "text": [
            "Training Epoch 31/200: 100%|██████████| 1/1 [00:00<00:00, 97.94batch/s, accuracy=27.27%, loss=2.97] \n"
          ]
        },
        {
          "output_type": "stream",
          "name": "stdout",
          "text": [
            "Epoch [31/200], Loss: 2.9667, Accuracy: 27.27%, Error: 72.73%\n"
          ]
        },
        {
          "output_type": "stream",
          "name": "stderr",
          "text": [
            "Training Epoch 32/200: 100%|██████████| 1/1 [00:00<00:00, 100.72batch/s, accuracy=18.18%, loss=3.35]\n"
          ]
        },
        {
          "output_type": "stream",
          "name": "stdout",
          "text": [
            "Epoch [32/200], Loss: 3.3475, Accuracy: 18.18%, Error: 81.82%\n"
          ]
        },
        {
          "output_type": "stream",
          "name": "stderr",
          "text": [
            "Training Epoch 33/200: 100%|██████████| 1/1 [00:00<00:00, 74.67batch/s, accuracy=13.64%, loss=3.18] \n"
          ]
        },
        {
          "output_type": "stream",
          "name": "stdout",
          "text": [
            "Epoch [33/200], Loss: 3.1782, Accuracy: 13.64%, Error: 86.36%\n"
          ]
        },
        {
          "output_type": "stream",
          "name": "stderr",
          "text": [
            "Training Epoch 34/200: 100%|██████████| 1/1 [00:00<00:00, 114.51batch/s, accuracy=29.55%, loss=2.92]\n"
          ]
        },
        {
          "output_type": "stream",
          "name": "stdout",
          "text": [
            "Epoch [34/200], Loss: 2.9193, Accuracy: 29.55%, Error: 70.45%\n"
          ]
        },
        {
          "output_type": "stream",
          "name": "stderr",
          "text": [
            "Training Epoch 35/200: 100%|██████████| 1/1 [00:00<00:00, 97.99batch/s, accuracy=22.73%, loss=3.08] \n"
          ]
        },
        {
          "output_type": "stream",
          "name": "stdout",
          "text": [
            "Epoch [35/200], Loss: 3.0839, Accuracy: 22.73%, Error: 77.27%\n"
          ]
        },
        {
          "output_type": "stream",
          "name": "stderr",
          "text": [
            "Training Epoch 36/200: 100%|██████████| 1/1 [00:00<00:00, 73.03batch/s, accuracy=25.00%, loss=3.17] \n"
          ]
        },
        {
          "output_type": "stream",
          "name": "stdout",
          "text": [
            "Epoch [36/200], Loss: 3.1693, Accuracy: 25.00%, Error: 75.00%\n"
          ]
        },
        {
          "output_type": "stream",
          "name": "stderr",
          "text": [
            "Training Epoch 37/200: 100%|██████████| 1/1 [00:00<00:00, 85.48batch/s, accuracy=15.91%, loss=3.16]\n"
          ]
        },
        {
          "output_type": "stream",
          "name": "stdout",
          "text": [
            "Epoch [37/200], Loss: 3.1614, Accuracy: 15.91%, Error: 84.09%\n"
          ]
        },
        {
          "output_type": "stream",
          "name": "stderr",
          "text": [
            "Training Epoch 38/200: 100%|██████████| 1/1 [00:00<00:00, 93.29batch/s, accuracy=20.45%, loss=3.19] \n"
          ]
        },
        {
          "output_type": "stream",
          "name": "stdout",
          "text": [
            "Epoch [38/200], Loss: 3.1926, Accuracy: 20.45%, Error: 79.55%\n"
          ]
        },
        {
          "output_type": "stream",
          "name": "stderr",
          "text": [
            "Training Epoch 39/200: 100%|██████████| 1/1 [00:00<00:00, 59.14batch/s, accuracy=18.18%, loss=3.23]\n"
          ]
        },
        {
          "output_type": "stream",
          "name": "stdout",
          "text": [
            "Epoch [39/200], Loss: 3.2331, Accuracy: 18.18%, Error: 81.82%\n"
          ]
        },
        {
          "output_type": "stream",
          "name": "stderr",
          "text": [
            "Training Epoch 40/200: 100%|██████████| 1/1 [00:00<00:00, 49.18batch/s, accuracy=36.36%, loss=2.68]\n"
          ]
        },
        {
          "output_type": "stream",
          "name": "stdout",
          "text": [
            "Epoch [40/200], Loss: 2.6802, Accuracy: 36.36%, Error: 63.64%\n"
          ]
        },
        {
          "output_type": "stream",
          "name": "stderr",
          "text": [
            "Training Epoch 41/200: 100%|██████████| 1/1 [00:00<00:00, 73.47batch/s, accuracy=29.55%, loss=2.85]\n"
          ]
        },
        {
          "output_type": "stream",
          "name": "stdout",
          "text": [
            "Epoch [41/200], Loss: 2.8475, Accuracy: 29.55%, Error: 70.45%\n"
          ]
        },
        {
          "output_type": "stream",
          "name": "stderr",
          "text": [
            "Training Epoch 42/200: 100%|██████████| 1/1 [00:00<00:00, 72.71batch/s, accuracy=18.18%, loss=3.48]\n"
          ]
        },
        {
          "output_type": "stream",
          "name": "stdout",
          "text": [
            "Epoch [42/200], Loss: 3.4768, Accuracy: 18.18%, Error: 81.82%\n"
          ]
        },
        {
          "output_type": "stream",
          "name": "stderr",
          "text": [
            "Training Epoch 43/200: 100%|██████████| 1/1 [00:00<00:00, 83.37batch/s, accuracy=31.82%, loss=2.95] \n"
          ]
        },
        {
          "output_type": "stream",
          "name": "stdout",
          "text": [
            "Epoch [43/200], Loss: 2.9478, Accuracy: 31.82%, Error: 68.18%\n"
          ]
        },
        {
          "output_type": "stream",
          "name": "stderr",
          "text": [
            "Training Epoch 44/200: 100%|██████████| 1/1 [00:00<00:00, 68.01batch/s, accuracy=29.55%, loss=2.98]\n"
          ]
        },
        {
          "output_type": "stream",
          "name": "stdout",
          "text": [
            "Epoch [44/200], Loss: 2.9805, Accuracy: 29.55%, Error: 70.45%\n"
          ]
        },
        {
          "output_type": "stream",
          "name": "stderr",
          "text": [
            "Training Epoch 45/200: 100%|██████████| 1/1 [00:00<00:00, 67.93batch/s, accuracy=27.27%, loss=3.03]\n"
          ]
        },
        {
          "output_type": "stream",
          "name": "stdout",
          "text": [
            "Epoch [45/200], Loss: 3.0312, Accuracy: 27.27%, Error: 72.73%\n"
          ]
        },
        {
          "output_type": "stream",
          "name": "stderr",
          "text": [
            "Training Epoch 46/200: 100%|██████████| 1/1 [00:00<00:00, 78.03batch/s, accuracy=27.27%, loss=2.93]\n"
          ]
        },
        {
          "output_type": "stream",
          "name": "stdout",
          "text": [
            "Epoch [46/200], Loss: 2.9253, Accuracy: 27.27%, Error: 72.73%\n"
          ]
        },
        {
          "output_type": "stream",
          "name": "stderr",
          "text": [
            "Training Epoch 47/200: 100%|██████████| 1/1 [00:00<00:00, 49.22batch/s, accuracy=22.73%, loss=3.12]\n"
          ]
        },
        {
          "output_type": "stream",
          "name": "stdout",
          "text": [
            "Epoch [47/200], Loss: 3.1169, Accuracy: 22.73%, Error: 77.27%\n"
          ]
        },
        {
          "output_type": "stream",
          "name": "stderr",
          "text": [
            "Training Epoch 48/200: 100%|██████████| 1/1 [00:00<00:00, 80.13batch/s, accuracy=29.55%, loss=2.93]\n"
          ]
        },
        {
          "output_type": "stream",
          "name": "stdout",
          "text": [
            "Epoch [48/200], Loss: 2.9281, Accuracy: 29.55%, Error: 70.45%\n"
          ]
        },
        {
          "output_type": "stream",
          "name": "stderr",
          "text": [
            "Training Epoch 49/200: 100%|██████████| 1/1 [00:00<00:00, 97.53batch/s, accuracy=11.36%, loss=3.37] \n"
          ]
        },
        {
          "output_type": "stream",
          "name": "stdout",
          "text": [
            "Epoch [49/200], Loss: 3.3659, Accuracy: 11.36%, Error: 88.64%\n"
          ]
        },
        {
          "output_type": "stream",
          "name": "stderr",
          "text": [
            "Training Epoch 50/200: 100%|██████████| 1/1 [00:00<00:00, 54.31batch/s, accuracy=31.82%, loss=2.77]\n"
          ]
        },
        {
          "output_type": "stream",
          "name": "stdout",
          "text": [
            "Epoch [50/200], Loss: 2.7737, Accuracy: 31.82%, Error: 68.18%\n"
          ]
        },
        {
          "output_type": "stream",
          "name": "stderr",
          "text": [
            "Training Epoch 51/200: 100%|██████████| 1/1 [00:00<00:00, 95.16batch/s, accuracy=18.18%, loss=3.24] \n"
          ]
        },
        {
          "output_type": "stream",
          "name": "stdout",
          "text": [
            "Epoch [51/200], Loss: 3.2380, Accuracy: 18.18%, Error: 81.82%\n"
          ]
        },
        {
          "output_type": "stream",
          "name": "stderr",
          "text": [
            "Training Epoch 52/200: 100%|██████████| 1/1 [00:00<00:00, 110.12batch/s, accuracy=25.00%, loss=2.86]\n"
          ]
        },
        {
          "output_type": "stream",
          "name": "stdout",
          "text": [
            "Epoch [52/200], Loss: 2.8557, Accuracy: 25.00%, Error: 75.00%\n"
          ]
        },
        {
          "output_type": "stream",
          "name": "stderr",
          "text": [
            "Training Epoch 53/200: 100%|██████████| 1/1 [00:00<00:00, 53.32batch/s, accuracy=36.36%, loss=3.2]\n"
          ]
        },
        {
          "output_type": "stream",
          "name": "stdout",
          "text": [
            "Epoch [53/200], Loss: 3.2021, Accuracy: 36.36%, Error: 63.64%\n"
          ]
        },
        {
          "output_type": "stream",
          "name": "stderr",
          "text": [
            "Training Epoch 54/200: 100%|██████████| 1/1 [00:00<00:00, 64.63batch/s, accuracy=31.82%, loss=3.07]\n"
          ]
        },
        {
          "output_type": "stream",
          "name": "stdout",
          "text": [
            "Epoch [54/200], Loss: 3.0655, Accuracy: 31.82%, Error: 68.18%\n"
          ]
        },
        {
          "output_type": "stream",
          "name": "stderr",
          "text": [
            "Training Epoch 55/200: 100%|██████████| 1/1 [00:00<00:00, 97.90batch/s, accuracy=40.91%, loss=2.5] \n"
          ]
        },
        {
          "output_type": "stream",
          "name": "stdout",
          "text": [
            "Epoch [55/200], Loss: 2.5043, Accuracy: 40.91%, Error: 59.09%\n"
          ]
        },
        {
          "output_type": "stream",
          "name": "stderr",
          "text": [
            "Training Epoch 56/200: 100%|██████████| 1/1 [00:00<00:00, 74.31batch/s, accuracy=27.27%, loss=3.26]\n"
          ]
        },
        {
          "output_type": "stream",
          "name": "stdout",
          "text": [
            "Epoch [56/200], Loss: 3.2557, Accuracy: 27.27%, Error: 72.73%\n"
          ]
        },
        {
          "output_type": "stream",
          "name": "stderr",
          "text": [
            "Training Epoch 57/200: 100%|██████████| 1/1 [00:00<00:00, 68.34batch/s, accuracy=34.09%, loss=2.59]\n"
          ]
        },
        {
          "output_type": "stream",
          "name": "stdout",
          "text": [
            "Epoch [57/200], Loss: 2.5902, Accuracy: 34.09%, Error: 65.91%\n"
          ]
        },
        {
          "output_type": "stream",
          "name": "stderr",
          "text": [
            "Training Epoch 58/200: 100%|██████████| 1/1 [00:00<00:00, 66.40batch/s, accuracy=34.09%, loss=3.07]\n"
          ]
        },
        {
          "output_type": "stream",
          "name": "stdout",
          "text": [
            "Epoch [58/200], Loss: 3.0674, Accuracy: 34.09%, Error: 65.91%\n"
          ]
        },
        {
          "output_type": "stream",
          "name": "stderr",
          "text": [
            "Training Epoch 59/200: 100%|██████████| 1/1 [00:00<00:00, 82.04batch/s, accuracy=29.55%, loss=2.82] \n"
          ]
        },
        {
          "output_type": "stream",
          "name": "stdout",
          "text": [
            "Epoch [59/200], Loss: 2.8211, Accuracy: 29.55%, Error: 70.45%\n"
          ]
        },
        {
          "output_type": "stream",
          "name": "stderr",
          "text": [
            "Training Epoch 60/200: 100%|██████████| 1/1 [00:00<00:00, 76.79batch/s, accuracy=31.82%, loss=2.6]\n"
          ]
        },
        {
          "output_type": "stream",
          "name": "stdout",
          "text": [
            "Epoch [60/200], Loss: 2.5957, Accuracy: 31.82%, Error: 68.18%\n"
          ]
        },
        {
          "output_type": "stream",
          "name": "stderr",
          "text": [
            "Training Epoch 61/200: 100%|██████████| 1/1 [00:00<00:00, 84.25batch/s, accuracy=38.64%, loss=2.62]\n"
          ]
        },
        {
          "output_type": "stream",
          "name": "stdout",
          "text": [
            "Epoch [61/200], Loss: 2.6207, Accuracy: 38.64%, Error: 61.36%\n"
          ]
        },
        {
          "output_type": "stream",
          "name": "stderr",
          "text": [
            "Training Epoch 62/200: 100%|██████████| 1/1 [00:00<00:00, 72.72batch/s, accuracy=36.36%, loss=2.89]\n"
          ]
        },
        {
          "output_type": "stream",
          "name": "stdout",
          "text": [
            "Epoch [62/200], Loss: 2.8865, Accuracy: 36.36%, Error: 63.64%\n"
          ]
        },
        {
          "output_type": "stream",
          "name": "stderr",
          "text": [
            "Training Epoch 63/200: 100%|██████████| 1/1 [00:00<00:00, 71.87batch/s, accuracy=20.45%, loss=3.24] \n"
          ]
        },
        {
          "output_type": "stream",
          "name": "stdout",
          "text": [
            "Epoch [63/200], Loss: 3.2371, Accuracy: 20.45%, Error: 79.55%\n"
          ]
        },
        {
          "output_type": "stream",
          "name": "stderr",
          "text": [
            "Training Epoch 64/200: 100%|██████████| 1/1 [00:00<00:00, 74.26batch/s, accuracy=31.82%, loss=2.83]\n"
          ]
        },
        {
          "output_type": "stream",
          "name": "stdout",
          "text": [
            "Epoch [64/200], Loss: 2.8346, Accuracy: 31.82%, Error: 68.18%\n"
          ]
        },
        {
          "output_type": "stream",
          "name": "stderr",
          "text": [
            "Training Epoch 65/200: 100%|██████████| 1/1 [00:00<00:00, 77.09batch/s, accuracy=25.00%, loss=2.99]\n"
          ]
        },
        {
          "output_type": "stream",
          "name": "stdout",
          "text": [
            "Epoch [65/200], Loss: 2.9881, Accuracy: 25.00%, Error: 75.00%\n"
          ]
        },
        {
          "output_type": "stream",
          "name": "stderr",
          "text": [
            "Training Epoch 66/200: 100%|██████████| 1/1 [00:00<00:00, 82.67batch/s, accuracy=34.09%, loss=2.77] \n"
          ]
        },
        {
          "output_type": "stream",
          "name": "stdout",
          "text": [
            "Epoch [66/200], Loss: 2.7731, Accuracy: 34.09%, Error: 65.91%\n"
          ]
        },
        {
          "output_type": "stream",
          "name": "stderr",
          "text": [
            "Training Epoch 67/200: 100%|██████████| 1/1 [00:00<00:00, 82.88batch/s, accuracy=20.45%, loss=3.1] \n"
          ]
        },
        {
          "output_type": "stream",
          "name": "stdout",
          "text": [
            "Epoch [67/200], Loss: 3.1050, Accuracy: 20.45%, Error: 79.55%\n"
          ]
        },
        {
          "output_type": "stream",
          "name": "stderr",
          "text": [
            "Training Epoch 68/200: 100%|██████████| 1/1 [00:00<00:00, 76.98batch/s, accuracy=13.64%, loss=3.06]\n"
          ]
        },
        {
          "output_type": "stream",
          "name": "stdout",
          "text": [
            "Epoch [68/200], Loss: 3.0628, Accuracy: 13.64%, Error: 86.36%\n"
          ]
        },
        {
          "output_type": "stream",
          "name": "stderr",
          "text": [
            "Training Epoch 69/200: 100%|██████████| 1/1 [00:00<00:00, 68.76batch/s, accuracy=31.82%, loss=2.81]\n"
          ]
        },
        {
          "output_type": "stream",
          "name": "stdout",
          "text": [
            "Epoch [69/200], Loss: 2.8077, Accuracy: 31.82%, Error: 68.18%\n"
          ]
        },
        {
          "output_type": "stream",
          "name": "stderr",
          "text": [
            "Training Epoch 70/200: 100%|██████████| 1/1 [00:00<00:00, 64.68batch/s, accuracy=25.00%, loss=3.26]\n"
          ]
        },
        {
          "output_type": "stream",
          "name": "stdout",
          "text": [
            "Epoch [70/200], Loss: 3.2599, Accuracy: 25.00%, Error: 75.00%\n"
          ]
        },
        {
          "output_type": "stream",
          "name": "stderr",
          "text": [
            "Training Epoch 71/200: 100%|██████████| 1/1 [00:00<00:00, 40.29batch/s, accuracy=27.27%, loss=2.42]\n"
          ]
        },
        {
          "output_type": "stream",
          "name": "stdout",
          "text": [
            "Epoch [71/200], Loss: 2.4215, Accuracy: 27.27%, Error: 72.73%\n"
          ]
        },
        {
          "output_type": "stream",
          "name": "stderr",
          "text": [
            "Training Epoch 72/200: 100%|██████████| 1/1 [00:00<00:00, 47.74batch/s, accuracy=29.55%, loss=3.16]\n"
          ]
        },
        {
          "output_type": "stream",
          "name": "stdout",
          "text": [
            "Epoch [72/200], Loss: 3.1553, Accuracy: 29.55%, Error: 70.45%\n"
          ]
        },
        {
          "output_type": "stream",
          "name": "stderr",
          "text": [
            "Training Epoch 73/200: 100%|██████████| 1/1 [00:00<00:00, 49.38batch/s, accuracy=31.82%, loss=2.57]\n"
          ]
        },
        {
          "output_type": "stream",
          "name": "stdout",
          "text": [
            "Epoch [73/200], Loss: 2.5657, Accuracy: 31.82%, Error: 68.18%\n"
          ]
        },
        {
          "output_type": "stream",
          "name": "stderr",
          "text": [
            "Training Epoch 74/200: 100%|██████████| 1/1 [00:00<00:00, 70.17batch/s, accuracy=27.27%, loss=2.85]\n"
          ]
        },
        {
          "output_type": "stream",
          "name": "stdout",
          "text": [
            "Epoch [74/200], Loss: 2.8456, Accuracy: 27.27%, Error: 72.73%\n"
          ]
        },
        {
          "output_type": "stream",
          "name": "stderr",
          "text": [
            "Training Epoch 75/200: 100%|██████████| 1/1 [00:00<00:00, 63.58batch/s, accuracy=29.55%, loss=2.68]\n"
          ]
        },
        {
          "output_type": "stream",
          "name": "stdout",
          "text": [
            "Epoch [75/200], Loss: 2.6798, Accuracy: 29.55%, Error: 70.45%\n"
          ]
        },
        {
          "output_type": "stream",
          "name": "stderr",
          "text": [
            "Training Epoch 76/200: 100%|██████████| 1/1 [00:00<00:00, 71.03batch/s, accuracy=22.73%, loss=2.93]\n"
          ]
        },
        {
          "output_type": "stream",
          "name": "stdout",
          "text": [
            "Epoch [76/200], Loss: 2.9278, Accuracy: 22.73%, Error: 77.27%\n"
          ]
        },
        {
          "output_type": "stream",
          "name": "stderr",
          "text": [
            "Training Epoch 77/200: 100%|██████████| 1/1 [00:00<00:00, 71.63batch/s, accuracy=20.45%, loss=3.19]\n"
          ]
        },
        {
          "output_type": "stream",
          "name": "stdout",
          "text": [
            "Epoch [77/200], Loss: 3.1908, Accuracy: 20.45%, Error: 79.55%\n"
          ]
        },
        {
          "output_type": "stream",
          "name": "stderr",
          "text": [
            "Training Epoch 78/200: 100%|██████████| 1/1 [00:00<00:00, 66.96batch/s, accuracy=36.36%, loss=2.31]\n"
          ]
        },
        {
          "output_type": "stream",
          "name": "stdout",
          "text": [
            "Epoch [78/200], Loss: 2.3057, Accuracy: 36.36%, Error: 63.64%\n"
          ]
        },
        {
          "output_type": "stream",
          "name": "stderr",
          "text": [
            "Training Epoch 79/200: 100%|██████████| 1/1 [00:00<00:00, 70.24batch/s, accuracy=29.55%, loss=2.6]\n"
          ]
        },
        {
          "output_type": "stream",
          "name": "stdout",
          "text": [
            "Epoch [79/200], Loss: 2.5986, Accuracy: 29.55%, Error: 70.45%\n"
          ]
        },
        {
          "output_type": "stream",
          "name": "stderr",
          "text": [
            "Training Epoch 80/200: 100%|██████████| 1/1 [00:00<00:00, 68.25batch/s, accuracy=22.73%, loss=3.21]\n"
          ]
        },
        {
          "output_type": "stream",
          "name": "stdout",
          "text": [
            "Epoch [80/200], Loss: 3.2114, Accuracy: 22.73%, Error: 77.27%\n"
          ]
        },
        {
          "output_type": "stream",
          "name": "stderr",
          "text": [
            "Training Epoch 81/200: 100%|██████████| 1/1 [00:00<00:00, 64.49batch/s, accuracy=34.09%, loss=2.94]\n"
          ]
        },
        {
          "output_type": "stream",
          "name": "stdout",
          "text": [
            "Epoch [81/200], Loss: 2.9404, Accuracy: 34.09%, Error: 65.91%\n"
          ]
        },
        {
          "output_type": "stream",
          "name": "stderr",
          "text": [
            "Training Epoch 82/200: 100%|██████████| 1/1 [00:00<00:00, 83.10batch/s, accuracy=15.91%, loss=3.52] \n"
          ]
        },
        {
          "output_type": "stream",
          "name": "stdout",
          "text": [
            "Epoch [82/200], Loss: 3.5248, Accuracy: 15.91%, Error: 84.09%\n"
          ]
        },
        {
          "output_type": "stream",
          "name": "stderr",
          "text": [
            "Training Epoch 83/200: 100%|██████████| 1/1 [00:00<00:00, 79.05batch/s, accuracy=31.82%, loss=2.96] \n"
          ]
        },
        {
          "output_type": "stream",
          "name": "stdout",
          "text": [
            "Epoch [83/200], Loss: 2.9555, Accuracy: 31.82%, Error: 68.18%\n"
          ]
        },
        {
          "output_type": "stream",
          "name": "stderr",
          "text": [
            "Training Epoch 84/200: 100%|██████████| 1/1 [00:00<00:00, 99.72batch/s, accuracy=20.45%, loss=2.99] \n"
          ]
        },
        {
          "output_type": "stream",
          "name": "stdout",
          "text": [
            "Epoch [84/200], Loss: 2.9888, Accuracy: 20.45%, Error: 79.55%\n"
          ]
        },
        {
          "output_type": "stream",
          "name": "stderr",
          "text": [
            "Training Epoch 85/200: 100%|██████████| 1/1 [00:00<00:00, 79.96batch/s, accuracy=25.00%, loss=2.85] \n"
          ]
        },
        {
          "output_type": "stream",
          "name": "stdout",
          "text": [
            "Epoch [85/200], Loss: 2.8517, Accuracy: 25.00%, Error: 75.00%\n"
          ]
        },
        {
          "output_type": "stream",
          "name": "stderr",
          "text": [
            "Training Epoch 86/200: 100%|██████████| 1/1 [00:00<00:00, 78.30batch/s, accuracy=29.55%, loss=2.68]\n"
          ]
        },
        {
          "output_type": "stream",
          "name": "stdout",
          "text": [
            "Epoch [86/200], Loss: 2.6775, Accuracy: 29.55%, Error: 70.45%\n"
          ]
        },
        {
          "output_type": "stream",
          "name": "stderr",
          "text": [
            "Training Epoch 87/200: 100%|██████████| 1/1 [00:00<00:00, 64.84batch/s, accuracy=25.00%, loss=2.71]\n"
          ]
        },
        {
          "output_type": "stream",
          "name": "stdout",
          "text": [
            "Epoch [87/200], Loss: 2.7132, Accuracy: 25.00%, Error: 75.00%\n"
          ]
        },
        {
          "output_type": "stream",
          "name": "stderr",
          "text": [
            "Training Epoch 88/200: 100%|██████████| 1/1 [00:00<00:00, 55.80batch/s, accuracy=18.18%, loss=3.25]\n"
          ]
        },
        {
          "output_type": "stream",
          "name": "stdout",
          "text": [
            "Epoch [88/200], Loss: 3.2501, Accuracy: 18.18%, Error: 81.82%\n"
          ]
        },
        {
          "output_type": "stream",
          "name": "stderr",
          "text": [
            "Training Epoch 89/200: 100%|██████████| 1/1 [00:00<00:00, 41.55batch/s, accuracy=22.73%, loss=2.98]\n"
          ]
        },
        {
          "output_type": "stream",
          "name": "stdout",
          "text": [
            "Epoch [89/200], Loss: 2.9802, Accuracy: 22.73%, Error: 77.27%\n"
          ]
        },
        {
          "output_type": "stream",
          "name": "stderr",
          "text": [
            "Training Epoch 90/200: 100%|██████████| 1/1 [00:00<00:00, 52.85batch/s, accuracy=31.82%, loss=3.09]\n"
          ]
        },
        {
          "output_type": "stream",
          "name": "stdout",
          "text": [
            "Epoch [90/200], Loss: 3.0897, Accuracy: 31.82%, Error: 68.18%\n"
          ]
        },
        {
          "output_type": "stream",
          "name": "stderr",
          "text": [
            "Training Epoch 91/200: 100%|██████████| 1/1 [00:00<00:00, 77.95batch/s, accuracy=22.73%, loss=3.08]\n"
          ]
        },
        {
          "output_type": "stream",
          "name": "stdout",
          "text": [
            "Epoch [91/200], Loss: 3.0803, Accuracy: 22.73%, Error: 77.27%\n"
          ]
        },
        {
          "output_type": "stream",
          "name": "stderr",
          "text": [
            "Training Epoch 92/200: 100%|██████████| 1/1 [00:00<00:00, 120.91batch/s, accuracy=27.27%, loss=2.55]\n"
          ]
        },
        {
          "output_type": "stream",
          "name": "stdout",
          "text": [
            "Epoch [92/200], Loss: 2.5488, Accuracy: 27.27%, Error: 72.73%\n"
          ]
        },
        {
          "output_type": "stream",
          "name": "stderr",
          "text": [
            "Training Epoch 93/200: 100%|██████████| 1/1 [00:00<00:00, 53.33batch/s, accuracy=27.27%, loss=2.92]\n"
          ]
        },
        {
          "output_type": "stream",
          "name": "stdout",
          "text": [
            "Epoch [93/200], Loss: 2.9236, Accuracy: 27.27%, Error: 72.73%\n"
          ]
        },
        {
          "output_type": "stream",
          "name": "stderr",
          "text": [
            "Training Epoch 94/200: 100%|██████████| 1/1 [00:00<00:00, 70.28batch/s, accuracy=27.27%, loss=2.87]\n"
          ]
        },
        {
          "output_type": "stream",
          "name": "stdout",
          "text": [
            "Epoch [94/200], Loss: 2.8650, Accuracy: 27.27%, Error: 72.73%\n"
          ]
        },
        {
          "output_type": "stream",
          "name": "stderr",
          "text": [
            "Training Epoch 95/200: 100%|██████████| 1/1 [00:00<00:00, 84.72batch/s, accuracy=18.18%, loss=3.49] \n"
          ]
        },
        {
          "output_type": "stream",
          "name": "stdout",
          "text": [
            "Epoch [95/200], Loss: 3.4879, Accuracy: 18.18%, Error: 81.82%\n"
          ]
        },
        {
          "output_type": "stream",
          "name": "stderr",
          "text": [
            "Training Epoch 96/200: 100%|██████████| 1/1 [00:00<00:00, 61.97batch/s, accuracy=31.82%, loss=2.85]\n"
          ]
        },
        {
          "output_type": "stream",
          "name": "stdout",
          "text": [
            "Epoch [96/200], Loss: 2.8513, Accuracy: 31.82%, Error: 68.18%\n"
          ]
        },
        {
          "output_type": "stream",
          "name": "stderr",
          "text": [
            "Training Epoch 97/200: 100%|██████████| 1/1 [00:00<00:00, 70.29batch/s, accuracy=25.00%, loss=3.4]\n"
          ]
        },
        {
          "output_type": "stream",
          "name": "stdout",
          "text": [
            "Epoch [97/200], Loss: 3.4008, Accuracy: 25.00%, Error: 75.00%\n"
          ]
        },
        {
          "output_type": "stream",
          "name": "stderr",
          "text": [
            "Training Epoch 98/200: 100%|██████████| 1/1 [00:00<00:00, 107.24batch/s, accuracy=15.91%, loss=3.21]\n"
          ]
        },
        {
          "output_type": "stream",
          "name": "stdout",
          "text": [
            "Epoch [98/200], Loss: 3.2149, Accuracy: 15.91%, Error: 84.09%\n"
          ]
        },
        {
          "output_type": "stream",
          "name": "stderr",
          "text": [
            "Training Epoch 99/200: 100%|██████████| 1/1 [00:00<00:00, 60.19batch/s, accuracy=27.27%, loss=2.8]\n"
          ]
        },
        {
          "output_type": "stream",
          "name": "stdout",
          "text": [
            "Epoch [99/200], Loss: 2.7982, Accuracy: 27.27%, Error: 72.73%\n"
          ]
        },
        {
          "output_type": "stream",
          "name": "stderr",
          "text": [
            "Training Epoch 100/200: 100%|██████████| 1/1 [00:00<00:00, 69.61batch/s, accuracy=15.91%, loss=3.25]\n"
          ]
        },
        {
          "output_type": "stream",
          "name": "stdout",
          "text": [
            "Epoch [100/200], Loss: 3.2500, Accuracy: 15.91%, Error: 84.09%\n"
          ]
        },
        {
          "output_type": "stream",
          "name": "stderr",
          "text": [
            "Training Epoch 101/200: 100%|██████████| 1/1 [00:00<00:00, 67.45batch/s, accuracy=34.09%, loss=2.64]\n"
          ]
        },
        {
          "output_type": "stream",
          "name": "stdout",
          "text": [
            "Epoch [101/200], Loss: 2.6436, Accuracy: 34.09%, Error: 65.91%\n"
          ]
        },
        {
          "output_type": "stream",
          "name": "stderr",
          "text": [
            "Training Epoch 102/200: 100%|██████████| 1/1 [00:00<00:00, 57.76batch/s, accuracy=27.27%, loss=2.96]\n"
          ]
        },
        {
          "output_type": "stream",
          "name": "stdout",
          "text": [
            "Epoch [102/200], Loss: 2.9601, Accuracy: 27.27%, Error: 72.73%\n"
          ]
        },
        {
          "output_type": "stream",
          "name": "stderr",
          "text": [
            "Training Epoch 103/200: 100%|██████████| 1/1 [00:00<00:00, 81.68batch/s, accuracy=31.82%, loss=2.93] \n"
          ]
        },
        {
          "output_type": "stream",
          "name": "stdout",
          "text": [
            "Epoch [103/200], Loss: 2.9320, Accuracy: 31.82%, Error: 68.18%\n"
          ]
        },
        {
          "output_type": "stream",
          "name": "stderr",
          "text": [
            "Training Epoch 104/200: 100%|██████████| 1/1 [00:00<00:00, 74.13batch/s, accuracy=29.55%, loss=2.51]\n"
          ]
        },
        {
          "output_type": "stream",
          "name": "stdout",
          "text": [
            "Epoch [104/200], Loss: 2.5098, Accuracy: 29.55%, Error: 70.45%\n"
          ]
        },
        {
          "output_type": "stream",
          "name": "stderr",
          "text": [
            "Training Epoch 105/200: 100%|██████████| 1/1 [00:00<00:00, 81.52batch/s, accuracy=38.64%, loss=2.62] \n"
          ]
        },
        {
          "output_type": "stream",
          "name": "stdout",
          "text": [
            "Epoch [105/200], Loss: 2.6218, Accuracy: 38.64%, Error: 61.36%\n"
          ]
        },
        {
          "output_type": "stream",
          "name": "stderr",
          "text": [
            "Training Epoch 106/200: 100%|██████████| 1/1 [00:00<00:00, 58.38batch/s, accuracy=31.82%, loss=2.76]\n"
          ]
        },
        {
          "output_type": "stream",
          "name": "stdout",
          "text": [
            "Epoch [106/200], Loss: 2.7626, Accuracy: 31.82%, Error: 68.18%\n"
          ]
        },
        {
          "output_type": "stream",
          "name": "stderr",
          "text": [
            "Training Epoch 107/200: 100%|██████████| 1/1 [00:00<00:00, 64.02batch/s, accuracy=36.36%, loss=2.59]\n"
          ]
        },
        {
          "output_type": "stream",
          "name": "stdout",
          "text": [
            "Epoch [107/200], Loss: 2.5850, Accuracy: 36.36%, Error: 63.64%\n"
          ]
        },
        {
          "output_type": "stream",
          "name": "stderr",
          "text": [
            "Training Epoch 108/200: 100%|██████████| 1/1 [00:00<00:00, 53.88batch/s, accuracy=27.27%, loss=2.8]\n"
          ]
        },
        {
          "output_type": "stream",
          "name": "stdout",
          "text": [
            "Epoch [108/200], Loss: 2.7982, Accuracy: 27.27%, Error: 72.73%\n"
          ]
        },
        {
          "output_type": "stream",
          "name": "stderr",
          "text": [
            "Training Epoch 109/200: 100%|██████████| 1/1 [00:00<00:00, 66.87batch/s, accuracy=29.55%, loss=2.6]\n"
          ]
        },
        {
          "output_type": "stream",
          "name": "stdout",
          "text": [
            "Epoch [109/200], Loss: 2.6033, Accuracy: 29.55%, Error: 70.45%\n"
          ]
        },
        {
          "output_type": "stream",
          "name": "stderr",
          "text": [
            "Training Epoch 110/200: 100%|██████████| 1/1 [00:00<00:00, 64.12batch/s, accuracy=22.73%, loss=2.44]\n"
          ]
        },
        {
          "output_type": "stream",
          "name": "stdout",
          "text": [
            "Epoch [110/200], Loss: 2.4434, Accuracy: 22.73%, Error: 77.27%\n"
          ]
        },
        {
          "output_type": "stream",
          "name": "stderr",
          "text": [
            "Training Epoch 111/200: 100%|██████████| 1/1 [00:00<00:00, 69.63batch/s, accuracy=25.00%, loss=3.21]\n"
          ]
        },
        {
          "output_type": "stream",
          "name": "stdout",
          "text": [
            "Epoch [111/200], Loss: 3.2058, Accuracy: 25.00%, Error: 75.00%\n"
          ]
        },
        {
          "output_type": "stream",
          "name": "stderr",
          "text": [
            "Training Epoch 112/200: 100%|██████████| 1/1 [00:00<00:00, 80.60batch/s, accuracy=34.09%, loss=2.8]\n"
          ]
        },
        {
          "output_type": "stream",
          "name": "stdout",
          "text": [
            "Epoch [112/200], Loss: 2.8043, Accuracy: 34.09%, Error: 65.91%\n"
          ]
        },
        {
          "output_type": "stream",
          "name": "stderr",
          "text": [
            "Training Epoch 113/200: 100%|██████████| 1/1 [00:00<00:00, 40.54batch/s, accuracy=38.64%, loss=2.56]\n"
          ]
        },
        {
          "output_type": "stream",
          "name": "stdout",
          "text": [
            "Epoch [113/200], Loss: 2.5603, Accuracy: 38.64%, Error: 61.36%\n"
          ]
        },
        {
          "output_type": "stream",
          "name": "stderr",
          "text": [
            "Training Epoch 114/200: 100%|██████████| 1/1 [00:00<00:00, 73.15batch/s, accuracy=34.09%, loss=2.73]\n"
          ]
        },
        {
          "output_type": "stream",
          "name": "stdout",
          "text": [
            "Epoch [114/200], Loss: 2.7252, Accuracy: 34.09%, Error: 65.91%\n"
          ]
        },
        {
          "output_type": "stream",
          "name": "stderr",
          "text": [
            "Training Epoch 115/200: 100%|██████████| 1/1 [00:00<00:00, 84.17batch/s, accuracy=31.82%, loss=3.17] \n"
          ]
        },
        {
          "output_type": "stream",
          "name": "stdout",
          "text": [
            "Epoch [115/200], Loss: 3.1660, Accuracy: 31.82%, Error: 68.18%\n"
          ]
        },
        {
          "output_type": "stream",
          "name": "stderr",
          "text": [
            "Training Epoch 116/200: 100%|██████████| 1/1 [00:00<00:00, 69.73batch/s, accuracy=31.82%, loss=3.11]\n"
          ]
        },
        {
          "output_type": "stream",
          "name": "stdout",
          "text": [
            "Epoch [116/200], Loss: 3.1111, Accuracy: 31.82%, Error: 68.18%\n"
          ]
        },
        {
          "output_type": "stream",
          "name": "stderr",
          "text": [
            "Training Epoch 117/200: 100%|██████████| 1/1 [00:00<00:00, 39.43batch/s, accuracy=25.00%, loss=2.55]\n"
          ]
        },
        {
          "output_type": "stream",
          "name": "stdout",
          "text": [
            "Epoch [117/200], Loss: 2.5508, Accuracy: 25.00%, Error: 75.00%\n"
          ]
        },
        {
          "output_type": "stream",
          "name": "stderr",
          "text": [
            "Training Epoch 118/200: 100%|██████████| 1/1 [00:00<00:00, 53.61batch/s, accuracy=22.73%, loss=3.31]\n"
          ]
        },
        {
          "output_type": "stream",
          "name": "stdout",
          "text": [
            "Epoch [118/200], Loss: 3.3141, Accuracy: 22.73%, Error: 77.27%\n"
          ]
        },
        {
          "output_type": "stream",
          "name": "stderr",
          "text": [
            "Training Epoch 119/200: 100%|██████████| 1/1 [00:00<00:00, 52.41batch/s, accuracy=27.27%, loss=2.75]\n"
          ]
        },
        {
          "output_type": "stream",
          "name": "stdout",
          "text": [
            "Epoch [119/200], Loss: 2.7450, Accuracy: 27.27%, Error: 72.73%\n"
          ]
        },
        {
          "output_type": "stream",
          "name": "stderr",
          "text": [
            "Training Epoch 120/200: 100%|██████████| 1/1 [00:00<00:00, 61.53batch/s, accuracy=27.27%, loss=2.98]\n"
          ]
        },
        {
          "output_type": "stream",
          "name": "stdout",
          "text": [
            "Epoch [120/200], Loss: 2.9783, Accuracy: 27.27%, Error: 72.73%\n"
          ]
        },
        {
          "output_type": "stream",
          "name": "stderr",
          "text": [
            "Training Epoch 121/200: 100%|██████████| 1/1 [00:00<00:00, 61.81batch/s, accuracy=27.27%, loss=3.15]\n"
          ]
        },
        {
          "output_type": "stream",
          "name": "stdout",
          "text": [
            "Epoch [121/200], Loss: 3.1479, Accuracy: 27.27%, Error: 72.73%\n"
          ]
        },
        {
          "output_type": "stream",
          "name": "stderr",
          "text": [
            "Training Epoch 122/200: 100%|██████████| 1/1 [00:00<00:00, 66.24batch/s, accuracy=34.09%, loss=2.78]\n"
          ]
        },
        {
          "output_type": "stream",
          "name": "stdout",
          "text": [
            "Epoch [122/200], Loss: 2.7799, Accuracy: 34.09%, Error: 65.91%\n"
          ]
        },
        {
          "output_type": "stream",
          "name": "stderr",
          "text": [
            "Training Epoch 123/200: 100%|██████████| 1/1 [00:00<00:00, 51.51batch/s, accuracy=25.00%, loss=2.94]\n"
          ]
        },
        {
          "output_type": "stream",
          "name": "stdout",
          "text": [
            "Epoch [123/200], Loss: 2.9423, Accuracy: 25.00%, Error: 75.00%\n"
          ]
        },
        {
          "output_type": "stream",
          "name": "stderr",
          "text": [
            "Training Epoch 124/200: 100%|██████████| 1/1 [00:00<00:00, 49.49batch/s, accuracy=25.00%, loss=3.1]\n"
          ]
        },
        {
          "output_type": "stream",
          "name": "stdout",
          "text": [
            "Epoch [124/200], Loss: 3.1019, Accuracy: 25.00%, Error: 75.00%\n"
          ]
        },
        {
          "output_type": "stream",
          "name": "stderr",
          "text": [
            "Training Epoch 125/200: 100%|██████████| 1/1 [00:00<00:00, 65.41batch/s, accuracy=22.73%, loss=3.04]\n"
          ]
        },
        {
          "output_type": "stream",
          "name": "stdout",
          "text": [
            "Epoch [125/200], Loss: 3.0373, Accuracy: 22.73%, Error: 77.27%\n"
          ]
        },
        {
          "output_type": "stream",
          "name": "stderr",
          "text": [
            "Training Epoch 126/200: 100%|██████████| 1/1 [00:00<00:00, 64.11batch/s, accuracy=36.36%, loss=2.41]\n"
          ]
        },
        {
          "output_type": "stream",
          "name": "stdout",
          "text": [
            "Epoch [126/200], Loss: 2.4140, Accuracy: 36.36%, Error: 63.64%\n"
          ]
        },
        {
          "output_type": "stream",
          "name": "stderr",
          "text": [
            "Training Epoch 127/200: 100%|██████████| 1/1 [00:00<00:00, 69.90batch/s, accuracy=29.55%, loss=2.97]\n"
          ]
        },
        {
          "output_type": "stream",
          "name": "stdout",
          "text": [
            "Epoch [127/200], Loss: 2.9724, Accuracy: 29.55%, Error: 70.45%\n"
          ]
        },
        {
          "output_type": "stream",
          "name": "stderr",
          "text": [
            "Training Epoch 128/200: 100%|██████████| 1/1 [00:00<00:00, 95.42batch/s, accuracy=20.45%, loss=3] \n"
          ]
        },
        {
          "output_type": "stream",
          "name": "stdout",
          "text": [
            "Epoch [128/200], Loss: 3.0043, Accuracy: 20.45%, Error: 79.55%\n"
          ]
        },
        {
          "output_type": "stream",
          "name": "stderr",
          "text": [
            "Training Epoch 129/200: 100%|██████████| 1/1 [00:00<00:00, 78.35batch/s, accuracy=40.91%, loss=2.45]\n"
          ]
        },
        {
          "output_type": "stream",
          "name": "stdout",
          "text": [
            "Epoch [129/200], Loss: 2.4473, Accuracy: 40.91%, Error: 59.09%\n"
          ]
        },
        {
          "output_type": "stream",
          "name": "stderr",
          "text": [
            "Training Epoch 130/200: 100%|██████████| 1/1 [00:00<00:00, 63.60batch/s, accuracy=38.64%, loss=2.55]\n"
          ]
        },
        {
          "output_type": "stream",
          "name": "stdout",
          "text": [
            "Epoch [130/200], Loss: 2.5519, Accuracy: 38.64%, Error: 61.36%\n"
          ]
        },
        {
          "output_type": "stream",
          "name": "stderr",
          "text": [
            "Training Epoch 131/200: 100%|██████████| 1/1 [00:00<00:00, 57.89batch/s, accuracy=50.00%, loss=2.43]\n"
          ]
        },
        {
          "output_type": "stream",
          "name": "stdout",
          "text": [
            "Epoch [131/200], Loss: 2.4337, Accuracy: 50.00%, Error: 50.00%\n"
          ]
        },
        {
          "output_type": "stream",
          "name": "stderr",
          "text": [
            "Training Epoch 132/200: 100%|██████████| 1/1 [00:00<00:00, 79.89batch/s, accuracy=25.00%, loss=2.98]\n"
          ]
        },
        {
          "output_type": "stream",
          "name": "stdout",
          "text": [
            "Epoch [132/200], Loss: 2.9796, Accuracy: 25.00%, Error: 75.00%\n"
          ]
        },
        {
          "output_type": "stream",
          "name": "stderr",
          "text": [
            "Training Epoch 133/200: 100%|██████████| 1/1 [00:00<00:00, 80.51batch/s, accuracy=27.27%, loss=2.66] \n"
          ]
        },
        {
          "output_type": "stream",
          "name": "stdout",
          "text": [
            "Epoch [133/200], Loss: 2.6638, Accuracy: 27.27%, Error: 72.73%\n"
          ]
        },
        {
          "output_type": "stream",
          "name": "stderr",
          "text": [
            "Training Epoch 134/200: 100%|██████████| 1/1 [00:00<00:00, 73.40batch/s, accuracy=34.09%, loss=2.67] \n"
          ]
        },
        {
          "output_type": "stream",
          "name": "stdout",
          "text": [
            "Epoch [134/200], Loss: 2.6746, Accuracy: 34.09%, Error: 65.91%\n"
          ]
        },
        {
          "output_type": "stream",
          "name": "stderr",
          "text": [
            "Training Epoch 135/200: 100%|██████████| 1/1 [00:00<00:00, 65.06batch/s, accuracy=31.82%, loss=2.71]\n"
          ]
        },
        {
          "output_type": "stream",
          "name": "stdout",
          "text": [
            "Epoch [135/200], Loss: 2.7078, Accuracy: 31.82%, Error: 68.18%\n"
          ]
        },
        {
          "output_type": "stream",
          "name": "stderr",
          "text": [
            "Training Epoch 136/200: 100%|██████████| 1/1 [00:00<00:00, 45.76batch/s, accuracy=25.00%, loss=2.97]\n"
          ]
        },
        {
          "output_type": "stream",
          "name": "stdout",
          "text": [
            "Epoch [136/200], Loss: 2.9720, Accuracy: 25.00%, Error: 75.00%\n"
          ]
        },
        {
          "output_type": "stream",
          "name": "stderr",
          "text": [
            "Training Epoch 137/200: 100%|██████████| 1/1 [00:00<00:00, 52.43batch/s, accuracy=15.91%, loss=3.08]\n"
          ]
        },
        {
          "output_type": "stream",
          "name": "stdout",
          "text": [
            "Epoch [137/200], Loss: 3.0788, Accuracy: 15.91%, Error: 84.09%\n"
          ]
        },
        {
          "output_type": "stream",
          "name": "stderr",
          "text": [
            "Training Epoch 138/200: 100%|██████████| 1/1 [00:00<00:00, 53.51batch/s, accuracy=29.55%, loss=2.71]\n"
          ]
        },
        {
          "output_type": "stream",
          "name": "stdout",
          "text": [
            "Epoch [138/200], Loss: 2.7064, Accuracy: 29.55%, Error: 70.45%\n"
          ]
        },
        {
          "output_type": "stream",
          "name": "stderr",
          "text": [
            "Training Epoch 139/200: 100%|██████████| 1/1 [00:00<00:00, 40.04batch/s, accuracy=50.00%, loss=2.54]\n"
          ]
        },
        {
          "output_type": "stream",
          "name": "stdout",
          "text": [
            "Epoch [139/200], Loss: 2.5403, Accuracy: 50.00%, Error: 50.00%\n"
          ]
        },
        {
          "output_type": "stream",
          "name": "stderr",
          "text": [
            "Training Epoch 140/200: 100%|██████████| 1/1 [00:00<00:00, 68.95batch/s, accuracy=36.36%, loss=2.91]\n"
          ]
        },
        {
          "output_type": "stream",
          "name": "stdout",
          "text": [
            "Epoch [140/200], Loss: 2.9052, Accuracy: 36.36%, Error: 63.64%\n"
          ]
        },
        {
          "output_type": "stream",
          "name": "stderr",
          "text": [
            "Training Epoch 141/200: 100%|██████████| 1/1 [00:00<00:00, 85.53batch/s, accuracy=20.45%, loss=3] \n"
          ]
        },
        {
          "output_type": "stream",
          "name": "stdout",
          "text": [
            "Epoch [141/200], Loss: 3.0011, Accuracy: 20.45%, Error: 79.55%\n"
          ]
        },
        {
          "output_type": "stream",
          "name": "stderr",
          "text": [
            "Training Epoch 142/200: 100%|██████████| 1/1 [00:00<00:00, 66.31batch/s, accuracy=36.36%, loss=2.54]\n"
          ]
        },
        {
          "output_type": "stream",
          "name": "stdout",
          "text": [
            "Epoch [142/200], Loss: 2.5380, Accuracy: 36.36%, Error: 63.64%\n"
          ]
        },
        {
          "output_type": "stream",
          "name": "stderr",
          "text": [
            "Training Epoch 143/200: 100%|██████████| 1/1 [00:00<00:00, 65.57batch/s, accuracy=34.09%, loss=2.6]\n"
          ]
        },
        {
          "output_type": "stream",
          "name": "stdout",
          "text": [
            "Epoch [143/200], Loss: 2.5973, Accuracy: 34.09%, Error: 65.91%\n"
          ]
        },
        {
          "output_type": "stream",
          "name": "stderr",
          "text": [
            "Training Epoch 144/200: 100%|██████████| 1/1 [00:00<00:00, 72.78batch/s, accuracy=38.64%, loss=2.55]\n"
          ]
        },
        {
          "output_type": "stream",
          "name": "stdout",
          "text": [
            "Epoch [144/200], Loss: 2.5492, Accuracy: 38.64%, Error: 61.36%\n"
          ]
        },
        {
          "output_type": "stream",
          "name": "stderr",
          "text": [
            "Training Epoch 145/200: 100%|██████████| 1/1 [00:00<00:00, 73.99batch/s, accuracy=22.73%, loss=2.92] \n"
          ]
        },
        {
          "output_type": "stream",
          "name": "stdout",
          "text": [
            "Epoch [145/200], Loss: 2.9237, Accuracy: 22.73%, Error: 77.27%\n"
          ]
        },
        {
          "output_type": "stream",
          "name": "stderr",
          "text": [
            "Training Epoch 146/200: 100%|██████████| 1/1 [00:00<00:00, 67.71batch/s, accuracy=38.64%, loss=2.29]\n"
          ]
        },
        {
          "output_type": "stream",
          "name": "stdout",
          "text": [
            "Epoch [146/200], Loss: 2.2878, Accuracy: 38.64%, Error: 61.36%\n"
          ]
        },
        {
          "output_type": "stream",
          "name": "stderr",
          "text": [
            "Training Epoch 147/200: 100%|██████████| 1/1 [00:00<00:00, 52.04batch/s, accuracy=40.91%, loss=2.39]\n"
          ]
        },
        {
          "output_type": "stream",
          "name": "stdout",
          "text": [
            "Epoch [147/200], Loss: 2.3911, Accuracy: 40.91%, Error: 59.09%\n"
          ]
        },
        {
          "output_type": "stream",
          "name": "stderr",
          "text": [
            "Training Epoch 148/200: 100%|██████████| 1/1 [00:00<00:00, 65.36batch/s, accuracy=29.55%, loss=2.67]\n"
          ]
        },
        {
          "output_type": "stream",
          "name": "stdout",
          "text": [
            "Epoch [148/200], Loss: 2.6668, Accuracy: 29.55%, Error: 70.45%\n"
          ]
        },
        {
          "output_type": "stream",
          "name": "stderr",
          "text": [
            "Training Epoch 149/200: 100%|██████████| 1/1 [00:00<00:00, 61.59batch/s, accuracy=34.09%, loss=2.65]\n"
          ]
        },
        {
          "output_type": "stream",
          "name": "stdout",
          "text": [
            "Epoch [149/200], Loss: 2.6471, Accuracy: 34.09%, Error: 65.91%\n"
          ]
        },
        {
          "output_type": "stream",
          "name": "stderr",
          "text": [
            "Training Epoch 150/200: 100%|██████████| 1/1 [00:00<00:00, 75.75batch/s, accuracy=36.36%, loss=2.35]\n"
          ]
        },
        {
          "output_type": "stream",
          "name": "stdout",
          "text": [
            "Epoch [150/200], Loss: 2.3512, Accuracy: 36.36%, Error: 63.64%\n"
          ]
        },
        {
          "output_type": "stream",
          "name": "stderr",
          "text": [
            "Training Epoch 151/200: 100%|██████████| 1/1 [00:00<00:00, 62.97batch/s, accuracy=52.27%, loss=2.12]\n"
          ]
        },
        {
          "output_type": "stream",
          "name": "stdout",
          "text": [
            "Epoch [151/200], Loss: 2.1157, Accuracy: 52.27%, Error: 47.73%\n"
          ]
        },
        {
          "output_type": "stream",
          "name": "stderr",
          "text": [
            "Training Epoch 152/200: 100%|██████████| 1/1 [00:00<00:00, 72.36batch/s, accuracy=40.91%, loss=2.56]\n"
          ]
        },
        {
          "output_type": "stream",
          "name": "stdout",
          "text": [
            "Epoch [152/200], Loss: 2.5571, Accuracy: 40.91%, Error: 59.09%\n"
          ]
        },
        {
          "output_type": "stream",
          "name": "stderr",
          "text": [
            "Training Epoch 153/200: 100%|██████████| 1/1 [00:00<00:00, 67.51batch/s, accuracy=36.36%, loss=2.53]\n"
          ]
        },
        {
          "output_type": "stream",
          "name": "stdout",
          "text": [
            "Epoch [153/200], Loss: 2.5326, Accuracy: 36.36%, Error: 63.64%\n"
          ]
        },
        {
          "output_type": "stream",
          "name": "stderr",
          "text": [
            "Training Epoch 154/200: 100%|██████████| 1/1 [00:00<00:00, 70.56batch/s, accuracy=20.45%, loss=3.3]\n"
          ]
        },
        {
          "output_type": "stream",
          "name": "stdout",
          "text": [
            "Epoch [154/200], Loss: 3.2959, Accuracy: 20.45%, Error: 79.55%\n"
          ]
        },
        {
          "output_type": "stream",
          "name": "stderr",
          "text": [
            "Training Epoch 155/200: 100%|██████████| 1/1 [00:00<00:00, 72.32batch/s, accuracy=40.91%, loss=2.32] \n"
          ]
        },
        {
          "output_type": "stream",
          "name": "stdout",
          "text": [
            "Epoch [155/200], Loss: 2.3199, Accuracy: 40.91%, Error: 59.09%\n"
          ]
        },
        {
          "output_type": "stream",
          "name": "stderr",
          "text": [
            "Training Epoch 156/200: 100%|██████████| 1/1 [00:00<00:00, 59.24batch/s, accuracy=45.45%, loss=2.3]\n"
          ]
        },
        {
          "output_type": "stream",
          "name": "stdout",
          "text": [
            "Epoch [156/200], Loss: 2.2961, Accuracy: 45.45%, Error: 54.55%\n"
          ]
        },
        {
          "output_type": "stream",
          "name": "stderr",
          "text": [
            "Training Epoch 157/200: 100%|██████████| 1/1 [00:00<00:00, 62.34batch/s, accuracy=38.64%, loss=2.47]\n"
          ]
        },
        {
          "output_type": "stream",
          "name": "stdout",
          "text": [
            "Epoch [157/200], Loss: 2.4682, Accuracy: 38.64%, Error: 61.36%\n"
          ]
        },
        {
          "output_type": "stream",
          "name": "stderr",
          "text": [
            "Training Epoch 158/200: 100%|██████████| 1/1 [00:00<00:00, 61.00batch/s, accuracy=25.00%, loss=2.83]\n"
          ]
        },
        {
          "output_type": "stream",
          "name": "stdout",
          "text": [
            "Epoch [158/200], Loss: 2.8322, Accuracy: 25.00%, Error: 75.00%\n"
          ]
        },
        {
          "output_type": "stream",
          "name": "stderr",
          "text": [
            "Training Epoch 159/200: 100%|██████████| 1/1 [00:00<00:00, 47.43batch/s, accuracy=36.36%, loss=2.8]\n"
          ]
        },
        {
          "output_type": "stream",
          "name": "stdout",
          "text": [
            "Epoch [159/200], Loss: 2.7999, Accuracy: 36.36%, Error: 63.64%\n"
          ]
        },
        {
          "output_type": "stream",
          "name": "stderr",
          "text": [
            "Training Epoch 160/200: 100%|██████████| 1/1 [00:00<00:00, 76.26batch/s, accuracy=20.45%, loss=3.13]\n"
          ]
        },
        {
          "output_type": "stream",
          "name": "stdout",
          "text": [
            "Epoch [160/200], Loss: 3.1256, Accuracy: 20.45%, Error: 79.55%\n"
          ]
        },
        {
          "output_type": "stream",
          "name": "stderr",
          "text": [
            "Training Epoch 161/200: 100%|██████████| 1/1 [00:00<00:00, 75.78batch/s, accuracy=27.27%, loss=2.95]\n"
          ]
        },
        {
          "output_type": "stream",
          "name": "stdout",
          "text": [
            "Epoch [161/200], Loss: 2.9461, Accuracy: 27.27%, Error: 72.73%\n"
          ]
        },
        {
          "output_type": "stream",
          "name": "stderr",
          "text": [
            "Training Epoch 162/200: 100%|██████████| 1/1 [00:00<00:00, 70.72batch/s, accuracy=34.09%, loss=2.43]\n"
          ]
        },
        {
          "output_type": "stream",
          "name": "stdout",
          "text": [
            "Epoch [162/200], Loss: 2.4322, Accuracy: 34.09%, Error: 65.91%\n"
          ]
        },
        {
          "output_type": "stream",
          "name": "stderr",
          "text": [
            "Training Epoch 163/200: 100%|██████████| 1/1 [00:00<00:00, 65.83batch/s, accuracy=40.91%, loss=2.2]\n"
          ]
        },
        {
          "output_type": "stream",
          "name": "stdout",
          "text": [
            "Epoch [163/200], Loss: 2.2027, Accuracy: 40.91%, Error: 59.09%\n"
          ]
        },
        {
          "output_type": "stream",
          "name": "stderr",
          "text": [
            "Training Epoch 164/200: 100%|██████████| 1/1 [00:00<00:00, 78.86batch/s, accuracy=40.91%, loss=2.33]\n"
          ]
        },
        {
          "output_type": "stream",
          "name": "stdout",
          "text": [
            "Epoch [164/200], Loss: 2.3320, Accuracy: 40.91%, Error: 59.09%\n"
          ]
        },
        {
          "output_type": "stream",
          "name": "stderr",
          "text": [
            "Training Epoch 165/200: 100%|██████████| 1/1 [00:00<00:00, 66.21batch/s, accuracy=25.00%, loss=2.76]\n"
          ]
        },
        {
          "output_type": "stream",
          "name": "stdout",
          "text": [
            "Epoch [165/200], Loss: 2.7557, Accuracy: 25.00%, Error: 75.00%\n"
          ]
        },
        {
          "output_type": "stream",
          "name": "stderr",
          "text": [
            "Training Epoch 166/200: 100%|██████████| 1/1 [00:00<00:00, 73.34batch/s, accuracy=40.91%, loss=2.25]\n"
          ]
        },
        {
          "output_type": "stream",
          "name": "stdout",
          "text": [
            "Epoch [166/200], Loss: 2.2505, Accuracy: 40.91%, Error: 59.09%\n"
          ]
        },
        {
          "output_type": "stream",
          "name": "stderr",
          "text": [
            "Training Epoch 167/200: 100%|██████████| 1/1 [00:00<00:00, 49.86batch/s, accuracy=27.27%, loss=3]\n"
          ]
        },
        {
          "output_type": "stream",
          "name": "stdout",
          "text": [
            "Epoch [167/200], Loss: 2.9967, Accuracy: 27.27%, Error: 72.73%\n"
          ]
        },
        {
          "output_type": "stream",
          "name": "stderr",
          "text": [
            "Training Epoch 168/200: 100%|██████████| 1/1 [00:00<00:00, 54.80batch/s, accuracy=38.64%, loss=2.52]\n"
          ]
        },
        {
          "output_type": "stream",
          "name": "stdout",
          "text": [
            "Epoch [168/200], Loss: 2.5230, Accuracy: 38.64%, Error: 61.36%\n"
          ]
        },
        {
          "output_type": "stream",
          "name": "stderr",
          "text": [
            "Training Epoch 169/200: 100%|██████████| 1/1 [00:00<00:00, 57.79batch/s, accuracy=25.00%, loss=3.26]\n"
          ]
        },
        {
          "output_type": "stream",
          "name": "stdout",
          "text": [
            "Epoch [169/200], Loss: 3.2612, Accuracy: 25.00%, Error: 75.00%\n"
          ]
        },
        {
          "output_type": "stream",
          "name": "stderr",
          "text": [
            "Training Epoch 170/200: 100%|██████████| 1/1 [00:00<00:00, 70.52batch/s, accuracy=27.27%, loss=2.83]\n"
          ]
        },
        {
          "output_type": "stream",
          "name": "stdout",
          "text": [
            "Epoch [170/200], Loss: 2.8272, Accuracy: 27.27%, Error: 72.73%\n"
          ]
        },
        {
          "output_type": "stream",
          "name": "stderr",
          "text": [
            "Training Epoch 171/200: 100%|██████████| 1/1 [00:00<00:00, 72.78batch/s, accuracy=29.55%, loss=2.95]\n"
          ]
        },
        {
          "output_type": "stream",
          "name": "stdout",
          "text": [
            "Epoch [171/200], Loss: 2.9458, Accuracy: 29.55%, Error: 70.45%\n"
          ]
        },
        {
          "output_type": "stream",
          "name": "stderr",
          "text": [
            "Training Epoch 172/200: 100%|██████████| 1/1 [00:00<00:00, 68.10batch/s, accuracy=50.00%, loss=2.34]\n"
          ]
        },
        {
          "output_type": "stream",
          "name": "stdout",
          "text": [
            "Epoch [172/200], Loss: 2.3441, Accuracy: 50.00%, Error: 50.00%\n"
          ]
        },
        {
          "output_type": "stream",
          "name": "stderr",
          "text": [
            "Training Epoch 173/200: 100%|██████████| 1/1 [00:00<00:00, 74.27batch/s, accuracy=36.36%, loss=2.38]\n"
          ]
        },
        {
          "output_type": "stream",
          "name": "stdout",
          "text": [
            "Epoch [173/200], Loss: 2.3786, Accuracy: 36.36%, Error: 63.64%\n"
          ]
        },
        {
          "output_type": "stream",
          "name": "stderr",
          "text": [
            "Training Epoch 174/200: 100%|██████████| 1/1 [00:00<00:00, 78.11batch/s, accuracy=34.09%, loss=2.58]\n"
          ]
        },
        {
          "output_type": "stream",
          "name": "stdout",
          "text": [
            "Epoch [174/200], Loss: 2.5760, Accuracy: 34.09%, Error: 65.91%\n"
          ]
        },
        {
          "output_type": "stream",
          "name": "stderr",
          "text": [
            "Training Epoch 175/200: 100%|██████████| 1/1 [00:00<00:00, 66.04batch/s, accuracy=31.82%, loss=3.05]\n"
          ]
        },
        {
          "output_type": "stream",
          "name": "stdout",
          "text": [
            "Epoch [175/200], Loss: 3.0547, Accuracy: 31.82%, Error: 68.18%\n"
          ]
        },
        {
          "output_type": "stream",
          "name": "stderr",
          "text": [
            "Training Epoch 176/200: 100%|██████████| 1/1 [00:00<00:00, 64.03batch/s, accuracy=40.91%, loss=2.7]\n"
          ]
        },
        {
          "output_type": "stream",
          "name": "stdout",
          "text": [
            "Epoch [176/200], Loss: 2.7041, Accuracy: 40.91%, Error: 59.09%\n"
          ]
        },
        {
          "output_type": "stream",
          "name": "stderr",
          "text": [
            "Training Epoch 177/200: 100%|██████████| 1/1 [00:00<00:00, 55.47batch/s, accuracy=40.91%, loss=2.33]\n"
          ]
        },
        {
          "output_type": "stream",
          "name": "stdout",
          "text": [
            "Epoch [177/200], Loss: 2.3283, Accuracy: 40.91%, Error: 59.09%\n"
          ]
        },
        {
          "output_type": "stream",
          "name": "stderr",
          "text": [
            "Training Epoch 178/200: 100%|██████████| 1/1 [00:00<00:00, 66.85batch/s, accuracy=31.82%, loss=2.52]\n"
          ]
        },
        {
          "output_type": "stream",
          "name": "stdout",
          "text": [
            "Epoch [178/200], Loss: 2.5200, Accuracy: 31.82%, Error: 68.18%\n"
          ]
        },
        {
          "output_type": "stream",
          "name": "stderr",
          "text": [
            "Training Epoch 179/200: 100%|██████████| 1/1 [00:00<00:00, 46.36batch/s, accuracy=31.82%, loss=2.76]\n"
          ]
        },
        {
          "output_type": "stream",
          "name": "stdout",
          "text": [
            "Epoch [179/200], Loss: 2.7600, Accuracy: 31.82%, Error: 68.18%\n"
          ]
        },
        {
          "output_type": "stream",
          "name": "stderr",
          "text": [
            "Training Epoch 180/200: 100%|██████████| 1/1 [00:00<00:00, 56.50batch/s, accuracy=38.64%, loss=2.51]\n"
          ]
        },
        {
          "output_type": "stream",
          "name": "stdout",
          "text": [
            "Epoch [180/200], Loss: 2.5138, Accuracy: 38.64%, Error: 61.36%\n"
          ]
        },
        {
          "output_type": "stream",
          "name": "stderr",
          "text": [
            "Training Epoch 181/200: 100%|██████████| 1/1 [00:00<00:00, 59.34batch/s, accuracy=38.64%, loss=2.47]\n"
          ]
        },
        {
          "output_type": "stream",
          "name": "stdout",
          "text": [
            "Epoch [181/200], Loss: 2.4694, Accuracy: 38.64%, Error: 61.36%\n"
          ]
        },
        {
          "output_type": "stream",
          "name": "stderr",
          "text": [
            "Training Epoch 182/200: 100%|██████████| 1/1 [00:00<00:00, 58.37batch/s, accuracy=40.91%, loss=2.62]\n"
          ]
        },
        {
          "output_type": "stream",
          "name": "stdout",
          "text": [
            "Epoch [182/200], Loss: 2.6215, Accuracy: 40.91%, Error: 59.09%\n"
          ]
        },
        {
          "output_type": "stream",
          "name": "stderr",
          "text": [
            "Training Epoch 183/200: 100%|██████████| 1/1 [00:00<00:00, 58.74batch/s, accuracy=40.91%, loss=2.22]\n"
          ]
        },
        {
          "output_type": "stream",
          "name": "stdout",
          "text": [
            "Epoch [183/200], Loss: 2.2219, Accuracy: 40.91%, Error: 59.09%\n"
          ]
        },
        {
          "output_type": "stream",
          "name": "stderr",
          "text": [
            "Training Epoch 184/200: 100%|██████████| 1/1 [00:00<00:00, 84.06batch/s, accuracy=45.45%, loss=2.29] \n"
          ]
        },
        {
          "output_type": "stream",
          "name": "stdout",
          "text": [
            "Epoch [184/200], Loss: 2.2907, Accuracy: 45.45%, Error: 54.55%\n"
          ]
        },
        {
          "output_type": "stream",
          "name": "stderr",
          "text": [
            "Training Epoch 185/200: 100%|██████████| 1/1 [00:00<00:00, 45.98batch/s, accuracy=34.09%, loss=2.7]\n"
          ]
        },
        {
          "output_type": "stream",
          "name": "stdout",
          "text": [
            "Epoch [185/200], Loss: 2.7008, Accuracy: 34.09%, Error: 65.91%\n"
          ]
        },
        {
          "output_type": "stream",
          "name": "stderr",
          "text": [
            "Training Epoch 186/200: 100%|██████████| 1/1 [00:00<00:00, 57.00batch/s, accuracy=43.18%, loss=2.42]\n"
          ]
        },
        {
          "output_type": "stream",
          "name": "stdout",
          "text": [
            "Epoch [186/200], Loss: 2.4240, Accuracy: 43.18%, Error: 56.82%\n"
          ]
        },
        {
          "output_type": "stream",
          "name": "stderr",
          "text": [
            "Training Epoch 187/200: 100%|██████████| 1/1 [00:00<00:00, 52.11batch/s, accuracy=43.18%, loss=2.24]\n"
          ]
        },
        {
          "output_type": "stream",
          "name": "stdout",
          "text": [
            "Epoch [187/200], Loss: 2.2417, Accuracy: 43.18%, Error: 56.82%\n"
          ]
        },
        {
          "output_type": "stream",
          "name": "stderr",
          "text": [
            "Training Epoch 188/200: 100%|██████████| 1/1 [00:00<00:00, 47.51batch/s, accuracy=36.36%, loss=2.37]\n"
          ]
        },
        {
          "output_type": "stream",
          "name": "stdout",
          "text": [
            "Epoch [188/200], Loss: 2.3697, Accuracy: 36.36%, Error: 63.64%\n"
          ]
        },
        {
          "output_type": "stream",
          "name": "stderr",
          "text": [
            "Training Epoch 189/200: 100%|██████████| 1/1 [00:00<00:00, 50.77batch/s, accuracy=20.45%, loss=3.22]\n"
          ]
        },
        {
          "output_type": "stream",
          "name": "stdout",
          "text": [
            "Epoch [189/200], Loss: 3.2163, Accuracy: 20.45%, Error: 79.55%\n"
          ]
        },
        {
          "output_type": "stream",
          "name": "stderr",
          "text": [
            "Training Epoch 190/200: 100%|██████████| 1/1 [00:00<00:00, 61.45batch/s, accuracy=27.27%, loss=2.72]\n"
          ]
        },
        {
          "output_type": "stream",
          "name": "stdout",
          "text": [
            "Epoch [190/200], Loss: 2.7242, Accuracy: 27.27%, Error: 72.73%\n"
          ]
        },
        {
          "output_type": "stream",
          "name": "stderr",
          "text": [
            "Training Epoch 191/200: 100%|██████████| 1/1 [00:00<00:00, 62.84batch/s, accuracy=36.36%, loss=2.33]\n"
          ]
        },
        {
          "output_type": "stream",
          "name": "stdout",
          "text": [
            "Epoch [191/200], Loss: 2.3337, Accuracy: 36.36%, Error: 63.64%\n"
          ]
        },
        {
          "output_type": "stream",
          "name": "stderr",
          "text": [
            "Training Epoch 192/200: 100%|██████████| 1/1 [00:00<00:00, 78.92batch/s, accuracy=27.27%, loss=2.78] \n"
          ]
        },
        {
          "output_type": "stream",
          "name": "stdout",
          "text": [
            "Epoch [192/200], Loss: 2.7767, Accuracy: 27.27%, Error: 72.73%\n"
          ]
        },
        {
          "output_type": "stream",
          "name": "stderr",
          "text": [
            "Training Epoch 193/200: 100%|██████████| 1/1 [00:00<00:00, 71.94batch/s, accuracy=29.55%, loss=2.84]\n"
          ]
        },
        {
          "output_type": "stream",
          "name": "stdout",
          "text": [
            "Epoch [193/200], Loss: 2.8424, Accuracy: 29.55%, Error: 70.45%\n"
          ]
        },
        {
          "output_type": "stream",
          "name": "stderr",
          "text": [
            "Training Epoch 194/200: 100%|██████████| 1/1 [00:00<00:00, 71.92batch/s, accuracy=25.00%, loss=2.93]\n"
          ]
        },
        {
          "output_type": "stream",
          "name": "stdout",
          "text": [
            "Epoch [194/200], Loss: 2.9308, Accuracy: 25.00%, Error: 75.00%\n"
          ]
        },
        {
          "output_type": "stream",
          "name": "stderr",
          "text": [
            "Training Epoch 195/200: 100%|██████████| 1/1 [00:00<00:00, 81.58batch/s, accuracy=36.36%, loss=2.52] \n"
          ]
        },
        {
          "output_type": "stream",
          "name": "stdout",
          "text": [
            "Epoch [195/200], Loss: 2.5204, Accuracy: 36.36%, Error: 63.64%\n"
          ]
        },
        {
          "output_type": "stream",
          "name": "stderr",
          "text": [
            "Training Epoch 196/200: 100%|██████████| 1/1 [00:00<00:00, 66.91batch/s, accuracy=36.36%, loss=2.55]\n"
          ]
        },
        {
          "output_type": "stream",
          "name": "stdout",
          "text": [
            "Epoch [196/200], Loss: 2.5467, Accuracy: 36.36%, Error: 63.64%\n"
          ]
        },
        {
          "output_type": "stream",
          "name": "stderr",
          "text": [
            "Training Epoch 197/200: 100%|██████████| 1/1 [00:00<00:00, 77.29batch/s, accuracy=27.27%, loss=2.83]\n"
          ]
        },
        {
          "output_type": "stream",
          "name": "stdout",
          "text": [
            "Epoch [197/200], Loss: 2.8291, Accuracy: 27.27%, Error: 72.73%\n"
          ]
        },
        {
          "output_type": "stream",
          "name": "stderr",
          "text": [
            "Training Epoch 198/200: 100%|██████████| 1/1 [00:00<00:00, 58.62batch/s, accuracy=27.27%, loss=3.07]\n"
          ]
        },
        {
          "output_type": "stream",
          "name": "stdout",
          "text": [
            "Epoch [198/200], Loss: 3.0673, Accuracy: 27.27%, Error: 72.73%\n"
          ]
        },
        {
          "output_type": "stream",
          "name": "stderr",
          "text": [
            "Training Epoch 199/200: 100%|██████████| 1/1 [00:00<00:00, 47.12batch/s, accuracy=25.00%, loss=3.06]\n"
          ]
        },
        {
          "output_type": "stream",
          "name": "stdout",
          "text": [
            "Epoch [199/200], Loss: 3.0591, Accuracy: 25.00%, Error: 75.00%\n"
          ]
        },
        {
          "output_type": "stream",
          "name": "stderr",
          "text": [
            "Training Epoch 200/200: 100%|██████████| 1/1 [00:00<00:00, 58.88batch/s, accuracy=52.27%, loss=2.14]\n"
          ]
        },
        {
          "output_type": "stream",
          "name": "stdout",
          "text": [
            "Epoch [200/200], Loss: 2.1416, Accuracy: 52.27%, Error: 47.73%\n",
            "\n",
            "Best Accuracy: 52.27% achieved at Epoch 151\n",
            "\n",
            "Training Summary:\n",
            " Epoch     Loss  Accuracy (%)  Error (%)\n",
            "     1 4.640623      0.000000 100.000000\n",
            "     2 4.249823      2.272727  97.727273\n",
            "     3 3.813343      4.545455  95.454545\n",
            "     4 4.324601      4.545455  95.454545\n",
            "     5 3.948617     11.363636  88.636364\n",
            "     6 3.924428     13.636364  86.363636\n",
            "     7 3.747884      9.090909  90.909091\n",
            "     8 4.065053      9.090909  90.909091\n",
            "     9 3.271288     27.272727  72.727273\n",
            "    10 3.838468     13.636364  86.363636\n",
            "    11 3.441128     15.909091  84.090909\n",
            "    12 3.877403     13.636364  86.363636\n",
            "    13 3.419897     13.636364  86.363636\n",
            "    14 3.438943     18.181818  81.818182\n",
            "    15 3.212705     27.272727  72.727273\n",
            "    16 3.395824     22.727273  77.272727\n",
            "    17 3.429857     20.454545  79.545455\n",
            "    18 3.193701     18.181818  81.818182\n",
            "    19 3.222608     25.000000  75.000000\n",
            "    20 3.399091     20.454545  79.545455\n",
            "    21 3.258044     22.727273  77.272727\n",
            "    22 3.307266     11.363636  88.636364\n",
            "    23 2.738289     25.000000  75.000000\n",
            "    24 3.140877     22.727273  77.272727\n",
            "    25 3.037539     25.000000  75.000000\n",
            "    26 3.806024     13.636364  86.363636\n",
            "    27 2.893353     25.000000  75.000000\n",
            "    28 3.143823     22.727273  77.272727\n",
            "    29 3.275216     18.181818  81.818182\n",
            "    30 3.157373     25.000000  75.000000\n",
            "    31 2.966735     27.272727  72.727273\n",
            "    32 3.347529     18.181818  81.818182\n",
            "    33 3.178186     13.636364  86.363636\n",
            "    34 2.919264     29.545455  70.454545\n",
            "    35 3.083901     22.727273  77.272727\n",
            "    36 3.169290     25.000000  75.000000\n",
            "    37 3.161358     15.909091  84.090909\n",
            "    38 3.192607     20.454545  79.545455\n",
            "    39 3.233089     18.181818  81.818182\n",
            "    40 2.680202     36.363636  63.636364\n",
            "    41 2.847484     29.545455  70.454545\n",
            "    42 3.476800     18.181818  81.818182\n",
            "    43 2.947787     31.818182  68.181818\n",
            "    44 2.980504     29.545455  70.454545\n",
            "    45 3.031171     27.272727  72.727273\n",
            "    46 2.925254     27.272727  72.727273\n",
            "    47 3.116917     22.727273  77.272727\n",
            "    48 2.928063     29.545455  70.454545\n",
            "    49 3.365870     11.363636  88.636364\n",
            "    50 2.773706     31.818182  68.181818\n",
            "    51 3.237988     18.181818  81.818182\n",
            "    52 2.855686     25.000000  75.000000\n",
            "    53 3.202097     36.363636  63.636364\n",
            "    54 3.065528     31.818182  68.181818\n",
            "    55 2.504302     40.909091  59.090909\n",
            "    56 3.255710     27.272727  72.727273\n",
            "    57 2.590185     34.090909  65.909091\n",
            "    58 3.067352     34.090909  65.909091\n",
            "    59 2.821063     29.545455  70.454545\n",
            "    60 2.595709     31.818182  68.181818\n",
            "    61 2.620707     38.636364  61.363636\n",
            "    62 2.886497     36.363636  63.636364\n",
            "    63 3.237073     20.454545  79.545455\n",
            "    64 2.834619     31.818182  68.181818\n",
            "    65 2.988120     25.000000  75.000000\n",
            "    66 2.773082     34.090909  65.909091\n",
            "    67 3.104991     20.454545  79.545455\n",
            "    68 3.062809     13.636364  86.363636\n",
            "    69 2.807740     31.818182  68.181818\n",
            "    70 3.259860     25.000000  75.000000\n",
            "    71 2.421523     27.272727  72.727273\n",
            "    72 3.155266     29.545455  70.454545\n",
            "    73 2.565664     31.818182  68.181818\n",
            "    74 2.845555     27.272727  72.727273\n",
            "    75 2.679752     29.545455  70.454545\n",
            "    76 2.927836     22.727273  77.272727\n",
            "    77 3.190751     20.454545  79.545455\n",
            "    78 2.305717     36.363636  63.636364\n",
            "    79 2.598583     29.545455  70.454545\n",
            "    80 3.211387     22.727273  77.272727\n",
            "    81 2.940433     34.090909  65.909091\n",
            "    82 3.524836     15.909091  84.090909\n",
            "    83 2.955480     31.818182  68.181818\n",
            "    84 2.988826     20.454545  79.545455\n",
            "    85 2.851745     25.000000  75.000000\n",
            "    86 2.677546     29.545455  70.454545\n",
            "    87 2.713151     25.000000  75.000000\n",
            "    88 3.250063     18.181818  81.818182\n",
            "    89 2.980156     22.727273  77.272727\n",
            "    90 3.089654     31.818182  68.181818\n",
            "    91 3.080261     22.727273  77.272727\n",
            "    92 2.548787     27.272727  72.727273\n",
            "    93 2.923582     27.272727  72.727273\n",
            "    94 2.865036     27.272727  72.727273\n",
            "    95 3.487881     18.181818  81.818182\n",
            "    96 2.851349     31.818182  68.181818\n",
            "    97 3.400774     25.000000  75.000000\n",
            "    98 3.214937     15.909091  84.090909\n",
            "    99 2.798236     27.272727  72.727273\n",
            "   100 3.250011     15.909091  84.090909\n",
            "   101 2.643645     34.090909  65.909091\n",
            "   102 2.960055     27.272727  72.727273\n",
            "   103 2.931966     31.818182  68.181818\n",
            "   104 2.509769     29.545455  70.454545\n",
            "   105 2.621769     38.636364  61.363636\n",
            "   106 2.762582     31.818182  68.181818\n",
            "   107 2.585022     36.363636  63.636364\n",
            "   108 2.798169     27.272727  72.727273\n",
            "   109 2.603268     29.545455  70.454545\n",
            "   110 2.443382     22.727273  77.272727\n",
            "   111 3.205814     25.000000  75.000000\n",
            "   112 2.804340     34.090909  65.909091\n",
            "   113 2.560308     38.636364  61.363636\n",
            "   114 2.725155     34.090909  65.909091\n",
            "   115 3.166032     31.818182  68.181818\n",
            "   116 3.111069     31.818182  68.181818\n",
            "   117 2.550786     25.000000  75.000000\n",
            "   118 3.314082     22.727273  77.272727\n",
            "   119 2.745044     27.272727  72.727273\n",
            "   120 2.978290     27.272727  72.727273\n",
            "   121 3.147886     27.272727  72.727273\n",
            "   122 2.779876     34.090909  65.909091\n",
            "   123 2.942322     25.000000  75.000000\n",
            "   124 3.101876     25.000000  75.000000\n",
            "   125 3.037308     22.727273  77.272727\n",
            "   126 2.413984     36.363636  63.636364\n",
            "   127 2.972444     29.545455  70.454545\n",
            "   128 3.004328     20.454545  79.545455\n",
            "   129 2.447296     40.909091  59.090909\n",
            "   130 2.551881     38.636364  61.363636\n",
            "   131 2.433705     50.000000  50.000000\n",
            "   132 2.979624     25.000000  75.000000\n",
            "   133 2.663832     27.272727  72.727273\n",
            "   134 2.674569     34.090909  65.909091\n",
            "   135 2.707801     31.818182  68.181818\n",
            "   136 2.972043     25.000000  75.000000\n",
            "   137 3.078826     15.909091  84.090909\n",
            "   138 2.706421     29.545455  70.454545\n",
            "   139 2.540290     50.000000  50.000000\n",
            "   140 2.905209     36.363636  63.636364\n",
            "   141 3.001056     20.454545  79.545455\n",
            "   142 2.538023     36.363636  63.636364\n",
            "   143 2.597335     34.090909  65.909091\n",
            "   144 2.549221     38.636364  61.363636\n",
            "   145 2.923683     22.727273  77.272727\n",
            "   146 2.287792     38.636364  61.363636\n",
            "   147 2.391086     40.909091  59.090909\n",
            "   148 2.666798     29.545455  70.454545\n",
            "   149 2.647087     34.090909  65.909091\n",
            "   150 2.351175     36.363636  63.636364\n",
            "   151 2.115668     52.272727  47.727273\n",
            "   152 2.557123     40.909091  59.090909\n",
            "   153 2.532557     36.363636  63.636364\n",
            "   154 3.295922     20.454545  79.545455\n",
            "   155 2.319905     40.909091  59.090909\n",
            "   156 2.296070     45.454545  54.545455\n",
            "   157 2.468215     38.636364  61.363636\n",
            "   158 2.832228     25.000000  75.000000\n",
            "   159 2.799927     36.363636  63.636364\n",
            "   160 3.125564     20.454545  79.545455\n",
            "   161 2.946086     27.272727  72.727273\n",
            "   162 2.432219     34.090909  65.909091\n",
            "   163 2.202741     40.909091  59.090909\n",
            "   164 2.331968     40.909091  59.090909\n",
            "   165 2.755716     25.000000  75.000000\n",
            "   166 2.250504     40.909091  59.090909\n",
            "   167 2.996738     27.272727  72.727273\n",
            "   168 2.523000     38.636364  61.363636\n",
            "   169 3.261200     25.000000  75.000000\n",
            "   170 2.827204     27.272727  72.727273\n",
            "   171 2.945801     29.545455  70.454545\n",
            "   172 2.344124     50.000000  50.000000\n",
            "   173 2.378644     36.363636  63.636364\n",
            "   174 2.575974     34.090909  65.909091\n",
            "   175 3.054683     31.818182  68.181818\n",
            "   176 2.704134     40.909091  59.090909\n",
            "   177 2.328333     40.909091  59.090909\n",
            "   178 2.519995     31.818182  68.181818\n",
            "   179 2.759950     31.818182  68.181818\n",
            "   180 2.513829     38.636364  61.363636\n",
            "   181 2.469366     38.636364  61.363636\n",
            "   182 2.621488     40.909091  59.090909\n",
            "   183 2.221854     40.909091  59.090909\n",
            "   184 2.290721     45.454545  54.545455\n",
            "   185 2.700772     34.090909  65.909091\n",
            "   186 2.423983     43.181818  56.818182\n",
            "   187 2.241671     43.181818  56.818182\n",
            "   188 2.369710     36.363636  63.636364\n",
            "   189 3.216261     20.454545  79.545455\n",
            "   190 2.724188     27.272727  72.727273\n",
            "   191 2.333699     36.363636  63.636364\n",
            "   192 2.776665     27.272727  72.727273\n",
            "   193 2.842433     29.545455  70.454545\n",
            "   194 2.930795     25.000000  75.000000\n",
            "   195 2.520382     36.363636  63.636364\n",
            "   196 2.546654     36.363636  63.636364\n",
            "   197 2.829098     27.272727  72.727273\n",
            "   198 3.067258     27.272727  72.727273\n",
            "   199 3.059144     25.000000  75.000000\n",
            "   200 2.141560     52.272727  47.727273\n",
            "Best Accuracy: 52.27% at epoch 151\n"
          ]
        }
      ]
    },
    {
      "cell_type": "markdown",
      "metadata": {
        "id": "33oH6WO4ICG9"
      },
      "source": [
        "# **Plotting loss/acc**"
      ]
    },
    {
      "cell_type": "code",
      "execution_count": 47,
      "metadata": {
        "id": "LULWC2WqES75",
        "colab": {
          "base_uri": "https://localhost:8080/",
          "height": 351
        },
        "outputId": "a1b2c870-1dbc-4abf-ddde-40ab37d13b36"
      },
      "outputs": [
        {
          "output_type": "display_data",
          "data": {
            "text/plain": [
              "<Figure size 1500x400 with 2 Axes>"
            ],
            "image/png": "[encoded data removed]"
          },
          "metadata": {}
        }
      ],
      "source": [
        "import matplotlib.pyplot as plt\n",
        "\n",
        "def plot_losses_together(losses, accuracies):\n",
        "    \"\"\"Plots training losses and accuracies with line and scatter in one figure\"\"\"\n",
        "    fig, axs = plt.subplots(1, 2, figsize=(15, 4))  # 2x1 grid of subplots\n",
        "\n",
        "    # Loss plot (line and scatter on the same axes)\n",
        "    epochs = range(1, len(losses) + 1)\n",
        "    axs[0].plot(epochs, losses, label='Training Loss (line)', color='blue', linestyle='-')\n",
        "    axs[0].scatter(epochs, losses, color='red', label='Training Loss (scatter)')\n",
        "    axs[0].set_title('Loss Over Epochs')\n",
        "    axs[0].set_xlabel('Epoch')\n",
        "    axs[0].set_ylabel('Loss')\n",
        "    axs[0].grid(True)\n",
        "    axs[0].legend()\n",
        "\n",
        "    # Accuracy plot (line and scatter on the same axes)\n",
        "    axs[1].plot(epochs, accuracies, label='Training Accuracy (line)', color='green', linestyle='-')\n",
        "    axs[1].scatter(epochs, accuracies, color='orange', label='Training Accuracy (scatter)')\n",
        "    axs[1].set_title('Accuracy Over Epochs')\n",
        "    axs[1].set_xlabel('Epoch')\n",
        "    axs[1].set_ylabel('Accuracy (%)')\n",
        "    axs[1].grid(True)\n",
        "    axs[1].legend()\n",
        "\n",
        "    plt.tight_layout()\n",
        "    plt.show()\n",
        "\n",
        "# Example usage with sample data (you can replace these with your actual `epoch_losses` and `epoch_accuracies` lists)\n",
        "plot_losses_together(epoch_losses, epoch_accuracies)\n"
      ]
    },
    {
      "cell_type": "markdown",
      "metadata": {
        "id": "WUmYWrqSBKyJ"
      },
      "source": [
        "# **Loss curve using different charts**"
      ]
    },
    {
      "cell_type": "code",
      "execution_count": 50,
      "metadata": {
        "id": "gQGphhL1-VyT",
        "colab": {
          "base_uri": "https://localhost:8080/",
          "height": 736
        },
        "outputId": "840c070d-d84c-470f-a782-8fc046bea6f1"
      },
      "outputs": [
        {
          "output_type": "display_data",
          "data": {
            "text/plain": [
              "<Figure size 1200x800 with 4 Axes>"
            ],
            "image/png": "[encoded data removed]"
          },
          "metadata": {}
        }
      ],
      "source": [
        "import matplotlib.pyplot as plt\n",
        "import seaborn as sns\n",
        "\n",
        "# Set a more attractive style using seaborn\n",
        "sns.set(style=\"whitegrid\")\n",
        "\n",
        "# Plotting function for training losses with different chart styles\n",
        "def plot_losses_together(losses):\n",
        "    \"\"\"Plots training losses using different types of plots with enhanced visuals\"\"\"\n",
        "    fig, axs = plt.subplots(2, 2, figsize=(12, 8))  # 2x2 grid of subplots\n",
        "\n",
        "    # Line plot with markers\n",
        "    axs[0, 0].plot(range(1, len(losses) + 1), losses, label='Training Loss', color='royalblue', marker='o', markersize=6, linestyle='--')\n",
        "    axs[0, 0].set_title('Line Plot', fontsize=14, fontweight='bold')\n",
        "    axs[0, 0].set_xlabel('Epoch', fontsize=12)\n",
        "    axs[0, 0].set_ylabel('Loss', fontsize=12)\n",
        "    axs[0, 0].legend(loc='best')\n",
        "    axs[0, 0].grid(True, linestyle='--', alpha=0.7)\n",
        "\n",
        "    # Scatter plot with larger markers\n",
        "    axs[0, 1].scatter(range(1, len(losses) + 1), losses, label='Training Loss', color='crimson', s=70, alpha=0.8)\n",
        "    axs[0, 1].set_title('Scatter Plot', fontsize=14, fontweight='bold')\n",
        "    axs[0, 1].set_xlabel('Epoch', fontsize=12)\n",
        "    axs[0, 1].set_ylabel('Loss', fontsize=12)\n",
        "    axs[0, 1].legend(loc='best')\n",
        "    axs[0, 1].grid(True, linestyle='--', alpha=0.7)\n",
        "\n",
        "    # Bar plot with alpha transparency\n",
        "    axs[1, 0].bar(range(1, len(losses) + 1), losses, label='Training Loss', color='mediumseagreen', alpha=0.85)\n",
        "    axs[1, 0].set_title('Bar Plot', fontsize=14, fontweight='bold')\n",
        "    axs[1, 0].set_xlabel('Epoch', fontsize=12)\n",
        "    axs[1, 0].set_ylabel('Loss', fontsize=12)\n",
        "    axs[1, 0].legend(loc='best')\n",
        "    axs[1, 0].grid(True, linestyle='--', alpha=0.7)\n",
        "\n",
        "    # Histogram plot with KDE overlay\n",
        "    sns.histplot(losses, bins=10, kde=True, color='mediumpurple', ax=axs[1, 1], alpha=0.7)\n",
        "    axs[1, 1].set_title('Histogram with KDE', fontsize=14, fontweight='bold')\n",
        "    axs[1, 1].set_xlabel('Loss Value', fontsize=12)\n",
        "    axs[1, 1].set_ylabel('Frequency', fontsize=12)\n",
        "    axs[1, 1].grid(True, linestyle='--', alpha=0.7)\n",
        "\n",
        "    # Adjust layout for better spacing\n",
        "    plt.tight_layout(pad=3.0)\n",
        "    plt.show()\n",
        "\n",
        "plot_losses_together(epoch_losses)"
      ]
    },
    {
      "cell_type": "markdown",
      "metadata": {
        "id": "qYnks38cCNTU"
      },
      "source": [
        "# **Accuracy curve using different graphs**"
      ]
    },
    {
      "cell_type": "code",
      "execution_count": 52,
      "metadata": {
        "id": "FaKy2Mx1-6lh",
        "colab": {
          "base_uri": "https://localhost:8080/",
          "height": 736
        },
        "outputId": "58c94fbf-f03f-4491-f866-b755fe030702"
      },
      "outputs": [
        {
          "output_type": "display_data",
          "data": {
            "text/plain": [
              "<Figure size 1200x800 with 4 Axes>"
            ],
            "image/png": "[encoded data removed]"
          },
          "metadata": {}
        }
      ],
      "source": [
        "import matplotlib.pyplot as plt\n",
        "import seaborn as sns\n",
        "\n",
        "# Set an attractive style using seaborn\n",
        "sns.set(style=\"whitegrid\")\n",
        "\n",
        "# Enhanced plotting function for accuracies with multiple plot types in one frame\n",
        "def plot_accuracies_together(accuracies):\n",
        "    \"\"\"\n",
        "    Plots training accuracies using different types of plots with enhanced visuals\n",
        "    Args:\n",
        "    accuracies: List of accuracy values to plot for each epoch\n",
        "    \"\"\"\n",
        "    fig, axs = plt.subplots(2, 2, figsize=(12, 8))  # 2x2 grid of subplots, larger size\n",
        "\n",
        "    # Line plot with markers for accuracy\n",
        "    axs[0, 0].plot(range(1, len(accuracies) + 1), accuracies, label='Training Accuracy', color='royalblue', marker='o', markersize=6, linestyle='--')\n",
        "    axs[0, 0].set_title('Accuracy Over Epochs - Line Plot', fontsize=14, fontweight='bold')\n",
        "    axs[0, 0].set_xlabel('Epoch', fontsize=12)\n",
        "    axs[0, 0].set_ylabel('Accuracy (%)', fontsize=12)\n",
        "    axs[0, 0].legend(loc='best')\n",
        "    axs[0, 0].grid(True, linestyle='--', alpha=0.7)\n",
        "\n",
        "    # Scatter plot with larger markers for accuracy\n",
        "    axs[0, 1].scatter(range(1, len(accuracies) + 1), accuracies, label='Training Accuracy', color='crimson', s=70, alpha=0.8)\n",
        "    axs[0, 1].set_title('Accuracy Over Epochs - Scatter Plot', fontsize=14, fontweight='bold')\n",
        "    axs[0, 1].set_xlabel('Epoch', fontsize=12)\n",
        "    axs[0, 1].set_ylabel('Accuracy (%)', fontsize=12)\n",
        "    axs[0, 1].legend(loc='best')\n",
        "    axs[0, 1].grid(True, linestyle='--', alpha=0.7)\n",
        "\n",
        "    # Bar plot for accuracy\n",
        "    axs[1, 0].bar(range(1, len(accuracies) + 1), accuracies, label='Training Accuracy', color='mediumseagreen', alpha=0.85)\n",
        "    axs[1, 0].set_title('Accuracy Over Epochs - Bar Plot', fontsize=14, fontweight='bold')\n",
        "    axs[1, 0].set_xlabel('Epoch', fontsize=12)\n",
        "    axs[1, 0].set_ylabel('Accuracy (%)', fontsize=12)\n",
        "    axs[1, 0].legend(loc='best')\n",
        "    axs[1, 0].grid(True, linestyle='--', alpha=0.7)\n",
        "\n",
        "    # Histogram plot with KDE for accuracy distribution\n",
        "    sns.histplot(accuracies, bins=10, kde=True, color='mediumpurple', ax=axs[1, 1], alpha=0.7)\n",
        "    axs[1, 1].set_title('Accuracy Distribution - Histogram with KDE', fontsize=14, fontweight='bold')\n",
        "    axs[1, 1].set_xlabel('Accuracy (%)', fontsize=12)\n",
        "    axs[1, 1].set_ylabel('Frequency', fontsize=12)\n",
        "    axs[1, 1].grid(True, linestyle='--', alpha=0.7)\n",
        "\n",
        "    # Adjust layout for better spacing\n",
        "    plt.tight_layout(pad=3.0)\n",
        "    plt.show()\n",
        "\n",
        "# Example usage: Replace accuracies with your actual accuracy data from training\n",
        "# accuracies = [80, 85, 88, 90, 92, 93, 94, 95, 96, 97]  # Replace this with your accuracy data\n",
        "plot_accuracies_together(epoch_accuracies)\n"
      ]
    }
  ],
  "metadata": {
    "accelerator": "GPU",
    "colab": {
      "gpuType": "T4",
      "provenance": []
    },
    "kernelspec": {
      "display_name": "Python 3",
      "name": "python3"
    },
    "language_info": {
      "name": "python"
    }
  },
  "nbformat": 4,
  "nbformat_minor": 0
}